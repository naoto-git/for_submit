{
  "nbformat": 4,
  "nbformat_minor": 0,
  "metadata": {
    "colab": {
      "name": "bert_sa_pytorch_IMDB",
      "provenance": [],
      "collapsed_sections": [],
      "authorship_tag": "ABX9TyOORtYSH1hB+haGow70FGKF",
      "include_colab_link": true
    },
    "kernelspec": {
      "name": "python3",
      "display_name": "Python 3"
    },
    "accelerator": "GPU",
    "widgets": {
      "application/vnd.jupyter.widget-state+json": {
        "7aaf012a04094dd5ae774e724ee6e060": {
          "model_module": "@jupyter-widgets/controls",
          "model_name": "HBoxModel",
          "state": {
            "_view_name": "HBoxView",
            "_dom_classes": [],
            "_model_name": "HBoxModel",
            "_view_module": "@jupyter-widgets/controls",
            "_model_module_version": "1.5.0",
            "_view_count": null,
            "_view_module_version": "1.5.0",
            "box_style": "",
            "layout": "IPY_MODEL_54a17f861c0c455e9e6e246afac15879",
            "_model_module": "@jupyter-widgets/controls",
            "children": [
              "IPY_MODEL_919ef02ef14b4d488633c8f39de0738b",
              "IPY_MODEL_c82d103e54504343a76124b30fa36d2e"
            ]
          }
        },
        "54a17f861c0c455e9e6e246afac15879": {
          "model_module": "@jupyter-widgets/base",
          "model_name": "LayoutModel",
          "state": {
            "_view_name": "LayoutView",
            "grid_template_rows": null,
            "right": null,
            "justify_content": null,
            "_view_module": "@jupyter-widgets/base",
            "overflow": null,
            "_model_module_version": "1.2.0",
            "_view_count": null,
            "flex_flow": null,
            "width": null,
            "min_width": null,
            "border": null,
            "align_items": null,
            "bottom": null,
            "_model_module": "@jupyter-widgets/base",
            "top": null,
            "grid_column": null,
            "overflow_y": null,
            "overflow_x": null,
            "grid_auto_flow": null,
            "grid_area": null,
            "grid_template_columns": null,
            "flex": null,
            "_model_name": "LayoutModel",
            "justify_items": null,
            "grid_row": null,
            "max_height": null,
            "align_content": null,
            "visibility": null,
            "align_self": null,
            "height": null,
            "min_height": null,
            "padding": null,
            "grid_auto_rows": null,
            "grid_gap": null,
            "max_width": null,
            "order": null,
            "_view_module_version": "1.2.0",
            "grid_template_areas": null,
            "object_position": null,
            "object_fit": null,
            "grid_auto_columns": null,
            "margin": null,
            "display": null,
            "left": null
          }
        },
        "919ef02ef14b4d488633c8f39de0738b": {
          "model_module": "@jupyter-widgets/controls",
          "model_name": "FloatProgressModel",
          "state": {
            "_view_name": "ProgressView",
            "style": "IPY_MODEL_24ecd394898748f389e0cb91ea94a128",
            "_dom_classes": [],
            "description": "Downloading: 100%",
            "_model_name": "FloatProgressModel",
            "bar_style": "success",
            "max": 231508,
            "_view_module": "@jupyter-widgets/controls",
            "_model_module_version": "1.5.0",
            "value": 231508,
            "_view_count": null,
            "_view_module_version": "1.5.0",
            "orientation": "horizontal",
            "min": 0,
            "description_tooltip": null,
            "_model_module": "@jupyter-widgets/controls",
            "layout": "IPY_MODEL_93270e72fc3d4e4caf7d40105528fd12"
          }
        },
        "c82d103e54504343a76124b30fa36d2e": {
          "model_module": "@jupyter-widgets/controls",
          "model_name": "HTMLModel",
          "state": {
            "_view_name": "HTMLView",
            "style": "IPY_MODEL_0438521188384217b2162168057a3b08",
            "_dom_classes": [],
            "description": "",
            "_model_name": "HTMLModel",
            "placeholder": "​",
            "_view_module": "@jupyter-widgets/controls",
            "_model_module_version": "1.5.0",
            "value": " 232k/232k [00:00&lt;00:00, 781kB/s]",
            "_view_count": null,
            "_view_module_version": "1.5.0",
            "description_tooltip": null,
            "_model_module": "@jupyter-widgets/controls",
            "layout": "IPY_MODEL_82b5e76a4a7d488d9741f52ba00e81a9"
          }
        },
        "24ecd394898748f389e0cb91ea94a128": {
          "model_module": "@jupyter-widgets/controls",
          "model_name": "ProgressStyleModel",
          "state": {
            "_view_name": "StyleView",
            "_model_name": "ProgressStyleModel",
            "description_width": "initial",
            "_view_module": "@jupyter-widgets/base",
            "_model_module_version": "1.5.0",
            "_view_count": null,
            "_view_module_version": "1.2.0",
            "bar_color": null,
            "_model_module": "@jupyter-widgets/controls"
          }
        },
        "93270e72fc3d4e4caf7d40105528fd12": {
          "model_module": "@jupyter-widgets/base",
          "model_name": "LayoutModel",
          "state": {
            "_view_name": "LayoutView",
            "grid_template_rows": null,
            "right": null,
            "justify_content": null,
            "_view_module": "@jupyter-widgets/base",
            "overflow": null,
            "_model_module_version": "1.2.0",
            "_view_count": null,
            "flex_flow": null,
            "width": null,
            "min_width": null,
            "border": null,
            "align_items": null,
            "bottom": null,
            "_model_module": "@jupyter-widgets/base",
            "top": null,
            "grid_column": null,
            "overflow_y": null,
            "overflow_x": null,
            "grid_auto_flow": null,
            "grid_area": null,
            "grid_template_columns": null,
            "flex": null,
            "_model_name": "LayoutModel",
            "justify_items": null,
            "grid_row": null,
            "max_height": null,
            "align_content": null,
            "visibility": null,
            "align_self": null,
            "height": null,
            "min_height": null,
            "padding": null,
            "grid_auto_rows": null,
            "grid_gap": null,
            "max_width": null,
            "order": null,
            "_view_module_version": "1.2.0",
            "grid_template_areas": null,
            "object_position": null,
            "object_fit": null,
            "grid_auto_columns": null,
            "margin": null,
            "display": null,
            "left": null
          }
        },
        "0438521188384217b2162168057a3b08": {
          "model_module": "@jupyter-widgets/controls",
          "model_name": "DescriptionStyleModel",
          "state": {
            "_view_name": "StyleView",
            "_model_name": "DescriptionStyleModel",
            "description_width": "",
            "_view_module": "@jupyter-widgets/base",
            "_model_module_version": "1.5.0",
            "_view_count": null,
            "_view_module_version": "1.2.0",
            "_model_module": "@jupyter-widgets/controls"
          }
        },
        "82b5e76a4a7d488d9741f52ba00e81a9": {
          "model_module": "@jupyter-widgets/base",
          "model_name": "LayoutModel",
          "state": {
            "_view_name": "LayoutView",
            "grid_template_rows": null,
            "right": null,
            "justify_content": null,
            "_view_module": "@jupyter-widgets/base",
            "overflow": null,
            "_model_module_version": "1.2.0",
            "_view_count": null,
            "flex_flow": null,
            "width": null,
            "min_width": null,
            "border": null,
            "align_items": null,
            "bottom": null,
            "_model_module": "@jupyter-widgets/base",
            "top": null,
            "grid_column": null,
            "overflow_y": null,
            "overflow_x": null,
            "grid_auto_flow": null,
            "grid_area": null,
            "grid_template_columns": null,
            "flex": null,
            "_model_name": "LayoutModel",
            "justify_items": null,
            "grid_row": null,
            "max_height": null,
            "align_content": null,
            "visibility": null,
            "align_self": null,
            "height": null,
            "min_height": null,
            "padding": null,
            "grid_auto_rows": null,
            "grid_gap": null,
            "max_width": null,
            "order": null,
            "_view_module_version": "1.2.0",
            "grid_template_areas": null,
            "object_position": null,
            "object_fit": null,
            "grid_auto_columns": null,
            "margin": null,
            "display": null,
            "left": null
          }
        }
      }
    }
  },
  "cells": [
    {
      "cell_type": "markdown",
      "metadata": {
        "id": "view-in-github",
        "colab_type": "text"
      },
      "source": [
        "<a href=\"https://colab.research.google.com/github/naoto-git/for_submit/blob/main/bert_sa_pytorch_IMDB.ipynb\" target=\"_parent\"><img src=\"https://colab.research.google.com/assets/colab-badge.svg\" alt=\"Open In Colab\"/></a>"
      ]
    },
    {
      "cell_type": "code",
      "metadata": {
        "id": "qjH9rDGkaRgz"
      },
      "source": [
        "import os\n",
        "import re\n",
        "from tqdm import tqdm\n",
        "import numpy as np\n",
        "import pandas as pd\n",
        "import matplotlib.pyplot as plt\n",
        "\n",
        "%matplotlib inline"
      ],
      "execution_count": 65,
      "outputs": []
    },
    {
      "cell_type": "markdown",
      "metadata": {
        "id": "BlOi5ID4c2-j"
      },
      "source": [
        "Load Dataset"
      ]
    },
    {
      "cell_type": "code",
      "metadata": {
        "id": "-awSuvgFsHh8",
        "outputId": "06fd2754-d4bd-4c40-ae49-0551e70297ae",
        "colab": {
          "base_uri": "https://localhost:8080/",
          "height": 425
        }
      },
      "source": [
        "from google.colab import drive\n",
        "drive.mount('/content/drive')\n",
        "data = pd.read_csv(\"/content/drive/My Drive/dataset/IMDB_Dataset.csv\")\n",
        "# data = data[:1000]\n",
        "data[\"sentiment\"] = data[\"sentiment\"].replace(\"positive\", 1)\n",
        "data[\"sentiment\"] = data[\"sentiment\"].replace(\"negative\", 0)\n",
        "\n",
        "# Load data and set labels\n",
        "data_p = data[data[\"sentiment\"]==1]\n",
        "data_n = data[data[\"sentiment\"]==0]\n",
        "\n",
        "data"
      ],
      "execution_count": 88,
      "outputs": [
        {
          "output_type": "stream",
          "text": [
            "Drive already mounted at /content/drive; to attempt to forcibly remount, call drive.mount(\"/content/drive\", force_remount=True).\n"
          ],
          "name": "stdout"
        },
        {
          "output_type": "execute_result",
          "data": {
            "text/html": [
              "<div>\n",
              "<style scoped>\n",
              "    .dataframe tbody tr th:only-of-type {\n",
              "        vertical-align: middle;\n",
              "    }\n",
              "\n",
              "    .dataframe tbody tr th {\n",
              "        vertical-align: top;\n",
              "    }\n",
              "\n",
              "    .dataframe thead th {\n",
              "        text-align: right;\n",
              "    }\n",
              "</style>\n",
              "<table border=\"1\" class=\"dataframe\">\n",
              "  <thead>\n",
              "    <tr style=\"text-align: right;\">\n",
              "      <th></th>\n",
              "      <th>review</th>\n",
              "      <th>sentiment</th>\n",
              "    </tr>\n",
              "  </thead>\n",
              "  <tbody>\n",
              "    <tr>\n",
              "      <th>0</th>\n",
              "      <td>One of the other reviewers has mentioned that ...</td>\n",
              "      <td>1</td>\n",
              "    </tr>\n",
              "    <tr>\n",
              "      <th>1</th>\n",
              "      <td>A wonderful little production. &lt;br /&gt;&lt;br /&gt;The...</td>\n",
              "      <td>1</td>\n",
              "    </tr>\n",
              "    <tr>\n",
              "      <th>2</th>\n",
              "      <td>I thought this was a wonderful way to spend ti...</td>\n",
              "      <td>1</td>\n",
              "    </tr>\n",
              "    <tr>\n",
              "      <th>3</th>\n",
              "      <td>Basically there's a family where a little boy ...</td>\n",
              "      <td>0</td>\n",
              "    </tr>\n",
              "    <tr>\n",
              "      <th>4</th>\n",
              "      <td>Petter Mattei's \"Love in the Time of Money\" is...</td>\n",
              "      <td>1</td>\n",
              "    </tr>\n",
              "    <tr>\n",
              "      <th>...</th>\n",
              "      <td>...</td>\n",
              "      <td>...</td>\n",
              "    </tr>\n",
              "    <tr>\n",
              "      <th>49995</th>\n",
              "      <td>I thought this movie did a down right good job...</td>\n",
              "      <td>1</td>\n",
              "    </tr>\n",
              "    <tr>\n",
              "      <th>49996</th>\n",
              "      <td>Bad plot, bad dialogue, bad acting, idiotic di...</td>\n",
              "      <td>0</td>\n",
              "    </tr>\n",
              "    <tr>\n",
              "      <th>49997</th>\n",
              "      <td>I am a Catholic taught in parochial elementary...</td>\n",
              "      <td>0</td>\n",
              "    </tr>\n",
              "    <tr>\n",
              "      <th>49998</th>\n",
              "      <td>I'm going to have to disagree with the previou...</td>\n",
              "      <td>0</td>\n",
              "    </tr>\n",
              "    <tr>\n",
              "      <th>49999</th>\n",
              "      <td>No one expects the Star Trek movies to be high...</td>\n",
              "      <td>0</td>\n",
              "    </tr>\n",
              "  </tbody>\n",
              "</table>\n",
              "<p>50000 rows × 2 columns</p>\n",
              "</div>"
            ],
            "text/plain": [
              "                                                  review  sentiment\n",
              "0      One of the other reviewers has mentioned that ...          1\n",
              "1      A wonderful little production. <br /><br />The...          1\n",
              "2      I thought this was a wonderful way to spend ti...          1\n",
              "3      Basically there's a family where a little boy ...          0\n",
              "4      Petter Mattei's \"Love in the Time of Money\" is...          1\n",
              "...                                                  ...        ...\n",
              "49995  I thought this movie did a down right good job...          1\n",
              "49996  Bad plot, bad dialogue, bad acting, idiotic di...          0\n",
              "49997  I am a Catholic taught in parochial elementary...          0\n",
              "49998  I'm going to have to disagree with the previou...          0\n",
              "49999  No one expects the Star Trek movies to be high...          0\n",
              "\n",
              "[50000 rows x 2 columns]"
            ]
          },
          "metadata": {
            "tags": []
          },
          "execution_count": 88
        }
      ]
    },
    {
      "cell_type": "code",
      "metadata": {
        "id": "WXEz9VYQoTMG",
        "outputId": "30c825b9-6c60-400b-d7f5-226359d032b5",
        "colab": {
          "base_uri": "https://localhost:8080/"
        }
      },
      "source": [
        "from sklearn.model_selection import train_test_split\n",
        "\n",
        "X = np.array(data['review'])\n",
        "y = np.array(data['sentiment'])\n",
        "\n",
        "X_train, X_test, y_train, y_test = train_test_split(X, y, test_size=0.2, random_state=2020)\n",
        "\n",
        "X_train, X_val, y_train, y_val = train_test_split(X_train, y_train, test_size=0.2, random_state=2020)\n",
        "X_train"
      ],
      "execution_count": 89,
      "outputs": [
        {
          "output_type": "execute_result",
          "data": {
            "text/plain": [
              "array([\"Most book adaptations are bad but this film left out key parts of the storyline and changed the description and some characters. They rewired the storyline and combined scenes and changed the order. They added ridiculous things into it that never happened in the book and would never happen.<br /><br />If i hadn't read the book beforehand it would have been an incredibly dull film, it didn't make you care about the characters, like them or dislike them. It turns the characters into jokes.<br /><br />Awful.<br /><br />Ridiculous.<br /><br />Waste of two hours of my life.\",\n",
              "       \"This was an excellent show. It came on PBS back home in Chicago and I remember Cindy Herron (From EnVogue) played the teen aged daughter. The show dealt with subjects such as sex, peer pressure and puberty. IT was about a middle class black family who had a teen aged daughter and son who moved to a middle class neighborhood from Oakland or somewhere (I can't remember). I remember several episodes but the one I remember most was when their cousin got her period for the first time. I was probably 7-8 when I first watched it and I was able to keep up with the program. This was a great show. I can't remember the name of the guy who played the son on the show, but I always got him confused with Kevin Hooks.\",\n",
              "       'I missed almost all of the first season, but when the other shows went to reruns, I started watching. I ended up buying the entire first season off iTunes. This is now one of my favorite comedy shows. Patrick Warburton is the key. His dry sense of humor has me rolling all the time. David Spade is funny, but sometimes a little Russell goes a long way. I enjoy the other cast members more (but not saying he doesn\\'t add to the show).<br /><br />Do yourself a favor. If you haven\\'t checked this one out, give it a try. If you can catch the episode where \"Jeff\" goes to the sperm bank, you will see how good this show is.<br /><br />I hope this series has a long run.',\n",
              "       ...,\n",
              "       \"This is a bad, bad movie. I'm an actual fencer: trust me when I say that this film's pretension of accuracy is just that. This is especially true during that vile little scene when the fencers are combining footwork with 80's pop. The ending is predictable, and the movie is a bore from start to finish. Horrible.\",\n",
              "       \"I really like this movie. I can watch it on a regular basis and not tire of it. I suppose that is one of my criteria for a great movie.<br /><br />The story is very interesting. It introduces us to 6 characters; each has a unique kung fu style that is very secret and very deadly. Each of these characters are trained by the same master but their identities are kept secret from each other. The dying master sends the 6th venom, his last student, to attempt to make right the wrongs that he suspects some of his students have committed.<br /><br />How will the last pupil find the other venoms? How will he know which of them is bad? The way these questions are answered is part of what makes this movie great.<br /><br />We also get to see the venoms fight each other in every combination. It is fun to see how their styles match up against each other.<br /><br />If you want to see if you like kung fu movies, this is a good movie to start with. It doesn't get any better than this.\",\n",
              "       \"In sum, overlong and filled with more subplots than swiss cheese has holes! The director and co-writer says he wanted to mix genres - in this case drama and comedy. Well, at least here, these two mix like vinegar and oil. To boot, the comedy is not very funny and juvenile. Additionally, the film is not really realistic. Liberties are taken regarding the legal system in committing French Citizens against their will and the apparent ease of absconding with drugs in French Hospitals. I watched this film on my big screen TV at home and found myself shouting at the film to move on. Eventually toward the end I fast forwarded the final long speech one of the main characters makes to his ex-lover's son. By that time I was worn out by the preposterous confused plot that deals with a dead lover, marriage of convenience and a nutty ex-lover. At times the plot diverts to the families of the two main characters and then reverts back to one of them - either Ismael or primarily Nora. To the detriment of the audience, viewpoints keep changing from Nora and Ismael, her ex-lover confined against his will in a psychiatric hospital. There probably are two potentially interesting films here neither of which are well developed. The epilogue does not really wrap up many of the sub-plots and seems to want the viewer to believe Nora somehow will find happiness although given her circumstances in real life the chances are equivalent to a snow ball's chance in hell. The actors do their best and are appealing, but this is not enough to overcome all the glaring faults of poor writing, editing and lack of focus.\"],\n",
              "      dtype=object)"
            ]
          },
          "metadata": {
            "tags": []
          },
          "execution_count": 89
        }
      ]
    },
    {
      "cell_type": "code",
      "metadata": {
        "id": "1hVuhrFHr7PE",
        "outputId": "967a9c66-620a-498f-fc54-265133abd9ae",
        "colab": {
          "base_uri": "https://localhost:8080/",
          "height": 198
        }
      },
      "source": [
        "# Load test data\n",
        "test_data = pd.read_csv('data/test_data.csv')\n",
        "\n",
        "# Keep important columns\n",
        "test_data = test_data[['id', 'tweet']]\n",
        "\n",
        "# Display 5 samples from the test data\n",
        "test_data.sample(5)"
      ],
      "execution_count": null,
      "outputs": [
        {
          "output_type": "execute_result",
          "data": {
            "text/html": [
              "<div>\n",
              "<style scoped>\n",
              "    .dataframe tbody tr th:only-of-type {\n",
              "        vertical-align: middle;\n",
              "    }\n",
              "\n",
              "    .dataframe tbody tr th {\n",
              "        vertical-align: top;\n",
              "    }\n",
              "\n",
              "    .dataframe thead th {\n",
              "        text-align: right;\n",
              "    }\n",
              "</style>\n",
              "<table border=\"1\" class=\"dataframe\">\n",
              "  <thead>\n",
              "    <tr style=\"text-align: right;\">\n",
              "      <th></th>\n",
              "      <th>id</th>\n",
              "      <th>tweet</th>\n",
              "    </tr>\n",
              "  </thead>\n",
              "  <tbody>\n",
              "    <tr>\n",
              "      <th>1645</th>\n",
              "      <td>63374</td>\n",
              "      <td>@CNNMoney Talk with your $$ people @Orbitz or ...</td>\n",
              "    </tr>\n",
              "    <tr>\n",
              "      <th>222</th>\n",
              "      <td>8293</td>\n",
              "      <td>@united please follow back so that i may discu...</td>\n",
              "    </tr>\n",
              "    <tr>\n",
              "      <th>565</th>\n",
              "      <td>22326</td>\n",
              "      <td>@united Sorry, but 604 closed door earlier tha...</td>\n",
              "    </tr>\n",
              "    <tr>\n",
              "      <th>873</th>\n",
              "      <td>34772</td>\n",
              "      <td>@Tunattraction @SouthwestAir  why didn't they ...</td>\n",
              "    </tr>\n",
              "    <tr>\n",
              "      <th>2540</th>\n",
              "      <td>97125</td>\n",
              "      <td>Back in NYC, recovering from an amazing trip t...</td>\n",
              "    </tr>\n",
              "  </tbody>\n",
              "</table>\n",
              "</div>"
            ],
            "text/plain": [
              "         id                                              tweet\n",
              "1645  63374  @CNNMoney Talk with your $$ people @Orbitz or ...\n",
              "222    8293  @united please follow back so that i may discu...\n",
              "565   22326  @united Sorry, but 604 closed door earlier tha...\n",
              "873   34772  @Tunattraction @SouthwestAir  why didn't they ...\n",
              "2540  97125  Back in NYC, recovering from an amazing trip t..."
            ]
          },
          "metadata": {
            "tags": []
          },
          "execution_count": 5
        }
      ]
    },
    {
      "cell_type": "markdown",
      "metadata": {
        "id": "kDp_tS_Ddref"
      },
      "source": [
        "Set up GPU"
      ]
    },
    {
      "cell_type": "code",
      "metadata": {
        "id": "hG7WLSC7r7TA",
        "outputId": "8f8adc0c-1388-4a2f-8a70-ddf358b9fc6e",
        "colab": {
          "base_uri": "https://localhost:8080/"
        }
      },
      "source": [
        "import torch\n",
        "\n",
        "if torch.cuda.is_available():       \n",
        "    device = torch.device(\"cuda\")\n",
        "    print(f'There are {torch.cuda.device_count()} GPU(s) available.')\n",
        "    print('Device name:', torch.cuda.get_device_name(0))\n",
        "\n",
        "else:\n",
        "    print('No GPU available, using the CPU instead.')\n",
        "    device = torch.device(\"cpu\")"
      ],
      "execution_count": 68,
      "outputs": [
        {
          "output_type": "stream",
          "text": [
            "There are 1 GPU(s) available.\n",
            "Device name: Tesla P100-PCIE-16GB\n"
          ],
          "name": "stdout"
        }
      ]
    },
    {
      "cell_type": "markdown",
      "metadata": {
        "id": "-ZUNBJP4dzDI"
      },
      "source": [
        "Baseline TF-IDF, Naive Bayes Classifier"
      ]
    },
    {
      "cell_type": "code",
      "metadata": {
        "id": "KrenjxJrr7Uy",
        "outputId": "3aa1c513-50a7-40f2-8b4e-4bf759d17c06",
        "colab": {
          "base_uri": "https://localhost:8080/"
        }
      },
      "source": [
        "import nltk\n",
        "# Uncomment to download \"stopwords\"\n",
        "nltk.download(\"stopwords\")\n",
        "from nltk.corpus import stopwords\n",
        "\n",
        "def text_preprocessing(s):\n",
        "    \"\"\"\n",
        "    - Lowercase the sentence\n",
        "    - Change \"'t\" to \"not\"\n",
        "    - Remove \"@name\"\n",
        "    - Isolate and remove punctuations except \"?\"\n",
        "    - Remove other special characters\n",
        "    - Remove stop words except \"not\" and \"can\"\n",
        "    - Remove trailing whitespace\n",
        "    \"\"\"\n",
        "    s = s.lower()\n",
        "    # Change 't to 'not'\n",
        "    s = re.sub(r\"\\'t\", \" not\", s)\n",
        "    # Remove @name\n",
        "    s = re.sub(r'(@.*?)[\\s]', ' ', s)\n",
        "    # Isolate and remove punctuations except '?'\n",
        "    s = re.sub(r'([\\'\\\"\\.\\(\\)\\!\\?\\\\\\/\\,])', r' \\1 ', s)\n",
        "    s = re.sub(r'[^\\w\\s\\?]', ' ', s)\n",
        "    # Remove some special characters\n",
        "    s = re.sub(r'([\\;\\:\\|•«\\n])', ' ', s)\n",
        "    # Remove stopwords except 'not' and 'can'\n",
        "    s = \" \".join([word for word in s.split()\n",
        "                  if word not in stopwords.words('english')\n",
        "                  or word in ['not', 'can']])\n",
        "    # Remove trailing whitespace\n",
        "    s = re.sub(r'\\s+', ' ', s).strip()\n",
        "    \n",
        "    return s"
      ],
      "execution_count": 46,
      "outputs": [
        {
          "output_type": "stream",
          "text": [
            "[nltk_data] Downloading package stopwords to /root/nltk_data...\n",
            "[nltk_data]   Unzipping corpora/stopwords.zip.\n"
          ],
          "name": "stdout"
        }
      ]
    },
    {
      "cell_type": "code",
      "metadata": {
        "id": "ONWP8aC8r7Xr",
        "outputId": "4a5eb975-5559-42ac-ecec-c7a9ef20ae6a",
        "colab": {
          "base_uri": "https://localhost:8080/"
        }
      },
      "source": [
        "%%time\n",
        "from sklearn.feature_extraction.text import TfidfVectorizer\n",
        "\n",
        "# Preprocess text\n",
        "X_train_preprocessed = np.array([text_preprocessing(text) for text in X_train])\n",
        "X_val_preprocessed = np.array([text_preprocessing(text) for text in X_val])\n",
        "\n",
        "# Calculate TF-IDF\n",
        "tf_idf = TfidfVectorizer(ngram_range=(1, 3),\n",
        "                         binary=True,\n",
        "                         smooth_idf=False)\n",
        "X_train_tfidf = tf_idf.fit_transform(X_train_preprocessed)\n",
        "X_val_tfidf = tf_idf.transform(X_val_preprocessed)"
      ],
      "execution_count": 53,
      "outputs": [
        {
          "output_type": "stream",
          "text": [
            "CPU times: user 22.4 s, sys: 2.94 s, total: 25.3 s\n",
            "Wall time: 25.3 s\n"
          ],
          "name": "stdout"
        }
      ]
    },
    {
      "cell_type": "code",
      "metadata": {
        "id": "UNQ3QSk4r7az"
      },
      "source": [
        "from sklearn.model_selection import StratifiedKFold, cross_val_score\n",
        "\n",
        "def get_auc_CV(model):\n",
        "    \"\"\"\n",
        "    Return the average AUC score from cross-validation.\n",
        "    \"\"\"\n",
        "    # Set KFold to shuffle data before the split\n",
        "    kf = StratifiedKFold(5, shuffle=True, random_state=1)\n",
        "\n",
        "    # Get AUC scores\n",
        "    auc = cross_val_score(\n",
        "        model, X_train_tfidf, y_train, scoring=\"roc_auc\", cv=kf)\n",
        "\n",
        "    return auc.mean()"
      ],
      "execution_count": 54,
      "outputs": []
    },
    {
      "cell_type": "code",
      "metadata": {
        "id": "1qoFVFDkr7gS",
        "outputId": "0c1d7b5a-bd7b-4f8f-c4a4-9e2d26727039",
        "colab": {
          "base_uri": "https://localhost:8080/",
          "height": 313
        }
      },
      "source": [
        "from sklearn.naive_bayes import MultinomialNB\n",
        "\n",
        "res = pd.Series([get_auc_CV(MultinomialNB(i))\n",
        "                 for i in np.arange(0.1, 10, 0.1)],\n",
        "                index=np.arange(0.1, 10, 0.1))\n",
        "\n",
        "best_alpha = np.round(res.idxmax(), 2)\n",
        "print('Best alpha: ', best_alpha)\n",
        "\n",
        "plt.plot(res)\n",
        "plt.title('AUC vs. Alpha')\n",
        "plt.xlabel('Alpha')\n",
        "plt.ylabel('AUC')\n",
        "plt.show()"
      ],
      "execution_count": 57,
      "outputs": [
        {
          "output_type": "stream",
          "text": [
            "Best alpha:  0.7\n"
          ],
          "name": "stdout"
        },
        {
          "output_type": "display_data",
          "data": {
            "image/png": "[encoded data removed]",
            "text/plain": [
              "<Figure size 432x288 with 1 Axes>"
            ]
          },
          "metadata": {
            "tags": [],
            "needs_background": "light"
          }
        }
      ]
    },
    {
      "cell_type": "code",
      "metadata": {
        "id": "dZDCNua0sRGy"
      },
      "source": [
        "from sklearn.metrics import accuracy_score, roc_curve, auc\n",
        "\n",
        "def evaluate_roc(probs, y_true):\n",
        "    \"\"\"\n",
        "    - Print AUC and accuracy on the test set\n",
        "    - Plot ROC\n",
        "    @params    probs (np.array): an array of predicted probabilities with shape (len(y_true), 2)\n",
        "    @params    y_true (np.array): an array of the true values with shape (len(y_true),)\n",
        "    \"\"\"\n",
        "    preds = probs[:, 1]\n",
        "    fpr, tpr, threshold = roc_curve(y_true, preds)\n",
        "    roc_auc = auc(fpr, tpr)\n",
        "    print(f'AUC: {roc_auc:.4f}')\n",
        "       \n",
        "    # Get accuracy over the test set\n",
        "    y_pred = np.where(preds >= 0.5, 1, 0)\n",
        "    accuracy = accuracy_score(y_true, y_pred)\n",
        "    print(f'Accuracy: {accuracy*100:.2f}%')\n",
        "    \n",
        "    # Plot ROC AUC\n",
        "    plt.title('Receiver Operating Characteristic')\n",
        "    plt.plot(fpr, tpr, 'b', label = 'AUC = %0.2f' % roc_auc)\n",
        "    plt.legend(loc = 'lower right')\n",
        "    plt.plot([0, 1], [0, 1],'r--')\n",
        "    plt.xlim([0, 1])\n",
        "    plt.ylim([0, 1])\n",
        "    plt.ylabel('True Positive Rate')\n",
        "    plt.xlabel('False Positive Rate')\n",
        "    plt.show()"
      ],
      "execution_count": 58,
      "outputs": []
    },
    {
      "cell_type": "code",
      "metadata": {
        "id": "LxnSOTtEsRMC",
        "outputId": "2affee2a-52ac-4900-95e0-91b48c1ee755",
        "colab": {
          "base_uri": "https://localhost:8080/",
          "height": 331
        }
      },
      "source": [
        "# Compute predicted probabilities\n",
        "nb_model = MultinomialNB(alpha=0.7)\n",
        "nb_model.fit(X_train_tfidf, y_train)\n",
        "probs = nb_model.predict_proba(X_val_tfidf)\n",
        "\n",
        "# Evaluate the classifier\n",
        "evaluate_roc(probs, y_val)"
      ],
      "execution_count": 61,
      "outputs": [
        {
          "output_type": "stream",
          "text": [
            "AUC: 0.9441\n",
            "Accuracy: 87.50%\n"
          ],
          "name": "stdout"
        },
        {
          "output_type": "display_data",
          "data": {
            "image/png": "[encoded data removed]",
            "text/plain": [
              "<Figure size 432x288 with 1 Axes>"
            ]
          },
          "metadata": {
            "tags": [],
            "needs_background": "light"
          }
        }
      ]
    },
    {
      "cell_type": "markdown",
      "metadata": {
        "id": "2XLZ79inpHEV"
      },
      "source": [
        "Tokenize for BERT"
      ]
    },
    {
      "cell_type": "code",
      "metadata": {
        "id": "kkypOiNWsRPL",
        "outputId": "1dba1647-762d-48d2-d4bf-6e86b8837343",
        "colab": {
          "base_uri": "https://localhost:8080/"
        }
      },
      "source": [
        "!pip install transformers"
      ],
      "execution_count": 69,
      "outputs": [
        {
          "output_type": "stream",
          "text": [
            "Requirement already satisfied: transformers in /usr/local/lib/python3.6/dist-packages (3.4.0)\n",
            "Requirement already satisfied: filelock in /usr/local/lib/python3.6/dist-packages (from transformers) (3.0.12)\n",
            "Requirement already satisfied: sentencepiece!=0.1.92 in /usr/local/lib/python3.6/dist-packages (from transformers) (0.1.94)\n",
            "Requirement already satisfied: requests in /usr/local/lib/python3.6/dist-packages (from transformers) (2.23.0)\n",
            "Requirement already satisfied: numpy in /usr/local/lib/python3.6/dist-packages (from transformers) (1.18.5)\n",
            "Requirement already satisfied: regex!=2019.12.17 in /usr/local/lib/python3.6/dist-packages (from transformers) (2019.12.20)\n",
            "Requirement already satisfied: sacremoses in /usr/local/lib/python3.6/dist-packages (from transformers) (0.0.43)\n",
            "Requirement already satisfied: tokenizers==0.9.2 in /usr/local/lib/python3.6/dist-packages (from transformers) (0.9.2)\n",
            "Requirement already satisfied: dataclasses; python_version < \"3.7\" in /usr/local/lib/python3.6/dist-packages (from transformers) (0.7)\n",
            "Requirement already satisfied: protobuf in /usr/local/lib/python3.6/dist-packages (from transformers) (3.12.4)\n",
            "Requirement already satisfied: tqdm>=4.27 in /usr/local/lib/python3.6/dist-packages (from transformers) (4.41.1)\n",
            "Requirement already satisfied: packaging in /usr/local/lib/python3.6/dist-packages (from transformers) (20.4)\n",
            "Requirement already satisfied: urllib3!=1.25.0,!=1.25.1,<1.26,>=1.21.1 in /usr/local/lib/python3.6/dist-packages (from requests->transformers) (1.24.3)\n",
            "Requirement already satisfied: chardet<4,>=3.0.2 in /usr/local/lib/python3.6/dist-packages (from requests->transformers) (3.0.4)\n",
            "Requirement already satisfied: certifi>=2017.4.17 in /usr/local/lib/python3.6/dist-packages (from requests->transformers) (2020.6.20)\n",
            "Requirement already satisfied: idna<3,>=2.5 in /usr/local/lib/python3.6/dist-packages (from requests->transformers) (2.10)\n",
            "Requirement already satisfied: joblib in /usr/local/lib/python3.6/dist-packages (from sacremoses->transformers) (0.17.0)\n",
            "Requirement already satisfied: click in /usr/local/lib/python3.6/dist-packages (from sacremoses->transformers) (7.1.2)\n",
            "Requirement already satisfied: six in /usr/local/lib/python3.6/dist-packages (from sacremoses->transformers) (1.15.0)\n",
            "Requirement already satisfied: setuptools in /usr/local/lib/python3.6/dist-packages (from protobuf->transformers) (50.3.2)\n",
            "Requirement already satisfied: pyparsing>=2.0.2 in /usr/local/lib/python3.6/dist-packages (from packaging->transformers) (2.4.7)\n"
          ],
          "name": "stdout"
        }
      ]
    },
    {
      "cell_type": "code",
      "metadata": {
        "id": "PzjJs5S1sRR-"
      },
      "source": [
        "def text_preprocessing(text):\n",
        "    \"\"\"\n",
        "    - Remove entity mentions (eg. '@united')\n",
        "    - Correct errors (eg. '&amp;' to '&')\n",
        "    @param    text (str): a string to be processed.\n",
        "    @return   text (Str): the processed string.\n",
        "    \"\"\"\n",
        "    # Remove '@name'\n",
        "    text = re.sub(r'(@.*?)[\\s]', ' ', text)\n",
        "\n",
        "    # Replace '&amp;' with '&'\n",
        "    text = re.sub(r'&amp;', '&', text)\n",
        "\n",
        "    # Remove trailing whitespace\n",
        "    text = re.sub(r'\\s+', ' ', text).strip()\n",
        "\n",
        "    return text"
      ],
      "execution_count": 70,
      "outputs": []
    },
    {
      "cell_type": "code",
      "metadata": {
        "id": "dkgS0dZWsRVC",
        "outputId": "b432e2b8-6bbe-46a4-dd91-642eb98e2cad",
        "colab": {
          "base_uri": "https://localhost:8080/"
        }
      },
      "source": [
        "# Print sentence 0\n",
        "print('Original: ', X[0])\n",
        "print('Processed: ', text_preprocessing(X[0]))"
      ],
      "execution_count": 71,
      "outputs": [
        {
          "output_type": "stream",
          "text": [
            "Original:  One of the other reviewers has mentioned that after watching just 1 Oz episode you'll be hooked. They are right, as this is exactly what happened with me.<br /><br />The first thing that struck me about Oz was its brutality and unflinching scenes of violence, which set in right from the word GO. Trust me, this is not a show for the faint hearted or timid. This show pulls no punches with regards to drugs, sex or violence. Its is hardcore, in the classic use of the word.<br /><br />It is called OZ as that is the nickname given to the Oswald Maximum Security State Penitentary. It focuses mainly on Emerald City, an experimental section of the prison where all the cells have glass fronts and face inwards, so privacy is not high on the agenda. Em City is home to many..Aryans, Muslims, gangstas, Latinos, Christians, Italians, Irish and more....so scuffles, death stares, dodgy dealings and shady agreements are never far away.<br /><br />I would say the main appeal of the show is due to the fact that it goes where other shows wouldn't dare. Forget pretty pictures painted for mainstream audiences, forget charm, forget romance...OZ doesn't mess around. The first episode I ever saw struck me as so nasty it was surreal, I couldn't say I was ready for it, but as I watched more, I developed a taste for Oz, and got accustomed to the high levels of graphic violence. Not just violence, but injustice (crooked guards who'll be sold out for a nickel, inmates who'll kill on order and get away with it, well mannered, middle class inmates being turned into prison bitches due to their lack of street skills or prison experience) Watching Oz, you may become comfortable with what is uncomfortable viewing....thats if you can get in touch with your darker side.\n",
            "Processed:  One of the other reviewers has mentioned that after watching just 1 Oz episode you'll be hooked. They are right, as this is exactly what happened with me.<br /><br />The first thing that struck me about Oz was its brutality and unflinching scenes of violence, which set in right from the word GO. Trust me, this is not a show for the faint hearted or timid. This show pulls no punches with regards to drugs, sex or violence. Its is hardcore, in the classic use of the word.<br /><br />It is called OZ as that is the nickname given to the Oswald Maximum Security State Penitentary. It focuses mainly on Emerald City, an experimental section of the prison where all the cells have glass fronts and face inwards, so privacy is not high on the agenda. Em City is home to many..Aryans, Muslims, gangstas, Latinos, Christians, Italians, Irish and more....so scuffles, death stares, dodgy dealings and shady agreements are never far away.<br /><br />I would say the main appeal of the show is due to the fact that it goes where other shows wouldn't dare. Forget pretty pictures painted for mainstream audiences, forget charm, forget romance...OZ doesn't mess around. The first episode I ever saw struck me as so nasty it was surreal, I couldn't say I was ready for it, but as I watched more, I developed a taste for Oz, and got accustomed to the high levels of graphic violence. Not just violence, but injustice (crooked guards who'll be sold out for a nickel, inmates who'll kill on order and get away with it, well mannered, middle class inmates being turned into prison bitches due to their lack of street skills or prison experience) Watching Oz, you may become comfortable with what is uncomfortable viewing....thats if you can get in touch with your darker side.\n"
          ],
          "name": "stdout"
        }
      ]
    },
    {
      "cell_type": "code",
      "metadata": {
        "id": "-Frs3SqwskPj",
        "outputId": "e065c3a4-af64-4741-b11f-31d125343ec0",
        "colab": {
          "base_uri": "https://localhost:8080/",
          "height": 67,
          "referenced_widgets": [
            "7aaf012a04094dd5ae774e724ee6e060",
            "54a17f861c0c455e9e6e246afac15879",
            "919ef02ef14b4d488633c8f39de0738b",
            "c82d103e54504343a76124b30fa36d2e",
            "24ecd394898748f389e0cb91ea94a128",
            "93270e72fc3d4e4caf7d40105528fd12",
            "0438521188384217b2162168057a3b08",
            "82b5e76a4a7d488d9741f52ba00e81a9"
          ]
        }
      },
      "source": [
        "from transformers import BertTokenizer\n",
        "\n",
        "# Load the BERT tokenizer\n",
        "tokenizer = BertTokenizer.from_pretrained('bert-base-uncased', do_lower_case=True)\n",
        "\n",
        "# Create a function to tokenize a set of texts\n",
        "def preprocessing_for_bert(data):\n",
        "    \"\"\"Perform required preprocessing steps for pretrained BERT.\n",
        "    @param    data (np.array): Array of texts to be processed.\n",
        "    @return   input_ids (torch.Tensor): Tensor of token ids to be fed to a model.\n",
        "    @return   attention_masks (torch.Tensor): Tensor of indices specifying which\n",
        "                  tokens should be attended to by the model.\n",
        "    \"\"\"\n",
        "    # Create empty lists to store outputs\n",
        "    input_ids = []\n",
        "    attention_masks = []\n",
        "\n",
        "    # For every sentence...\n",
        "    for sent in data:\n",
        "        # `encode_plus` will:\n",
        "        #    (1) Tokenize the sentence\n",
        "        #    (2) Add the `[CLS]` and `[SEP]` token to the start and end\n",
        "        #    (3) Truncate/Pad sentence to max length\n",
        "        #    (4) Map tokens to their IDs\n",
        "        #    (5) Create attention mask\n",
        "        #    (6) Return a dictionary of outputs\n",
        "        encoded_sent = tokenizer.encode_plus(\n",
        "            text=text_preprocessing(sent),  # Preprocess sentence\n",
        "            add_special_tokens=True,        # Add `[CLS]` and `[SEP]`\n",
        "            max_length=MAX_LEN,                  # Max length to truncate/pad\n",
        "            pad_to_max_length=True,         # Pad sentence to max length\n",
        "            #return_tensors='pt',           # Return PyTorch tensor\n",
        "            return_attention_mask=True      # Return attention mask\n",
        "            )\n",
        "        \n",
        "        # Add the outputs to the lists\n",
        "        input_ids.append(encoded_sent.get('input_ids'))\n",
        "        attention_masks.append(encoded_sent.get('attention_mask'))\n",
        "\n",
        "    # Convert lists to tensors\n",
        "    input_ids = torch.tensor(input_ids)\n",
        "    attention_masks = torch.tensor(attention_masks)\n",
        "\n",
        "    return input_ids, attention_masks"
      ],
      "execution_count": 72,
      "outputs": [
        {
          "output_type": "display_data",
          "data": {
            "application/vnd.jupyter.widget-view+json": {
              "model_id": "7aaf012a04094dd5ae774e724ee6e060",
              "version_minor": 0,
              "version_major": 2
            },
            "text/plain": [
              "HBox(children=(FloatProgress(value=0.0, description='Downloading', max=231508.0, style=ProgressStyle(descripti…"
            ]
          },
          "metadata": {
            "tags": []
          }
        },
        {
          "output_type": "stream",
          "text": [
            "\n"
          ],
          "name": "stdout"
        }
      ]
    },
    {
      "cell_type": "code",
      "metadata": {
        "id": "kKJ6PBdDskSU",
        "outputId": "d02edf15-8374-42b9-c670-17a978baad18",
        "colab": {
          "base_uri": "https://localhost:8080/"
        }
      },
      "source": [
        "# Concatenate train data and test data\n",
        "all_review = X\n",
        "\n",
        "# Encode our concatenated data\n",
        "encoded_review = [tokenizer.encode(sent, add_special_tokens=True) for sent in all_review]\n",
        "\n",
        "# Find the maximum length\n",
        "max_len = max([len(sent) for sent in encoded_review])\n",
        "print('Max length: ', max_len)"
      ],
      "execution_count": 90,
      "outputs": [
        {
          "output_type": "stream",
          "text": [
            "Max length:  3157\n"
          ],
          "name": "stdout"
        }
      ]
    },
    {
      "cell_type": "code",
      "metadata": {
        "id": "XQGrJESsHati",
        "outputId": "07d2f965-a53d-49ae-831b-962d426b1018",
        "colab": {
          "base_uri": "https://localhost:8080/"
        }
      },
      "source": [
        "mean_len = sum([len(sent) for sent in encoded_review])/len(encoded_review)\n",
        "print(mean_len)"
      ],
      "execution_count": 93,
      "outputs": [
        {
          "output_type": "stream",
          "text": [
            "310.32116\n"
          ],
          "name": "stdout"
        }
      ]
    },
    {
      "cell_type": "code",
      "metadata": {
        "id": "ZhGWxOFZskVI",
        "outputId": "f9ae322c-5c90-4142-bd4d-1bfd84566a69",
        "colab": {
          "base_uri": "https://localhost:8080/"
        }
      },
      "source": [
        "# Specify `MAX_LEN`\n",
        "MAX_LEN = 256\n",
        "\n",
        "# Print sentence 0 and its encoded token ids\n",
        "token_ids = list(preprocessing_for_bert([X[0]])[0].squeeze().numpy())\n",
        "print('Original: ', X[0])\n",
        "print('Token IDs: ', token_ids)\n",
        "\n",
        "# Run function `preprocessing_for_bert` on the train set and the validation set\n",
        "print('Tokenizing data...')\n",
        "train_inputs, train_masks = preprocessing_for_bert(X_train)\n",
        "val_inputs, val_masks = preprocessing_for_bert(X_val)"
      ],
      "execution_count": 91,
      "outputs": [
        {
          "output_type": "stream",
          "text": [
            "/usr/local/lib/python3.6/dist-packages/transformers/tokenization_utils_base.py:1944: FutureWarning: The `pad_to_max_length` argument is deprecated and will be removed in a future version, use `padding=True` or `padding='longest'` to pad to the longest sequence in the batch, or use `padding='max_length'` to pad to a max length. In this case, you can give a specific length with `max_length` (e.g. `max_length=45`) or leave max_length to None to pad to the maximal input size of the model (e.g. 512 for Bert).\n",
            "  FutureWarning,\n"
          ],
          "name": "stderr"
        },
        {
          "output_type": "stream",
          "text": [
            "Original:  One of the other reviewers has mentioned that after watching just 1 Oz episode you'll be hooked. They are right, as this is exactly what happened with me.<br /><br />The first thing that struck me about Oz was its brutality and unflinching scenes of violence, which set in right from the word GO. Trust me, this is not a show for the faint hearted or timid. This show pulls no punches with regards to drugs, sex or violence. Its is hardcore, in the classic use of the word.<br /><br />It is called OZ as that is the nickname given to the Oswald Maximum Security State Penitentary. It focuses mainly on Emerald City, an experimental section of the prison where all the cells have glass fronts and face inwards, so privacy is not high on the agenda. Em City is home to many..Aryans, Muslims, gangstas, Latinos, Christians, Italians, Irish and more....so scuffles, death stares, dodgy dealings and shady agreements are never far away.<br /><br />I would say the main appeal of the show is due to the fact that it goes where other shows wouldn't dare. Forget pretty pictures painted for mainstream audiences, forget charm, forget romance...OZ doesn't mess around. The first episode I ever saw struck me as so nasty it was surreal, I couldn't say I was ready for it, but as I watched more, I developed a taste for Oz, and got accustomed to the high levels of graphic violence. Not just violence, but injustice (crooked guards who'll be sold out for a nickel, inmates who'll kill on order and get away with it, well mannered, middle class inmates being turned into prison bitches due to their lack of street skills or prison experience) Watching Oz, you may become comfortable with what is uncomfortable viewing....thats if you can get in touch with your darker side.\n",
            "Token IDs:  [101, 2028, 1997, 1996, 2060, 15814, 2038, 3855, 2008, 2044, 3666, 2074, 1015, 11472, 2792, 2017, 1005, 2222, 2022, 13322, 1012, 2027, 2024, 2157, 1010, 2004, 2023, 2003, 3599, 2054, 3047, 2007, 2033, 1012, 1026, 7987, 1013, 1028, 1026, 7987, 1013, 1028, 1996, 2034, 2518, 2008, 4930, 2033, 2055, 11472, 2001, 2049, 24083, 1998, 4895, 10258, 2378, 8450, 5019, 1997, 4808, 1010, 2029, 2275, 1999, 2157, 2013, 1996, 2773, 2175, 1012, 3404, 2033, 1010, 2023, 2003, 2025, 1037, 2265, 2005, 1996, 8143, 18627, 2030, 5199, 3593, 1012, 2023, 2265, 8005, 2053, 17957, 2007, 12362, 2000, 5850, 1010, 3348, 2030, 4808, 1012, 2049, 2003, 13076, 1010, 1999, 1996, 4438, 2224, 1997, 1996, 2773, 1012, 1026, 7987, 1013, 1028, 1026, 7987, 1013, 1028, 2009, 2003, 2170, 11472, 2004, 2008, 2003, 1996, 8367, 2445, 2000, 1996, 17411, 4555, 3036, 2110, 7279, 4221, 12380, 2854, 1012, 2009, 7679, 3701, 2006, 14110, 2103, 1010, 2019, 6388, 2930, 1997, 1996, 3827, 2073, 2035, 1996, 4442, 2031, 3221, 21430, 1998, 2227, 20546, 2015, 1010, 2061, 9394, 2003, 2025, 2152, 2006, 1996, 11376, 1012, 7861, 2103, 2003, 2188, 2000, 2116, 1012, 1012, 26030, 2015, 1010, 7486, 1010, 18542, 10230, 1010, 7402, 2015, 1010, 8135, 1010, 16773, 1010, 3493, 1998, 2062, 1012, 1012, 1012, 1012, 2061, 8040, 16093, 28331, 1010, 2331, 14020, 1010, 26489, 6292, 24069, 1998, 22824, 10540, 2024, 2196, 2521, 2185, 1012, 1026, 7987, 1013, 1028, 1026, 7987, 1013, 1028, 1045, 2052, 2360, 1996, 2364, 5574, 1997, 1996, 2265, 2003, 2349, 2000, 1996, 2755, 2008, 2009, 3632, 2073, 2060, 3065, 2876, 1005, 102]\n",
            "Tokenizing data...\n"
          ],
          "name": "stdout"
        }
      ]
    },
    {
      "cell_type": "code",
      "metadata": {
        "id": "I4txTpvEskXj"
      },
      "source": [
        "from torch.utils.data import TensorDataset, DataLoader, RandomSampler, SequentialSampler\n",
        "\n",
        "# Convert other data types to torch.Tensor\n",
        "train_labels = torch.tensor(y_train)\n",
        "val_labels = torch.tensor(y_val)\n",
        "\n",
        "# For fine-tuning BERT, the authors recommend a batch size of 16 or 32.\n",
        "batch_size = 32\n",
        "\n",
        "# Create the DataLoader for our training set\n",
        "train_data = TensorDataset(train_inputs, train_masks, train_labels)\n",
        "train_sampler = RandomSampler(train_data)\n",
        "train_dataloader = DataLoader(train_data, sampler=train_sampler, batch_size=batch_size)\n",
        "\n",
        "# Create the DataLoader for our validation set\n",
        "val_data = TensorDataset(val_inputs, val_masks, val_labels)\n",
        "val_sampler = SequentialSampler(val_data)\n",
        "val_dataloader = DataLoader(val_data, sampler=val_sampler, batch_size=batch_size)"
      ],
      "execution_count": 94,
      "outputs": []
    },
    {
      "cell_type": "code",
      "metadata": {
        "id": "G88pZ8nCskaa",
        "outputId": "517ecb65-a68d-47dc-9ecd-d141d4179b61",
        "colab": {
          "base_uri": "https://localhost:8080/"
        }
      },
      "source": [
        "%%time\n",
        "import torch\n",
        "import torch.nn as nn\n",
        "from transformers import BertModel\n",
        "\n",
        "# Create the BertClassfier class\n",
        "class BertClassifier(nn.Module):\n",
        "    \"\"\"Bert Model for Classification Tasks.\n",
        "    \"\"\"\n",
        "    def __init__(self, freeze_bert=False):\n",
        "        \"\"\"\n",
        "        @param    bert: a BertModel object\n",
        "        @param    classifier: a torch.nn.Module classifier\n",
        "        @param    freeze_bert (bool): Set `False` to fine-tune the BERT model\n",
        "        \"\"\"\n",
        "        super(BertClassifier, self).__init__()\n",
        "        # Specify hidden size of BERT, hidden size of our classifier, and number of labels\n",
        "        D_in, H, D_out = 768, 50, 2\n",
        "\n",
        "        # Instantiate BERT model\n",
        "        self.bert = BertModel.from_pretrained('bert-base-uncased')\n",
        "\n",
        "        # Instantiate an one-layer feed-forward classifier\n",
        "        self.classifier = nn.Sequential(\n",
        "            nn.Linear(D_in, H),\n",
        "            nn.ReLU(),\n",
        "            #nn.Dropout(0.5),\n",
        "            nn.Linear(H, D_out)\n",
        "        )\n",
        "\n",
        "        # Freeze the BERT model\n",
        "        if freeze_bert:\n",
        "            for param in self.bert.parameters():\n",
        "                param.requires_grad = False\n",
        "        \n",
        "    def forward(self, input_ids, attention_mask):\n",
        "        \"\"\"\n",
        "        Feed input to BERT and the classifier to compute logits.\n",
        "        @param    input_ids (torch.Tensor): an input tensor with shape (batch_size,\n",
        "                      max_length)\n",
        "        @param    attention_mask (torch.Tensor): a tensor that hold attention mask\n",
        "                      information with shape (batch_size, max_length)\n",
        "        @return   logits (torch.Tensor): an output tensor with shape (batch_size,\n",
        "                      num_labels)\n",
        "        \"\"\"\n",
        "        # Feed input to BERT\n",
        "        outputs = self.bert(input_ids=input_ids,\n",
        "                            attention_mask=attention_mask)\n",
        "        \n",
        "        # Extract the last hidden state of the token `[CLS]` for classification task\n",
        "        last_hidden_state_cls = outputs[0][:, 0, :]\n",
        "\n",
        "        # Feed input to classifier to compute logits\n",
        "        logits = self.classifier(last_hidden_state_cls)\n",
        "\n",
        "        return logits"
      ],
      "execution_count": 77,
      "outputs": [
        {
          "output_type": "stream",
          "text": [
            "CPU times: user 52 µs, sys: 7 µs, total: 59 µs\n",
            "Wall time: 81.3 µs\n"
          ],
          "name": "stdout"
        }
      ]
    },
    {
      "cell_type": "code",
      "metadata": {
        "id": "ecZ2kZiiskdD"
      },
      "source": [
        "from transformers import AdamW, get_linear_schedule_with_warmup\n",
        "\n",
        "def initialize_model(epochs=4):\n",
        "    \"\"\"Initialize the Bert Classifier, the optimizer and the learning rate scheduler.\n",
        "    \"\"\"\n",
        "    # Instantiate Bert Classifier\n",
        "    bert_classifier = BertClassifier(freeze_bert=False)\n",
        "\n",
        "    # Tell PyTorch to run the model on GPU\n",
        "    bert_classifier.to(device)\n",
        "\n",
        "    # Create the optimizer\n",
        "    optimizer = AdamW(bert_classifier.parameters(),\n",
        "                      lr=5e-5,    # Default learning rate\n",
        "                      eps=1e-8    # Default epsilon value\n",
        "                      )\n",
        "\n",
        "    # Total number of training steps\n",
        "    total_steps = len(train_dataloader) * epochs\n",
        "\n",
        "    # Set up the learning rate scheduler\n",
        "    scheduler = get_linear_schedule_with_warmup(optimizer,\n",
        "                                                num_warmup_steps=0, # Default value\n",
        "                                                num_training_steps=total_steps)\n",
        "    return bert_classifier, optimizer, scheduler"
      ],
      "execution_count": 78,
      "outputs": []
    },
    {
      "cell_type": "code",
      "metadata": {
        "id": "q10OJAekr7jz"
      },
      "source": [
        "import random\n",
        "import time\n",
        "\n",
        "# Specify loss function\n",
        "loss_fn = nn.CrossEntropyLoss()\n",
        "\n",
        "def set_seed(seed_value=42):\n",
        "    \"\"\"Set seed for reproducibility.\n",
        "    \"\"\"\n",
        "    random.seed(seed_value)\n",
        "    np.random.seed(seed_value)\n",
        "    torch.manual_seed(seed_value)\n",
        "    torch.cuda.manual_seed_all(seed_value)\n",
        "\n",
        "def train(model, train_dataloader, val_dataloader=None, epochs=4, evaluation=False):\n",
        "    \"\"\"Train the BertClassifier model.\n",
        "    \"\"\"\n",
        "    # Start training loop\n",
        "    print(\"Start training...\\n\")\n",
        "    for epoch_i in range(epochs):\n",
        "        # =======================================\n",
        "        #               Training\n",
        "        # =======================================\n",
        "        # Print the header of the result table\n",
        "        print(f\"{'Epoch':^7} | {'Batch':^7} | {'Train Loss':^12} | {'Val Loss':^10} | {'Val Acc':^9} | {'Elapsed':^9}\")\n",
        "        print(\"-\"*70)\n",
        "\n",
        "        # Measure the elapsed time of each epoch\n",
        "        t0_epoch, t0_batch = time.time(), time.time()\n",
        "\n",
        "        # Reset tracking variables at the beginning of each epoch\n",
        "        total_loss, batch_loss, batch_counts = 0, 0, 0\n",
        "\n",
        "        # Put the model into the training mode\n",
        "        model.train()\n",
        "\n",
        "        # For each batch of training data...\n",
        "        for step, batch in enumerate(train_dataloader):\n",
        "            batch_counts +=1\n",
        "            # Load batch to GPU\n",
        "            b_input_ids, b_attn_mask, b_labels = tuple(t.to(device) for t in batch)\n",
        "\n",
        "            # Zero out any previously calculated gradients\n",
        "            model.zero_grad()\n",
        "\n",
        "            # Perform a forward pass. This will return logits.\n",
        "            logits = model(b_input_ids, b_attn_mask)\n",
        "\n",
        "            # Compute loss and accumulate the loss values\n",
        "            loss = loss_fn(logits, b_labels)\n",
        "            batch_loss += loss.item()\n",
        "            total_loss += loss.item()\n",
        "\n",
        "            # Perform a backward pass to calculate gradients\n",
        "            loss.backward()\n",
        "\n",
        "            # Clip the norm of the gradients to 1.0 to prevent \"exploding gradients\"\n",
        "            torch.nn.utils.clip_grad_norm_(model.parameters(), 1.0)\n",
        "\n",
        "            # Update parameters and the learning rate\n",
        "            optimizer.step()\n",
        "            scheduler.step()\n",
        "\n",
        "            # Print the loss values and time elapsed for every 20 batches\n",
        "            if (step % 20 == 0 and step != 0) or (step == len(train_dataloader) - 1):\n",
        "                # Calculate time elapsed for 20 batches\n",
        "                time_elapsed = time.time() - t0_batch\n",
        "\n",
        "                # Print training results\n",
        "                print(f\"{epoch_i + 1:^7} | {step:^7} | {batch_loss / batch_counts:^12.6f} | {'-':^10} | {'-':^9} | {time_elapsed:^9.2f}\")\n",
        "\n",
        "                # Reset batch tracking variables\n",
        "                batch_loss, batch_counts = 0, 0\n",
        "                t0_batch = time.time()\n",
        "\n",
        "        # Calculate the average loss over the entire training data\n",
        "        avg_train_loss = total_loss / len(train_dataloader)\n",
        "\n",
        "        print(\"-\"*70)\n",
        "        # =======================================\n",
        "        #               Evaluation\n",
        "        # =======================================\n",
        "        if evaluation == True:\n",
        "            # After the completion of each training epoch, measure the model's performance\n",
        "            # on our validation set.\n",
        "            val_loss, val_accuracy = evaluate(model, val_dataloader)\n",
        "\n",
        "            # Print performance over the entire training data\n",
        "            time_elapsed = time.time() - t0_epoch\n",
        "            \n",
        "            print(f\"{epoch_i + 1:^7} | {'-':^7} | {avg_train_loss:^12.6f} | {val_loss:^10.6f} | {val_accuracy:^9.2f} | {time_elapsed:^9.2f}\")\n",
        "            print(\"-\"*70)\n",
        "        print(\"\\n\")\n",
        "    \n",
        "    print(\"Training complete!\")\n",
        "\n",
        "\n",
        "def evaluate(model, val_dataloader):\n",
        "    \"\"\"After the completion of each training epoch, measure the model's performance\n",
        "    on our validation set.\n",
        "    \"\"\"\n",
        "    # Put the model into the evaluation mode. The dropout layers are disabled during\n",
        "    # the test time.\n",
        "    model.eval()\n",
        "\n",
        "    # Tracking variables\n",
        "    val_accuracy = []\n",
        "    val_loss = []\n",
        "\n",
        "    # For each batch in our validation set...\n",
        "    for batch in val_dataloader:\n",
        "        # Load batch to GPU\n",
        "        b_input_ids, b_attn_mask, b_labels = tuple(t.to(device) for t in batch)\n",
        "\n",
        "        # Compute logits\n",
        "        with torch.no_grad():\n",
        "            logits = model(b_input_ids, b_attn_mask)\n",
        "\n",
        "        # Compute loss\n",
        "        loss = loss_fn(logits, b_labels)\n",
        "        val_loss.append(loss.item())\n",
        "\n",
        "        # Get the predictions\n",
        "        preds = torch.argmax(logits, dim=1).flatten()\n",
        "\n",
        "        # Calculate the accuracy rate\n",
        "        accuracy = (preds == b_labels).cpu().numpy().mean() * 100\n",
        "        val_accuracy.append(accuracy)\n",
        "\n",
        "    # Compute the average accuracy and loss over the validation set.\n",
        "    val_loss = np.mean(val_loss)\n",
        "    val_accuracy = np.mean(val_accuracy)\n",
        "\n",
        "    return val_loss, val_accuracy"
      ],
      "execution_count": 79,
      "outputs": []
    },
    {
      "cell_type": "code",
      "metadata": {
        "id": "HlbTd28cr7my",
        "outputId": "4e9d2435-1410-4ae7-be38-b516d07dcc82",
        "colab": {
          "base_uri": "https://localhost:8080/"
        }
      },
      "source": [
        "set_seed(42)    # Set seed for reproducibility\n",
        "bert_classifier, optimizer, scheduler = initialize_model(epochs=2)\n",
        "train(bert_classifier, train_dataloader, val_dataloader, epochs=2, evaluation=True)"
      ],
      "execution_count": 95,
      "outputs": [
        {
          "output_type": "stream",
          "text": [
            "Start training...\n",
            "\n",
            " Epoch  |  Batch  |  Train Loss  |  Val Loss  |  Val Acc  |  Elapsed \n",
            "----------------------------------------------------------------------\n",
            "   1    |   20    |   0.562357   |     -      |     -     |   16.27  \n",
            "   1    |   40    |   0.482160   |     -      |     -     |   15.44  \n",
            "   1    |   60    |   0.337134   |     -      |     -     |   15.48  \n",
            "   1    |   80    |   0.276305   |     -      |     -     |   15.45  \n",
            "   1    |   100   |   0.329892   |     -      |     -     |   15.48  \n",
            "   1    |   120   |   0.271637   |     -      |     -     |   15.44  \n",
            "   1    |   140   |   0.297804   |     -      |     -     |   15.46  \n",
            "   1    |   160   |   0.288116   |     -      |     -     |   15.45  \n",
            "   1    |   180   |   0.273112   |     -      |     -     |   15.46  \n",
            "   1    |   200   |   0.317357   |     -      |     -     |   15.46  \n",
            "   1    |   220   |   0.262258   |     -      |     -     |   15.46  \n",
            "   1    |   240   |   0.225200   |     -      |     -     |   15.44  \n",
            "   1    |   260   |   0.279737   |     -      |     -     |   15.49  \n",
            "   1    |   280   |   0.243453   |     -      |     -     |   15.47  \n",
            "   1    |   300   |   0.216060   |     -      |     -     |   15.45  \n",
            "   1    |   320   |   0.234143   |     -      |     -     |   15.45  \n",
            "   1    |   340   |   0.283669   |     -      |     -     |   15.45  \n",
            "   1    |   360   |   0.297199   |     -      |     -     |   15.42  \n",
            "   1    |   380   |   0.239638   |     -      |     -     |   15.45  \n",
            "   1    |   400   |   0.248642   |     -      |     -     |   15.47  \n",
            "   1    |   420   |   0.222387   |     -      |     -     |   15.43  \n",
            "   1    |   440   |   0.227348   |     -      |     -     |   15.43  \n",
            "   1    |   460   |   0.243218   |     -      |     -     |   15.43  \n",
            "   1    |   480   |   0.224605   |     -      |     -     |   15.40  \n",
            "   1    |   500   |   0.235800   |     -      |     -     |   15.39  \n",
            "   1    |   520   |   0.220989   |     -      |     -     |   15.42  \n",
            "   1    |   540   |   0.241323   |     -      |     -     |   15.41  \n",
            "   1    |   560   |   0.265577   |     -      |     -     |   15.44  \n",
            "   1    |   580   |   0.246462   |     -      |     -     |   15.43  \n",
            "   1    |   600   |   0.243784   |     -      |     -     |   15.44  \n",
            "   1    |   620   |   0.251348   |     -      |     -     |   15.42  \n",
            "   1    |   640   |   0.222539   |     -      |     -     |   15.43  \n",
            "   1    |   660   |   0.183673   |     -      |     -     |   15.39  \n",
            "   1    |   680   |   0.213119   |     -      |     -     |   15.38  \n",
            "   1    |   700   |   0.209358   |     -      |     -     |   15.44  \n",
            "   1    |   720   |   0.250600   |     -      |     -     |   15.36  \n",
            "   1    |   740   |   0.217940   |     -      |     -     |   15.35  \n",
            "   1    |   760   |   0.200491   |     -      |     -     |   15.36  \n",
            "   1    |   780   |   0.255106   |     -      |     -     |   15.34  \n",
            "   1    |   800   |   0.218701   |     -      |     -     |   15.41  \n",
            "   1    |   820   |   0.230292   |     -      |     -     |   15.39  \n",
            "   1    |   840   |   0.196036   |     -      |     -     |   15.42  \n",
            "   1    |   860   |   0.210204   |     -      |     -     |   15.41  \n",
            "   1    |   880   |   0.249707   |     -      |     -     |   15.40  \n",
            "   1    |   900   |   0.240121   |     -      |     -     |   15.43  \n",
            "   1    |   920   |   0.178523   |     -      |     -     |   15.41  \n",
            "   1    |   940   |   0.226973   |     -      |     -     |   15.44  \n",
            "   1    |   960   |   0.259099   |     -      |     -     |   15.40  \n",
            "   1    |   980   |   0.196913   |     -      |     -     |   15.42  \n",
            "   1    |   999   |   0.211689   |     -      |     -     |   14.68  \n",
            "----------------------------------------------------------------------\n",
            "   1    |    -    |   0.255547   |  0.235223  |   92.09   |  834.28  \n",
            "----------------------------------------------------------------------\n",
            "\n",
            "\n",
            " Epoch  |  Batch  |  Train Loss  |  Val Loss  |  Val Acc  |  Elapsed \n",
            "----------------------------------------------------------------------\n",
            "   2    |   20    |   0.117431   |     -      |     -     |   16.21  \n",
            "   2    |   40    |   0.125033   |     -      |     -     |   15.47  \n",
            "   2    |   60    |   0.109560   |     -      |     -     |   15.42  \n",
            "   2    |   80    |   0.098995   |     -      |     -     |   15.40  \n",
            "   2    |   100   |   0.084724   |     -      |     -     |   15.43  \n",
            "   2    |   120   |   0.133260   |     -      |     -     |   15.43  \n",
            "   2    |   140   |   0.137024   |     -      |     -     |   15.43  \n",
            "   2    |   160   |   0.105028   |     -      |     -     |   15.46  \n",
            "   2    |   180   |   0.115607   |     -      |     -     |   15.40  \n",
            "   2    |   200   |   0.088582   |     -      |     -     |   15.47  \n",
            "   2    |   220   |   0.122204   |     -      |     -     |   15.40  \n",
            "   2    |   240   |   0.120483   |     -      |     -     |   15.41  \n",
            "   2    |   260   |   0.134401   |     -      |     -     |   15.41  \n",
            "   2    |   280   |   0.132173   |     -      |     -     |   15.42  \n",
            "   2    |   300   |   0.134632   |     -      |     -     |   15.42  \n",
            "   2    |   320   |   0.126188   |     -      |     -     |   15.40  \n",
            "   2    |   340   |   0.138312   |     -      |     -     |   15.43  \n",
            "   2    |   360   |   0.103413   |     -      |     -     |   15.37  \n",
            "   2    |   380   |   0.109707   |     -      |     -     |   15.36  \n",
            "   2    |   400   |   0.102099   |     -      |     -     |   15.42  \n",
            "   2    |   420   |   0.116874   |     -      |     -     |   15.44  \n",
            "   2    |   440   |   0.097432   |     -      |     -     |   15.41  \n",
            "   2    |   460   |   0.123810   |     -      |     -     |   15.44  \n",
            "   2    |   480   |   0.129287   |     -      |     -     |   15.39  \n",
            "   2    |   500   |   0.136999   |     -      |     -     |   15.40  \n",
            "   2    |   520   |   0.088588   |     -      |     -     |   15.48  \n",
            "   2    |   540   |   0.108828   |     -      |     -     |   15.42  \n",
            "   2    |   560   |   0.120537   |     -      |     -     |   15.43  \n",
            "   2    |   580   |   0.085119   |     -      |     -     |   15.48  \n",
            "   2    |   600   |   0.133986   |     -      |     -     |   15.42  \n",
            "   2    |   620   |   0.114548   |     -      |     -     |   15.39  \n",
            "   2    |   640   |   0.063337   |     -      |     -     |   15.40  \n",
            "   2    |   660   |   0.141742   |     -      |     -     |   15.39  \n",
            "   2    |   680   |   0.111975   |     -      |     -     |   15.46  \n",
            "   2    |   700   |   0.104288   |     -      |     -     |   15.44  \n",
            "   2    |   720   |   0.101178   |     -      |     -     |   15.42  \n",
            "   2    |   740   |   0.090870   |     -      |     -     |   15.39  \n",
            "   2    |   760   |   0.093200   |     -      |     -     |   15.44  \n",
            "   2    |   780   |   0.149480   |     -      |     -     |   15.47  \n",
            "   2    |   800   |   0.092222   |     -      |     -     |   15.40  \n",
            "   2    |   820   |   0.061116   |     -      |     -     |   15.49  \n",
            "   2    |   840   |   0.150014   |     -      |     -     |   15.39  \n",
            "   2    |   860   |   0.097519   |     -      |     -     |   15.37  \n",
            "   2    |   880   |   0.066085   |     -      |     -     |   15.37  \n",
            "   2    |   900   |   0.137716   |     -      |     -     |   15.38  \n",
            "   2    |   920   |   0.056633   |     -      |     -     |   15.43  \n",
            "   2    |   940   |   0.111098   |     -      |     -     |   15.44  \n",
            "   2    |   960   |   0.150100   |     -      |     -     |   15.40  \n",
            "   2    |   980   |   0.106835   |     -      |     -     |   15.47  \n",
            "   2    |   999   |   0.105837   |     -      |     -     |   14.66  \n",
            "----------------------------------------------------------------------\n",
            "   2    |    -    |   0.111734   |  0.243501  |   92.46   |  833.96  \n",
            "----------------------------------------------------------------------\n",
            "\n",
            "\n",
            "Training complete!\n"
          ],
          "name": "stdout"
        }
      ]
    },
    {
      "cell_type": "code",
      "metadata": {
        "id": "HmAQyEcZs9yT"
      },
      "source": [
        "import torch.nn.functional as F\n",
        "\n",
        "def bert_predict(model, test_dataloader):\n",
        "    \"\"\"Perform a forward pass on the trained BERT model to predict probabilities\n",
        "    on the test set.\n",
        "    \"\"\"\n",
        "    # Put the model into the evaluation mode. The dropout layers are disabled during\n",
        "    # the test time.\n",
        "    model.eval()\n",
        "\n",
        "    all_logits = []\n",
        "\n",
        "    # For each batch in our test set...\n",
        "    for batch in test_dataloader:\n",
        "        # Load batch to GPU\n",
        "        b_input_ids, b_attn_mask = tuple(t.to(device) for t in batch)[:2]\n",
        "\n",
        "        # Compute logits\n",
        "        with torch.no_grad():\n",
        "            logits = model(b_input_ids, b_attn_mask)\n",
        "        all_logits.append(logits)\n",
        "    \n",
        "    # Concatenate logits from each batch\n",
        "    all_logits = torch.cat(all_logits, dim=0)\n",
        "\n",
        "    # Apply softmax to calculate probabilities\n",
        "    probs = F.softmax(all_logits, dim=1).cpu().numpy()\n",
        "\n",
        "    return probs"
      ],
      "execution_count": 81,
      "outputs": []
    },
    {
      "cell_type": "code",
      "metadata": {
        "id": "eTTpN4IJs91l",
        "outputId": "86407b64-82a9-4bf0-94e8-f8342cdc3722",
        "colab": {
          "base_uri": "https://localhost:8080/",
          "height": 331
        }
      },
      "source": [
        "# Compute predicted probabilities on the test set\n",
        "probs = bert_predict(bert_classifier, val_dataloader)\n",
        "\n",
        "# Evaluate the Bert classifier\n",
        "evaluate_roc(probs, y_val)"
      ],
      "execution_count": 96,
      "outputs": [
        {
          "output_type": "stream",
          "text": [
            "AUC: 0.9778\n",
            "Accuracy: 92.46%\n"
          ],
          "name": "stdout"
        },
        {
          "output_type": "display_data",
          "data": {
            "image/png": "[encoded data removed]",
            "text/plain": [
              "<Figure size 432x288 with 1 Axes>"
            ]
          },
          "metadata": {
            "tags": [],
            "needs_background": "light"
          }
        }
      ]
    },
    {
      "cell_type": "code",
      "metadata": {
        "id": "tLC_U_Cps94e",
        "outputId": "00c63a27-3112-4d5f-d4d5-199a51cba122",
        "colab": {
          "base_uri": "https://localhost:8080/"
        }
      },
      "source": [
        "# Concatenate the train set and the validation set\n",
        "full_train_data = torch.utils.data.ConcatDataset([train_data, val_data])\n",
        "full_train_sampler = RandomSampler(full_train_data)\n",
        "full_train_dataloader = DataLoader(full_train_data, sampler=full_train_sampler, batch_size=32)\n",
        "\n",
        "# Train the Bert Classifier on the entire training data\n",
        "set_seed(42)\n",
        "bert_classifier, optimizer, scheduler = initialize_model(epochs=2)\n",
        "train(bert_classifier, full_train_dataloader, epochs=2)"
      ],
      "execution_count": 83,
      "outputs": [
        {
          "output_type": "stream",
          "text": [
            "Start training...\n",
            "\n",
            " Epoch  |  Batch  |  Train Loss  |  Val Loss  |  Val Acc  |  Elapsed \n",
            "----------------------------------------------------------------------\n",
            "   1    |   20    |   0.685217   |     -      |     -     |   8.30   \n",
            "   1    |   24    |   0.613714   |     -      |     -     |   1.60   \n",
            "----------------------------------------------------------------------\n",
            "\n",
            "\n",
            " Epoch  |  Batch  |  Train Loss  |  Val Loss  |  Val Acc  |  Elapsed \n",
            "----------------------------------------------------------------------\n",
            "   2    |   20    |   0.439386   |     -      |     -     |   8.32   \n",
            "   2    |   24    |   0.436097   |     -      |     -     |   1.61   \n",
            "----------------------------------------------------------------------\n",
            "\n",
            "\n",
            "Training complete!\n"
          ],
          "name": "stdout"
        }
      ]
    },
    {
      "cell_type": "code",
      "metadata": {
        "id": "zszGz3hqs97c",
        "outputId": "6d6d3610-0292-4044-ad7f-562c4e95a8f9",
        "colab": {
          "base_uri": "https://localhost:8080/"
        }
      },
      "source": [
        "X_test"
      ],
      "execution_count": 84,
      "outputs": [
        {
          "output_type": "execute_result",
          "data": {
            "text/plain": [
              "array(['As a long-time fan of all the Star Trek series,I found this a disappointing episode, and I wonder if the liberal use of \"flashbacks\" featuring Will Riker\\'s exploits, both positive (and largely romantic) and negative (lots of pain, and a crewmate\\'s death)was a money-saving device, as were many of their \"bottle shows\" (episodes in which all scenes take place on the Enterprise). Diana Muldaur(who also appeared at least twice on the original series) deserved a better final appearance than this for her character, Dr. Kate Pulaski. Loyal viewers (in the Star Trek world, is there any other kind?) also were shortchanged. This was the last episode of second season; thus, the season ended \"not with a bang\" but with \"a whimper.\"',\n",
              "       'I remember this in a similar vein to the Young Ones. We\\'d stumble back from the pub and watch this or tape it and then spend weeks replaying the lines to each other.<br /><br />We called one of our mates \"Zipmole Watkins\" after the brilliant episode in which Daniel Peacock has a bit of \\'restyling\\' on his nose by the Back Street Abortionist.<br /><br />Lots of great lines \"Remember at 5:30 in the morning you can only get white bread from a brown man. Take it easy guy!\" - Gandhi as a local shopkeeper.<br /><br />Tony woodcock was definitely on there in the episode they were teaching Ralph (Daniel Peacock) to be a barman \"It\\'s no good Amanda I\\'ll never make it as a bar man\" Helen Lederer teaches him to ask people about the match \"See the match last night? I thought Woodcock played well\" After a string of failed conversations the curly haired Arsenal star was sitting at the bar: \"See the match last night?\" \"Yeah. I thought I played well\"<br /><br />We still do odd stupid lines now - \"Reg and Ralph..... or....... Ralph and Reg. Reg, Reg... Reg Reg Reg Reg\"<br /><br />Lots of very surreal silly moments and very surreal songs from the Flatlets - The Back Street Abortionist a personal favourite with the great ending line - \"And he\\'ll mark your packages \\'Return To Sender\"<br /><br />Good old Danny Peacock - you added a lot to some young drinkers\\' evenings sir.<br /><br />**Update - I found a couple of episodes on tape - I\\'m going to upload the Gandhi sketch to Youtube **',\n",
              "       \"Very strange but occasionally elegant exploitation movie with no real story, but benefiting from its stunningly ravishing lead actress and a handful of nice, gruesome make-up effects. Daniella is a beautiful twenty-something girl, carrying with her the trauma of being raped at the age of 13. Nightmares and hallucinations lead her further into believing she's the reincarnation of a female ancestor who was said to be a werewolf. She kills her brother-in-law during a nightly encounter and gets submitted in a hospital. She escapes again, however, and randomly devours more men whilst on the run for police detectives, doctors and relatives. It's all pretty to look at and listen too (really great soundtrack), but the absence of plot and continuity become irritating quite fast. Luckily enough, leading lady Annik Borel rarely ever wears clothes and she fills up the boring moments by dancing naked around a fire. The film is too long, too weird and too forgettable. The biggest surprise comes at the end, when suddenly and out of the blue, director Rino Di Silvestro tries to make us believe that his movie was based on true facts. Yeah, right...\",\n",
              "       'Many teenage sex comedy movies come and go without much fanfare, however, every so often a movie might come along thats honest, funny, entertaining AND memorable. The Last American Virgin is a special movie that has found its place and has stood the test of time blending all four ingredients. This film follows three friends (Gary, Rick and David \"The Big Apple\") misadventures into the world of first-time sex and true love. Along the way they learn hard lessons and the value of true friendship. We follow hopeless romantic Gary (The main character) on his quest to win over the girl of his dreams which leads him down an uncertain road with a surprise twist at it\\'s ending. If you haven\\'t been lucky enough to see this movie yet, by all means take a look...sprinkled with many memorable 80s songs throughout the movie to keep things moving at an even pace. L.A.V. truly is an original film, a rarity among films of it\\'s genre.',\n",
              "       'Although the plot of this film is a bit far-fetched, it is worth seeing just for the performances of Michaels Caine and Gambon. The latter delivers a truly wonderful Dublin accent. Caine hams it up...which is exactly what the character he is playing should do. Entertaining and fun, this is a hour and a half of easy watching.',\n",
              "       \"The Last Hard Men finds James Coburn an outlaw doing a long sentence breaking free from a chain gang. Do he and his friends head for the Mexican border from jail and safety. No they don't because Coburn has a mission of revenge. To kill the peace officer who brought him in and in the process killed his woman.<br /><br />That peace officer is Charlton Heston who is now retired and he knows what Coburn is after. As he explains it to his daughter, Barbara Hershey, Coburn was holed up in a shack and was involved in a Waco like standoff. His Indian woman was killed in the hail of bullets fired. It's not something he's proud of, she was a collateral casualty in a manhunt.<br /><br />Lest we feel sorry for Coburn he lets us know full well what an evil man he truly is. Heston is his usual stalwart hero, but the acting honors in The Last Hard Men go to James Coburn. He blows everyone else off the screen when he's on. <br /><br />Coburn gets the bright idea of making sure Heston trails him by kidnapping Hershey and taking her to an Indian reservation where the white authorities can't touch him. He knows that Heston has to make it personal then.<br /><br />Coburn's gang includes, Morgan Paull, Thalmus Rasulala, John Quade, Larry Wilcox, and Jorge Rivero. Heston has Chris Mitchum along who is his son-in-law to be.<br /><br />The Last Hard Men is one nasty and brutal western. Andrew McLaglen directed it and I'm thinking it may have been a project originally intended for Sam Peckinpaugh. It sure shows a lot of his influence with the liberal use of slow motion to accentuate the violence. Of which there is a lot. <br /><br />For a little Peckinpaugh lite, The Last Hard Men is your film.\",\n",
              "       'This must have been one of the worst movies I have ever seen.<br /><br />I have to disagree with another commenter, who said the special effects were okay. I found them pretty bad: it just wasn\\'t realistic and they were so fake that it just distracted from the actual story.<br /><br />Maybe that distraction is the reason that I did not fully understand the story. The archaeologists are looking for \"the set\". They do not bother to tell what set, or what is so special about it. That also makes it unclear why they search for it in California, while the intro of the movie takes place in ancient Egypt.<br /><br />If you\\'re shooting a movie that takes place in the desert, take the effort to actually go to the desert. The beginning - the ancient ceremony - looks like it was shot inside a studio instead of a desert.<br /><br />The action-level was constant throughout the movie, no ups and downs, no climax. It made the movie look short, and that\\'s certainly a pro for this particular movie.',\n",
              "       \"There have been many documentaries that I have seen in which it appeared that the law was on the wrong side of the fence - The Thin Blue Line and Paradise Lost come to mind first and foremost. But this is the first film that had me seething with anger after I saw it. It seems blatantly clear to me from the evidence presented in this film that what happened at Waco was at the very least an unprofessional and sloppy mess on the part of the FBI and AFI, and at the very worst an act of murder. Like most people, when the siege at Waco was occurring I assumed that David Koresh was a completely evil madman who was leading a violent cult. After seeing this, I think that Koresh was more likely a slightly unbalanced and confused guy who inadvertently caught the attention of the U.S. government through his eccentric actions. Sure, there were lots of weapons at the Branch Davidian compound. But none of it was illegal. It was absolutely heartbreaking to see the video footage of the people inside the compound, all of them seeming to be very nice and harmless. And it was angering to see the callous testimony of the men in charge of the government forces on the Waco site, the clueless testimony of Janet Reno, and the partisan defense of the attack on Waco, a defense led by a few of the committee Democrats. Standing out most in my mind was NY representative and current U.S. senator from NY Charles Schumer. I voted for the man when I lived in NY state - I'm a Democrat, pretty left-leaning too. After seeing his actions on this committee, I wish I could go back in time and vote for D'Amato instead! For anyone remotely interested in the government, this is a very crucial film, a must see. I even think this should be shown in classes - it's that important.\",\n",
              "       \"Yes, this is one of THOSE movies, so terrible, so insipid, so trite, that you will not be able to stop laughing. I have watched comedies, good comedies, and laughed less than my wife and I laughed at this movie. The other comments give the idea well enough. The characters are so unpleasant you cheer the rats on, the effects are so poorly done you wonder whose elementary school art class was in charge, the acting-- oh the acting-- talk about tired dialogue and embarrassing pauses.<br /><br />But the rat, yes, the big rat. Why we didn't get to see the rat until the end rather surprised me. Often the 'big one' isn't shown until the end because the budget is limited and good effects chew up so much money. I surmise, however, that in this case the big rat was hidden until the end because the filmmakers were ashamed that the best they had was a guy running around dressed up like a woodchuck with third-world dentistry.<br /><br />The most sublime part of the whole movie is the elevator scene. After figuring out that the rats couldn't stand loud noise (migraines from the bad acting?), the main dude rigs up a fire alarm to send the rats into a frenzy. If you've ever wanting to see a pair of rats waltz while blood squirts out of their heads like a geyser, this film is for you. Really, you need to rent it and see for yourself.<br /><br />But not for more than 99¢, OK?\",\n",
              "       'In New Orleans, an illegal immigrant feels sick and leaves a poker game while winning the smalltime criminal Blackie (Walter Jack Palance). He is chased by Blackie and his men Raymond Fitch (Zero Mostel) and Poldi (Guy Thomajan), killed by Blackie and his body is dumped in the sea. During the autopsy, the family man Lieutenant Commander Dr. Clinton Reed (Richard Widmark) of the U.S. Public Health Service finds that the dead man had pneumonic plague caused by rats and he needs to find who had any type of contact with the man within forty-eight hours to avoid an epidemic. The City Mayor assigns the skeptical Captain Tom Warren (Paul Douglas) to help Dr. Clint to find the killers that are infected with the plague and inoculate them.<br /><br />\"Panic in the Streets\" discloses a simple story, but it is still effective and with a great villain. The engaging plot has not become dated after fifty-seven years. Jack Palance performs a despicable scum in his debut, and the camera work while he tries to escape with Zero Mostel is still very impressive. My vote is seven.<br /><br />Title (Brazil): \"Pânico nas Ruas\" (\"Panic in the Streets\")',\n",
              "       'This is an interesting, hard to find movie from the early 70\\'s starring Jan Michael Vincent as a young man who doesn\\'t make the cut as a marine. Dressed in \\'baby blue\\' outfits to humiliate them as they are sent home, the failed recruits are sent packing. Vincent stops at a bar and runs into a very young Richard Gere who has just returned from a tour in the Pacific as a hard-core Marine \\'Raider\\'. Gere\\'s character is already jaded and contemplating desertion, and he takes advantage of Vincent\\'s innocence, stealing his \\'baby blue\\' uniform after getting him drunk and beating him in an alleyway. Vincent\\'s character, whose name is Marion, takes Gere\\'s outfit and is suddenly transformed into a Marine \\'Raider\\'. Marion hitch-hikes his way into Wyoming and stops at a little Norman Rockwell-like little town. In the local café he meets Rose Hudkins, who immediately catches his eye. Staying with Hudkins parents, Marion attracts all sorts of attention from the towns folks. Mr Hudkins suspects Marion and wonders how a Marine \\'Raider\\' could still be so innocent. The story also brings up the Japanese Internment Camps, as the towns folks go \\'hunting\\' 3 escapees. Marion is shot accidentally during this hunt. But there\\'s still a happy ending, which befuddled me a bit. I would have preferred a little more drama! Anyway, this captures JMV at the peak of his 70\\'s performances. BUSTER AND BILLIE, BABY BLUE MARINE and WHITE LINE FEVER in the mid-70\\'s were amazingly good JMV performances. He was both an action star and a heart-throb all at the same time!!! He made a lot of quality movies during his career, and continued to do so up into the mid 80\\'s with the great TV show Airwolf. He does a very good job in this as \\'Hedge\\', quietly observing the way people treat him (in his uniform) as he travels across the country. He must have performed some of the stunt work as well- there is a harrowing river scene at the end of the movie-and it looks like he\\'s the guy getting tossed down the river to me! But really, at the height of his popularity, this movie could have done so much more with JMV\\'s talent and his looks. Innocence can only be so interesting. Evil, as explored in \"Buster and Billie\", is much more dramatic! Anyway, Glynnis O\\'Connor is delightful as Rose. The whole look of the movie is like a Norman Rockwell painting. The outdoor scenes are gorgeous - must have been filmed in Canada.',\n",
              "       'The film someone had to make.<br /><br />Waco: The Rules of Engagement dissects the evidence behind the standoff in Waco, Texas that led to the destruction of the Branch Davidian homestead and the alleged government cover-up.<br /><br />The first thing you need to know about this film: you will see brief but disturbing photos of the victims bodies. This is not done for shock value, but to illustrate points about the way they died, as if you were present at the coroner\\'s inquest.<br /><br />The second thing you should know about this film: at two and a quarter hours, it\\'s pretty ponderous - especially if you already followed the events closely at the time. If you are unaware of any of the events other than what was reported in the mass media, or if the only side of the story you are familiar with is the official government report, this may be essential viewing. If, on the other hand you want a more concise (albeit unapologetically one sided) version of events, you should see \"Waco: The Big Lie\".<br /><br />In summary, this is pretty much the definitive documentary about this tragic event, and is very sobering, but as a work of film-making, could test your patience, especially if you have a short attention span. And it\\'s at times superfluous for those who watched the CSPAN hearings and the 60 Minutes reports.<br /><br />Perhaps someday someone will make a documentary that covers some of the stranger aspects of this story, such as the bizarre chain of events that led up to the ATF raid or the psychological warfare tactics the FBI used blasting rock music at the sect, and their charismatic leaders (all rock musicians themselves) picking up their instruments and turning their massive amplifiers outward to blast their own music right back at them.',\n",
              "       'First of all \"Mexican werewolf in Texas\" is not a werewolf movie. This title is bullcrap. The story is actually about a Chupacabra that kills all the local villagers in the little town of Furlough in Texas. I suppose the distributors renamed the original title so that it would make some extra bucks or something. And I guess it actually works because that\\'s the reason why I bought this piece of crap, it sounded so stupid. Anyway the movie isn\\'t any good. Actually it\\'s bloody awful. But I didn\\'t expect anything else when I bought it. It\\'s a low budget horror movie with a Chupacabra monster. If you enjoy low budget horror with bad dialog, actors and some gore then you should check into this movie. But I must warn you, this movie is really baaaaaaad.<br /><br />This movie has some of the worst acting I have ever seen. The actors try to hard and t it gets completely ridiculous. They almost never say a line in a normal way. They always have this completely wrong tone about just everything they say. It\\'s so stupid it almost looks like a freakin parody. It\\'s like they shot each scene only one single time and were happy about it. The worst of them all is the blond girl which is supposed to play a bimbo. She\\'s the worst of them all. I have never seen an actor as bad as her (And I\\'ve seen Pteradactyl). Even when her boyfriend dies she can\\'t stop being a bimbo about it. I hate her.<br /><br />Some of the shots in this movie were actually quite good. The ones that where shot in the daytime are all pretty decent for a low budget project. But most of the movie is shot in the night when the Chupacabra strikes and the lighting is way too dark. The gore scenes are few and short, but really grizzly and violent. The effects are pretty hilarious really, but that\\'s the way I like it. The Chupacabra looks pretty messed up, and it\\'s easy to see that it\\'s a guy in suit.<br /><br />Overall this movie should only be watched by extreme fans of low budget flicks and it\\'s very important to not watch this alone because you will probably be bored to death. I recommend watching this flick with your friends and some beer.',\n",
              "       \"Every high praise word fell way short before the height of this movie. This movie is the true example of how a psychological horror movie should be.<br /><br />The plot seems to be a bit confusing at first viewing but it will definitely explain a bit about what's going on and you really want to view it for the second time. But after second viewing you will start to join the pieces together and then you will know how amazing a movie can be.<br /><br />A word of advice for slasher flick fans stay away from this movie. This is not your dumb ass teenage slasher movie, in which you just switch off your brain and sit in front of the screen just to see big b**bs and lots of blood.<br /><br />If you want to heighten the psychological horror factor of this movie then watch it all alone with a great home theater system that supports Dolby Digital or DTS 5.1ch, without any of your ill mannered friends that crack jokes on a really tense situation. And don't forget to switch the light off.<br /><br />My points on different aspects:-<br /><br />Direction = 9/10 Acting = 8/10 Atmosphere = 10/10 Sound Effect = 9/10<br /><br />Total = 9/10\",\n",
              "       \"If you like me is going to see this in a film history class or something like that at your school, try to convince your teacher to see something else. believe me, anything is better than this movie. it is slow paced, confusing, boring, poorly constructed, gory, gringy, do I need to go on? It's message is good, but I have seen them been handled better in several other films. The acting isn't even any good. This movie is just even more awkward, as it start off as being funny (not intensional though)because of it's surreal story, than at the end, just becomes uncomfortable to watch.<br /><br />I honestly feel like 1 hour and 40 minutes of my life has been robbed. Why would anyone want to watch a girls describe a threesome for 10 minutes, than watch them drive through a traffic jam for 20 minutes, listen to a hippie who can make sheep appear, witness a sort of rape, than see the female lead role eat her husband.<br /><br />Honestly this movie deserves nothing but a 1/10. And if your not happy with my preview,seriously I'm an open minded guy and I like movies that protest through symbolism, but this movie was just awful. make any excuse you can, to avoid this film.\",\n",
              "       'If you really really REALLY enjoy movies featuring ants building dirt-mirrors, eating non-ants, and conquering the world with a voice-over narrative, then this is the movie for you. Basically, a couple of scientists working out of a bio-dome communicate with highly intelligent ants (the most intelligent actors in this film) in an attempt to try to thwart their plans of conquest and extermination. Throughout the movie the two scientists (and a girl they rescued from the ants) use everything at their disposal (computers, green dye, and horrid acting), but to no avail. I guess they just couldn\\'t afford any pesticides because the movie would be over too quickly.<br /><br />The title of the movie \"Phase IV\" is something of a mystery. This is not a spoiler, but \"Phase I\" starts right after the opening credits whereas you don\\'t reach \"Phase IV\" until the end credits roll. Apparently the director knew the movie would be tedious to get through and so placed Phases 1 - 3 throughout the movie as a kind of progress report: \"Hang in there buddy! Only 1 more phase until final credits!\" As a MST3K episode, this one wasn\\'t very good for two reasons: 1) This one is from the Season 0 on KTMA when they were first starting out so the riffing is not as good as in later seasons; and 2) This movie is so bad not even J&TB can lighten it up. There are one or two Gamera references as they had just finished riffing 5 Gamera movies.<br /><br />The movie does have a trick/surprise ending, but I was so glad to reach the end the effect was lost on me.',\n",
              "       \"elvira mistress of the dark is one of my fav movies, it has every thing you would want in a film, like great one liners, sexy star and a Outrageous story! if you have not seen it, you are missing out on one of the greatest films made. i can't wait till her new movie comes out!\",\n",
              "       'I\\'ll not comment a lot, what\\'s to??? Stereotype characters, absolute ignorance about Colombia\\'s reality, awful mise en scene, poor color choice, NOT funny (it supposed to be a comedy and they expect that you will laugh because some distend music it\\'s beside the nonsense scenes), Very poor actors direction (if you see somewhere those people, I mean the interpreters, you\\'ll know they are at least good, but seeing this so call film, it is impossible to guess it), you get tired of the music... this \"comedy\" has no rhythm, the only good rhythm in it, it\\'s the rap sing in the final credits....pathetic, doesn\\'t it? etc...etc... It has been a long time I haven\\'t seen a movie so bad!!',\n",
              "       'This movie is so God-awful that it was literally a chore to watch. I wanted to eject it from my vcr and throw it across the room, but kept thinking (foolishly) that it would eventually get funny and then everything would be all right. \"You lose, we win, yay!\" This movie should be required viewing for anyone who even once entertained the thought that Jackie Mason was funny. After that, beat them ove the head with this movie until the tape cracks. And if you\\'re even considering renting this turd (or worse yet, have!) I have one thing to ask of you: didn\\'t you even look at the cover? I mean, with crap like this you can tell with just a glance how bad it is! \"Oy vey!\" This movie sucked.',\n",
              "       'this is one of the finest movies i have ever seen....the stark scenery...the isolation...the ignorant bigoted people hiding behind their religion...a backdrop for some wordliness and sophistication...the acting is completely natural...but for me as a\"foodie\\' the best is the actual choosing and preparation of the feast..i have spent time in paris and know the cuisine well...whether or not the cafe anglais really exists i don\\'t know but i do know of similar establishments and babette\\'s menu and choice of wines are authentic...and of course the end where despite themselves the perfect meal mellows them back to friendship is the only ending there could be..this is a 10 out of 10 film and should be seen by anyone with enough brain and taste to understand it',\n",
              "       \"Of all the movies of the seventies, none captured to truest essence of the good versus evil battle as did the Sentinel. I mean, yes, there were movies like the Exorcist, and other ones; but none of them captured the human element of the protagonist like this one. If you have time, check this one out. You may not be able to get past the dated devices as such, but this is a story worth getting into.Then there are all the stars and soon-to-be stars. My absolute favorites were Eli Wallach, Sylvia Miles, and Burgess Meredith. Then there are the subtle clues that lead to what's going on too. Pay close attention. I had to watch it four times to catch on to all the smaller weird statements like 'black and white cat, black and white cake'. Plus, the books are really good as well. I'm just sorry that they're not going to turn the second book into a film. It's so scary that it would outdo this movie.\",\n",
              "       'How can so many blundering decisions can be made. All that waste of resources!Its an idiotic story to begin with but theres no need to make it worse.A loose interpretation? Are you kidding! it diminishes my regard for Voight and Coburn.I hope they were paid well.',\n",
              "       'This movie shows a clip of live animal mutilation of an animal getting hacked by a machete and getting its skin ripped off. I know these horrible things happen in the world, but Im watching movies based on the fact that what Im watching is not actually happening on the screen. These live animal clips are not meant to be in movies, they are meant to show people that belong to certain organizations to help the horrible things that humans to do other species.<br /><br />This should be banned and destroyed. I have also contacted Netflix and other resources to collaborate getting this movie off the market!!<br /><br />This movie should be removed from the public. The person who made this movie needs psychological help.',\n",
              "       \"I have seen most, if not all of the Laurel & Hardy classic films. I have always enjoyed there comical stupidly, even after watching it over and over again. This new film attempts to bring back the classic with two new actors who resemble both Laurel & Hardy, however fails miserably for various reasons. One of which is how out of place their cloths are (still early 20th century) however are both portrayed in the 90's setting. Some of the former dialogue was brought back, however it also fails miserably to come close to the classic series. This film could very well be the worst film I have ever seen and should be pulled off the shelf and locked away forever. The real Laurel & Hardy are surly spinning in their graves at such a bad imitation.\",\n",
              "       \"Do a title search on Randolph Scott and TRAIL STREET is the one film missing from the list you've seen. One of 4 films Scott made at RKO during his prime (1947) the others are always easy to get. Liberal, Kansas is just southwest of Dodge City and is a powder-keg about to explode between the trail-riders who drive the longhorns into Trail Street, the town's main street, and the sod-busters who feed our bellies. It'll take a strong man like Bat Masterson to step between the two groups and bring the town to order. More I won't say, except that Scott movies usually have just one pretty girl and this one has three. RANDOLPH SCOTT always played men you could look up to for their sense of honor, courage, level-headedness and willingness to do the right thing. Fifty years ago parents could send their kids to a Scott movie with confidence they'd learn positive values. ROBERT RYAN co-stars in this film, playing a good guy for a change. In real life, RYAN was one of the many WORLD WAR II HEROS who starred in America's movies. How sad what we get these days. George Clooney teaches our young that we ought sympathize with suicide bombers, while Steven Spielberg teaches there is no moral difference between the Olympic athletes murdered in 1972 in Munich and the Palestinian terrorists who killed them. Hollywood 2005 derives their moral compass from too much cocaine and too much commitment to the wacky left. I wonder how all this plays out in Liberal, Kansas. Liberal, after all, was not a dirty word 150 years ago when the city was named.\",\n",
              "       'We brought this film as a joke for a friend, and could of been our worst joke to play. The film is barely watchable, and the acting is dire. The worst child actor ever used and Hasslehoff giving a substandard performance. The plot is disgraceful and at points we was so bored we was wondering what the hell was going on. It tries to be gruesome in places but is just laughable.<br /><br />Just terrible',\n",
              "       'Things to Come is an early Sci-Fi film that shows an imagined world, or \"Everytown\" through 100 years. You can break it up into about 4 different scenes or parts. The film spans from 1940 to 2036 and is mainly about how this ruler or the \"Boss\" wanted to get the capability to fly in airplanes again, after Everytown was bombed and war broke out.<br /><br />This film only has about 3 faults: it\\'s audio is muddy and video had some quirks, the characters aren\\'t deep at all, and the overall plot isn\\'t altogether solid. The plot is lacking something that I can\\'t put my finger on... it just seems a little \"fluffy.\" But if you love sci-fi and are interested in what H.G. Wells though might happened in the next hundred years, this is a must see. It\\'s worth seeing just to learn of what everyone was fearing: a long, drawn-out war, because they were just about to go to war with Germany, and there was a threat of biological weapons and everything.<br /><br />Things to Come is a pretty good movie that most people need to see once.',\n",
              "       'This film is so old I never realized how young looking Ray Milland looked in 1936, I remember him playing in a great film, \"Lost Weekend\". Ray plays the role of Michael Stuart, who is a very rich banker. There are three girls in this picture who are not very happy about their father and mother separating and they find out their father is going to get married to a young blonde who is a gold digger only looking for a rich sugar daddy. They hire a man to pose as a very rich Count, his name is Count Ariszted, (Misha Auer) who is drunk all the time and is penniless and gives plenty of comic laughs throughout the picture. Deanna Durbin, (Penny Craig) surprised everyone when she was booked in a police station and told the chief of police that she was an opera star and then Penny starts singing with the most fantastic soprano voice I have every heard, the entire police department and convicts started applauding, which was a very entertaining and enjoyable scene from this film. This is Deanna Durbin\\'s first film debut and she became an instant success over night and went on to become a great movie star with Universal Studios after leaving MGM.',\n",
              "       \"Many of the reviews and comments I have read about this movie say that this is a rather stale film and performance by Clara Bow. Although the story-line was rather typical of Clara's later silents, I still find it somewhat heart-stirring and incredibly fun. Clara plays a happy-go-lucky Hawaiian girl who will stop at nothing to win the man she loves...never mind that this man is married! Clara's lack of modesty was shocking in the day, but I believe it lends to the sweetness and general fun of the movie. Though definitely not a brilliant story-line (quite typical, actually), this movie is a nice showcase of Clara's ability to make the audience laugh.\",\n",
              "       'A rating of \"1\" does not begin to express how dull, depressing and relentlessly bad this movie is.',\n",
              "       \"It's nice to see a romantic comedy that does not have the prissy man lead, this has solid acting from both male leads and also from the female lead and although the story is a little long and a little cliché you cant help but like it.<br /><br />I think the story was a little rushed at the end, but extending that would have made the story even longer. Superior to other romantic comedies such as 100 days with Mr arrogant, and possibly tied with my tutor friend.<br /><br />It would make an interesting introduction to Korean cinema, not as great as My sassy girl, but still good.\",\n",
              "       \"Even this early in his career, Capra was quite accomplished with his camera-work and his timing. This is a thin story -- and quite predictable at times -- but he gets very good performances out of his cast and has some rather intricate camera moves that involve the viewer intimately. The first part looks like a Cinderella story, though anyone with brains can see that the bottom will fall out of that -- the rich 'prince' will lose his fortune.<br /><br />Nonetheless, because of his good cast and fast pace, it's easy to get caught up in the clichés. Then the movie does become more original, as the married couple have to find a way to make a living. The ending is very predictable but satisfying. I also want to compliment the title-writing: very witty and fun.\",\n",
              "       'Minimal script, minimal character development, minimal steady camera. Maximum stretched scenes, maximum headache inducing jerky zooms, maximum characters walking around in the woods doing nothing. Up until the time flashes on the screen of 12:01pm, you can fast forward and miss nothing, since there are three hunters who we know nothing about doing nothing. To be fair, the movie does have some string music that was interesting, so perhaps a music video would have been the way to go with this. Unfortunately that was not to be, and what should have been a twenty minute short is stretched beyond belief. Forget about \"Trigger Man\", I know I am trying to. - MERK',\n",
              "       'Okay, I\\'ve watched this movie twice now, I have researched it heavily on the net, I have asked several people on there opinions. I have even gone to the length of reading the original Sheridan Lafanu Classic \\'Carmilla\\', a book that this movie is supposed to be based on. I feel that the best way to review this movie is to describe a game to play whilst watching it. As the plot of the movie doesn\\'t seem to make any sense at all, here is the plot of the book.<br /><br />Laura lives in a castle in Syberia with her Father, Mr De Lafontaine. They carry on with their lives blissfully and peacefully. One day they get a letter from the \\'General\\' a man who has made it his mission in life to avenge his daughters death. He makes claims of supernatural powers being at work, and explains that he will visit them soon. Meanwhile, a chance encounter with a strange woman results in the Lafontaines looking after her Daughter, Carmilla, for several months. Soon Laura starts to be overwhelmed by strange dreams, and begins to come down with a strange illness. Who is this mysterious Carmilla? And just what has she to do with Laura\\'s condition, and the General?<br /><br />I have invented this game and would like as many people as possible to play it, and let me know what their results are. I even have a catchy name, and would have a jingle too, but I can\\'t be bothered with that. It\\'s called the \"this movie doesn\\'t make any sense\" game.<br /><br />All you have to do is, whilst watching the movie, try to come up with a complete plot that explains what is happening. I mean complete, all questions answered, everything makes sense, absolutely complete.<br /><br />It will have to answer such questions as ... <br /><br />* Why can vampires walk around in day light?<br /><br />* Why are they all lesbians?<br /><br />* Why is a girl called Bob? and why does she shoot herself?<br /><br />* When is the movie a dream and when is it real?<br /><br />* Why does killing zombies appear to be an accepted part of life that doesn\\'t make anyone bat an eyelid?<br /><br />* Why does Travis Fontaine spot and run down a zombie without slowing down whilst driving his car, yet when faced with a woman with an obvious hostage in the back of her car, accept the excuse that she is a zombie too?<br /><br />* And why does he then let a girl, which he later openly reveals that he knows is the head vampire, drive with him in his car?<br /><br />* And then let her drive off, alone with his daughter in a stolen car?<br /><br />What the hell is the asylum scene all about?<br /><br />* What the hell is the green goo all about?<br /><br />* Why does the head vampire suddenly start dressing like a nurse?<br /><br />* Why are there never any vampires fighting Zombies?<br /><br />* What is the significance of the necklace? what is it made of? why does it kill vampires? and how does Jenna know that?<br /><br />In fact sod it, it\\'s just as much fun trying to come up with as many questions about this movie too.<br /><br />I have my plot, and I have to admit it is not quite there, but it is a pretty good effort.<br /><br />In Conclusion<br /><br />\\'Vampires vs Zombies\\' has no moment in it where there are actually Vampires fighting Zombies. Everyone in the movie seems to know exactly what is going on, yet they seem very reluctant to let the audience in on this. And somehow it is based on a classic 19th century horror novel. How? Why? What the hell is going on?',\n",
              "       \"This is a great, ridiculous horror movie that captures the essence of the mid to late 80s' obsession with how evil metal music supposedly was. I can remember being freaked out by metal teens when I was a kid. It doesn't help that I found a desecrated grave in my hometown's graveyard when I was ten. Turns out this weird metal kid had dug up some old bodies and used their bones in some weird sacrifice to satan. So maybe stuff like deterred me from metal for awhile, but I love it now, as a 24 year old.<br /><br />I bought this DVD used for 6 bucks and I expected it to suck due to the lame cover, but to my surprise, it ruled. It is all about the extreme demonic power of metal. And you gotta love a scene where a guitar shoots lazers and vaporizes headbangers in the crowd. This movie is awesome, if you love 80s metal and bad movies, this one's for you. 9/10!\",\n",
              "       \"A well-made run-of-the-mill movie with a tragic ending. Pluses: The way the story moves - begins with Soorya struggling to live followed by a long flashback about why he's there. The Music. A disinterested look at the life of policemen. Minuses: The violence and the gore, but I guess they add to the realistic effects. Still, having people's heads chopped off and sent in boxes and sacks could have been avoided.<br /><br />No complaints - 7/10\",\n",
              "       \"Maybe I loved this movie so much in part because I've been feeling down in the dumps and it's such a lovely little fairytale. Whatever the reason, I thought it was pitch perfect. Great, intelligent story, beautiful effects, excellent acting (especially De Niro, who is awesome). This movie made me happier than I've been for a while.<br /><br />It is a very funny and clever movie. The running joke of the kingdom's history of prince savagery and the aftermath, the way indulging in magic effects the witch and dozens of smart little touches all kept me enthralled. That's much of what makes it so good; it's an elaborate, special-effects-laden movie with more story than most fairytale movies, yet there is an incredible attention to small things.<br /><br />I feel like just going ahead and watching it all over again.\",\n",
              "       '\"Night of the Living Homeless\" was a fairly strong finish to the first half of Season 11. Obviously a parody of various zombie movies, most notably Dawn of the Dead, this episode parallels the homeless with the living dead, as creatures who feed and thrive off of spare change rather than brains.<br /><br />Kyle is blamed for the sudden mass outbreak of homeless people when he, out of the goodness of his heart, gives a $20 to a homeless man in front of his house. More homeless people begin to infiltrate South Park, until the town is completely overrun with them. This is a very strong Randy Marsh episode, as he assumes the role of the shotgun-wielding leader of the adults who take refuge on the roof of the Park County Community Center. But before Randy makes it to the community center, he is accosted by hundreds of homeless people while hilariously screaming \"I don\\'t have any change!!\" Unfortunately, the refugees end up losing Gerald Broflofski to the homeless, when he tries to escape by catching a bus out of town, and unwittingly tosses away all his change for the bus to distract the homeless people. Then he becomes one of them, asking everyone for change.<br /><br />The boys attempt to find out why there are so many homeless people in South Park, and find a man who is a director of homeless studies. They find out that the nearby city of Evergreen used to have a similar problem with the homeless, so they escape to Evergreen to find out what they did to solve the problem. Unfortunately, homeless people break into the man\\'s house, and he attempts to take the easy way out by shooting himself. However, he fails several times, as he shoots himself in the jaw, in the eye, in the chest, in the neck, in the shoulder, screaming horribly until he finally dies. This scene may have been funnier had a similar scene not happened in \"Fantastic Easter Special\" two weeks ago.<br /><br />Meanwhile, a member of the refugees discovers that due to the homeless problem, the property values have nosedived, thus the bank has foreclosed on his house, making him homeless. Randy immediately turns on him, holding the gun to the man\\'s head. When the man finally begs the others for a few bucks to help him out, Randy pulls the trigger.<br /><br />In Evergreen, the boys find out that the citizens of the town sent the homeless to South Park, and that the passing of homeless from town to town happens all over the country. The boys modify a bus that leads the homeless out of South Park and takes them all the way to Santa Monica, California.<br /><br />The zombie movie parallels and the great Randy Marsh lines make this one definitely re-watchable. 8/10',\n",
              "       \"I liked Boyle's performance, but that's about the only positive thing I can say. Everything was overdone to the point of absurdity. Most of the actors spoke like you would expect your 9-year-old nephew to speak if he were pretending to be a jaded, stone-hearted cop, or an ultra-evil villain. The raspy voice-overs seemed amateurish to me. I could go buy a cheap synthesizer and crank out better opening music. And what's with the whole 1984ish police torture stuff? It was totally superfluous and had nothing to do with the actual events of the story. Cox added a lot of things, in fact, that he apparently thought would be really cool, but had nothing to do with the story. That's a big disappointment because one of the things that makes Borges' stories so good is his minimalism -- they are tightly bound, with no superfluous details. This movie is just the opposite. I stopped watching after the scene where Lonnrot is questioning the guy from the Yidische Zaitung, or thereabouts. I wasted $4 renting this, but at least I can get some satisfaction from writing this review and hopefully saving others from making the same mistake.\",\n",
              "       '***SPOILERS*** All too, in real life as well as in the movies, familiar story that happens to many young men who are put in a war zone with a gun, or rifle, in their hands. The case of young and innocent, in never handling or firing a gun, Jimmy Davis, Franchot Tone, has been repeated thousands of times over the centuries when men, like Jimmy Davis, are forced to take up arms for their country.<br /><br />Jimmy who at first wanted to be kicked out of the US Army but was encouraged to stay, by being belted in the mouth, by his good friend Fred P. Willis, Spencer Tracy, ended up on the front lines in France. With Jimmy\\'s unit pinned down by a German machine gun nest he single handedly put it out of commission picking off some half dozen German soldiers from the safety of a nearby church steeple. It was when Jimmy gunned down the last surviving German, who raised his arms in surrender, that an artillery shell hit the steeple seriously wounding him.<br /><br />Recovering from his wounds at an Army hospital Jimmy fell in love with US Army volunteer nurse Rose Duffy, Gladys George. Rose was really in love with Jimmy\\'s good friend the happy go lucky Fred despite his obnoxious antics towards her. It\\'s when Fred was lost during the fighting on the Western Front that Rose, thinking that he was killed, fell in love and later married Jimmy. When Fred unexpectedly showed up in the French town where Jimmy, now fully recovered from his wounds, was stationed at things got very sticky for both him and Rose who had already accepted Jimmy\\'s proposal of marriage to her!<br /><br />With WWI over and Jimmy marrying Rose left Fred, who\\'s still in love with her, a bitter and resentful young man. It was almost by accident that Fred ran into Jimmy on the streets of New York City and discovered to his shock and surprise that he completely changed from the meek and non-violent person that he knew before he was sent to war on the European Western Front. Smug and sure of himself, and his ability to shoot a gun, Jimmy had become a top mobster in New York City\\'s underworld! Not only that but as Fred later found out his wife Rose had no idea what Jimmy was really involved in with Jimmy telling her that he works as a law abiding and inoffensive insurance adjuster.<br /><br />Jimmy\\'s life of crime came full circle when Rose, after she found out about his secret life, ratted him out to the police to prevent him from executing a \"Valentine Day\" like massacre, with his gang members dressed as cops, of his rival mobsters. While on trial Jimmy came to his senses and admitted his guilt willing to face the music and then, after his three year sentence is up, get his life back together. <br /><br />***SPOILER ALERT*** Hearing rumors from fellow convicts that Rose and his best friend Fred were having an affair behind his back Jimmy broke out of prison ending up a fugitive from the law. It\\'s at Fred\\'s circus, where he works as both manger and barker, that Jimmy in seeing that Rose as well as Fred were true to him that he, like at his trial, had a sudden change of heart. But the thought of going back to prison, with at least another ten years added on to his sentence, was just too much for Jimmy! It was then that Jimmy decided to end it all by letting the police who by then tracked him down do the job, that he himself didn\\'t have the heart to do, for him!',\n",
              "       \"I didn't know what to except so I think it was a lot better not having excepted much. Don't get my wrong its not a bad short film. Tess Nanavati is a relatively new directer and writer so I think she deserves a lot of kudos for making this film. You can tell that it has been an act of love for her. The acting (outside of Dominic) is a little cheesy and the quality of film is not great either but for a really low budget film its good. There was times when the story line gets convoluted and there are parts that drag on, though I don't feel it greatly detracts for one's ability to understand the film. If you love Dominic Monaghan as much as I do, I say go for it. The gag reel was fun, I won't spoil it but there is a particular scene that makes buying the DVD worth it just so you can watch it over and over. If you like the film then check out The Pink Mirror, a film also done by Jagged Edge. I know fans of Dominic will enjoy this little piece of heaven.\",\n",
              "       'I have recently seen this production on DVD. It is the first time I have seen it since it was originally broadcast in 1983 and it was just as good as I remembered. At first as was worried it would seem old fashioned and I suppose it is a little dated and very wordy as the BBC serials were back then. (I miss those wonderful costume dramas that seemed to be always on Sunday afternoons back then) But that aside it is as near perfect as it could have been. I am a bit of a \"Jane Eyre\" purist as it is my favourite book and have never seen another production that is a faithful to the book as this one. I have recently re-read the book as well and some of the dialogue is just spot on. Reading the scene near the end where Rochester questions Jane about what St John was like I noticed their words were exactly reproduced on screen by Dalton and Clarke and done perfectly. <br /><br />All the other productions that have been done all seem lacking in some way, some even leave out the \"Rivers\" family and their connection to Jane altogether. I also think this is the only production to include the \"Gypsy\" scene done correctly.<br /><br />The casting is perfect, Zelah Clarke is like Jane is described in the book \"small plain and dark\" and I disagree that she looked too old. Timothy Dalton may be a little too handsome but he is absolutely perfect as Rochester, portraying every aspect of his character just right and acting his socks off! I agree with other comment that he even appears quite scary at time, like in the scene when he turns around slowly at the church when the wedding is interrupted, his expression is fantastically frightening. But then in another favourite scene his joy is wonderful to see when Jane runs down the stairs and into his arms the morning after they declare their love for one another. A love that is wonderfully portrayed and totally believable. Oh to be loved by a man like that! There were a couple of scenes that were strangely missing however, like when Jane climbs in to bed with the dying Helen and also when Rochester takes Jane shopping for her wedding things (I thought that one was in it but maybe my memory is playing tricks).<br /><br />Finally if you never see another production of Jane Eyre - you simply most see this one it is simply perfection!',\n",
              "       \"this film is quite simply one of the worst films ever made and is a damning indictment on not only the British film industry but the talentless hacks at work today. Not only did the film get mainstream distribution it also features a good cast of British actors, so what went wrong? i don't know and simply i don't care enough to engage with the debate because the film was so terrible it deserves no thought at all. be warned and stay the hell away from this rubbish. but apparently i need to write ten lines of text in this review so i might as well detail the plot. A nob of a man is setup by his evil friend and co-worker out of his father's company and thus leads to an encounter with the Russian mafia and dodgy accents and stupid, very stupid plot twists/devices. i should have asked for my money back but was perhaps still in shock from the experience. if you want a good crime film watch the usual suspects or the godfather, what about lock, stock.... thats the peak of the contemporary British crime film.....\",\n",
              "       'After sitting through this pile of dung, my husband and I wondered whether it was actually the product of an experiment to see whether a computer program could produce a movie. It was that listless and formulaic. But the U.S. propaganda thrown in your face throughout the film proves--disappointingly--that it\\'s the work of humans. Call me a conspiracy theorist, but quotes like, \"We have to steal the Declaration of Independence to protect it\" seem like ways to justify actions like the invasion of Iraq, etc. The fact that Nicholas Cage spews lines like, \"I would never use the Declaration of Independence as a bargaining chip\" with a straight face made me and my husband wonder whether the entire cast took Valium before shooting each scene. The \"reasoning\" behind each plot turn and new \"clue\" is truly ridiculous and impossible to follow. And there\\'s also a bonus side plot of misogyny, with Dr. Whatever-Her-Name-Was being chided by all involved for \"never shutting up.\" She\\'s clearly in the movie only for looks, but they felt the need to slap a \"Dr.\" title on her character to give her some gravity. At one point, Cage\\'s character says, \"Don\\'t you ever shut up?\" and the camera pans to her looking poutily down at her hands, like she\\'s a child. Truly grotesque. The only benefit to this movie was that it\\'s so astonishingly bad, you do get a few laughs out of it. The really scary thing is that a majority of the people watching the movie with us seemed to enjoy it. Creepy....',\n",
              "       'The most self-indulgent movie I have every had the misfortune to<br /><br />rent. Unwatchable. Much of the movie is obviously improvised,<br /><br />and not well. It looks like Toback took the first take of<br /><br />everything. The movie gets good for a couple of minutes when<br /><br />Robert Downey Jr. shows up, then goes to hell again real<br /><br />quickly.',\n",
              "       'I consider myself a bit of a connoisseur of boxing movies and as such there is only one thing that prevents me from calling \"Gentleman Jim\" the best boxing movie ever made. That is the Robert Wise/Paul Newman flick \"Somebody Up There Likes Me.\" That movie might be number 1, but \"Gentleman Jim\" is a close number 2.<br /><br />The movie doesn\\'t just chronicle the rise of James J. Corbett, it also shows the sport of boxing at a crucial time of transition. In the late 1800s boxing was moving away from the brutal days of bare-knuckle rules to the more \"gentlemanly\" days of the gloved, Marquis of Queensbury rules. And the sport was moving away from the days when it was an illegal spectacle and towards a time of acceptance and respectability.<br /><br />\"Gentleman Jim\" is not a realistic look at those days. It is romanticized and, yes, even a bit hokey at times. But always delightfully so. Errol Flynn is perfect as the \"Gentleman\" Jim who really isn\\'t a \"gentleman\" at all but merely a fast talker from a working class family. Alexis Smith is quite ravishing as the upper class woman with whom he has a love/hate relationship (and we all know it is, of course, love that will win that match in the end).<br /><br />At the end of \"Gentleman Jim\" the great John L Sullivan (whose famous line was NOT \"I can lick any man in the world\" of course...romanticism again) hands over his belt to Corbett. This is truly one of the best scenes in any sports move ever made. Realistic? No. But wonderful. Hey, if you want realism watch \"Raging Bull\" instead. That is a much more realistic boxing movie. But \"Gentleman Jim\" is a lot more fun.',\n",
              "       'The film\\'s design seems to be the alpha and omega of some of the major issues in this country (U.S.). We see relationships all over at the university setting for the film. Befittingly, the obvious of student v.s. teacher is present. But what the film adds to its value is its other relationships: male v.s. female, white v.s. black, and the individual v.s. society. But most important of all and in direct relation to all of the other relationships is the individual v.s. himself. <br /><br />I was amazed at how bilateral a point of view the director gave to showing the race relations on campus. Most films typically show the injustices of one side while showing the suffering of the other. This film showed the injustices and suffering of both sides. It did not attempt to show how either was right, although I would say the skin heads were shown a much crueler and vindictive (quite obvious towards the end). The film also discusses sex and rape. It is ironically this injustice that in some ways brings the two races together, for a time. Lawrence Fishburne does an over-the-top performance as the sagacious Profesor Phipps. He crumbles the idea of race favortism and instead shows the parallelism of the lazy and down-trodden with the industrious and positive. Other stars that make this film are Omar Epps, Ice Cube, and Jennifer Connelly. Michael Rapaport gives an excellent portrayal of a confused youth with misplaced anger who is looking for acceptance. Tyra Banks make her film debut and proves supermodels can act.<br /><br />Higher Learning gets its name in showing college as more than going to class and getting a piece of paper. In fact, I would say the film is almost a satire in showing students interactions with each other, rather than some dry book, as the real education at a university. It is a life-learning process, not a textual one. I think you\\'ll find \"Higher Learning\" is apropos to the important issues at many universities and even life in general. 8/10',\n",
              "       \"While not quite as good as A Murder is Announced, which was not only delightful but almost surpassed the book, this is an excellent adaptation. And you know what, it is a huge improvement on the Geraldine McEwan version. Now I don't take pride in bad mouthing the Geraldine McEwan adaptations, two or three of them were surprisingly good, but others started off well but ruined by either a poor script, a confusing final solution or both. The Geraldine McEwan version suffered from a plodding pace, and both of the above problems, and I would consider second worst of the ITV adaptations, worst being Sittaford Mystery, which even on its own merits turned out dull and confusing. This adaptation of the book Nemesis is a huge improvement, it not only respects the book, despite a few liberties, but it pretty much rectifies the problems the ITV version had. Despite the added character of Lionel coming across as rather irritating, more to do with how he was written than how he was acted, and one or two moments of sluggish pacing, this is solid as an adaptation of a decent book. It is beautifully filmed, with nice photography and period detail, and the music as always is excellent. The performances are wonderful this time around, and make the most of an in general well-done script, with Joan Hickson brilliant as always as Miss Marple, and solid turns from Liz Fraser, Helen Cherry, Joanna Hole and Anna Cropper. Margaret Tyzack is outstanding though in a chilling and moving performance as Clothilde. Overall, well worth watching, better than the recent version in pretty much all departments. 9/10 Bethany Cox\",\n",
              "       \"I was looking forward to The Guardian, but when I walked into the theater I wasn't really in the mood for it at that particular time. It's kind of like the Olive Garden - I like it, but I have to be in the right mindset to thoroughly enjoy it.<br /><br />I'm not exactly sure what was dampening my spirit. The trailers looked good, but the water theme was giving me bad flashbacks to the last Kevin Costner movie that dealt with the subject - Waterworld. Plus, despite the promise Ashton Kutcher showed in The Butterfly Effect, I'm still not completely sold on him. Something about the guy just annoys me. Probably has to do with his simian features.<br /><br />It took approximately two minutes for my fears to subside and for my hesitancies to slip away. The movie immediately throws us into the midst of a tense rescue mission, and I was gripped tighter than Kenny Rogers' orange face lift. My concerns briefly bristled at Kutcher's initial appearance due to the fact that too much effort was made to paint him as ridiculously cool and rebellious. Sunglasses, a tough guy toothpick in his mouth, and sportin' a smirk that'd make George Clooney proud? Yeah, we get it. I was totally ready to hate him.<br /><br />But then he had to go and deliver a fairly strong performance and force me to soften my jabs. <br /><br />Darn you, ape man! Efficiently mixing tense, exciting rescue scenes, drama, humor, and solid acting, The Guardian is easily a film that I dare say the majority of audiences will enjoy. You can quibble about its clichés, predictability, and rare moments of overcooked sappiness, but none of that takes away from the entertainment value.<br /><br />I had a bad feeling that the pace would slow too much when Costner started training the young guys, but on the contrary, the training sessions just might be the most interesting aspect of the film. Coast Guard Rescue Swimmers are heroes whose stories have never really been portrayed on the big screen, so I feel the inside look at what they go through and how tough it is to make it is very informative and a great way to introduce audiences to this under-appreciated group.<br /><br />Do you have what it takes to be a rescue swimmer? Just think about it -you get to go on dangerous missions in cold, dark, rough water, and then you must fight disorientation, exhaustion, hypothermia, and a lack of oxygen all while trying to help stranded, panicked people who are depending on you for their survival. And if all that isn't bad enough, sometimes you can't save everybody so you have to make the tough decision of who lives and who dies.<br /><br />Man, who wants all that responsibility? Not me! I had no idea what it was really like for these guys, and who would have thought I'd have an Ashton Kutcher/Kevin Costner movie to thank for the education? <br /><br />Not only does The Guardian do a great job of paying tribute to this rare breed of hero, but lucky for us it also does a good job of entertaining its paying customers.<br /><br />THE GIST <br /><br />Moviegoers wanting an inside look at what it's like to embark on a daring rescue mission in the middle of the ocean might want to give The Guardian a chance. I saw it for free, but had I paid I would've felt I had gotten my money's worth.\",\n",
              "       \"I was stunned by this film. Afterwards, I didn't even want to see any films for a long time- any other film would be so unsatisfying by comparison.<br /><br />For many, it may be the worst of Antonioni- very slow, without an engaging conventional story line, microscopic examinations of human emotions and interactions- and the worst of Wenders- verbose, confused transcendentalism. It is composed of short distinct episodes linked by Wenders' typical meandering hero's stream of consciousness, so it doesn't produce the temporary oblivion of escapist cinema.<br /><br />But for fans, the worst is the best and the disjointed story line is sketching a single poetic image that stretches across the film. Wenders and Antonioni create a discourse between their segments that seeks out the heart of things.<br /><br />\",\n",
              "       'Watched this last night and was bowled over by the heartfelt story line, the excellent character development, and the good karmic vibe emanating from the acting and movie as a whole.<br /><br />Without giving away too much of the plot, it begins with an ordinary joe who commutes to his office job every day who becomes inspired to take dance lessons. Along the way the protagonist and the assorted characters he meets in his quest to be smooth on the dance floor learn lessons about others and about themselves. <br /><br />The story has a prologue about what dancing in Japan symbolizes sociologically, so it isn\\'t exactly as simple to learn to dance in Japan as it is here in the U.S. <br /><br />The film is lighthearted; you\\'ll laugh out loud at some of the sight gags. Yet it is also dignified in a way hard to describe. All of the film\\'s characters are taken seriously, as they are, and none are diminished because of their \"imperfections.\"<br /><br />I\\'ve been thinking about taking social dance classes with some friends. It just so happened a friend lent me the video on learning to dance. Is this synchronous or what? I think so because now I\\'m really geeked to give it a try. <br /><br />Watch this wonderful family film (small children might not get it, but teens certainly would) and smile at the genuine caring you see shown in it time and again.<br /><br />Why they would make a remake of Shall We Dance is a mystery, as it is perfect as-is.',\n",
              "       \"Get Smart should be titled Get Stupid. There is not one funny line or gag in the entire film. This film is so bad it makes the Austin Powers films look Shakespearean. A few more films like this and Steve Carell can kiss his career goodbye. As for Anne Hathaway, what is she doing in this film? She's a good actress but is just plain terrible.<br /><br />The writing is pathetically lame. There is not one funny, clever, or witty line. There is not one good sight gag.<br /><br />The directing is terrible. Comedy relies on timing. Someone should tell the director that. Every line that is supposed to be funny (and isn't) is delivered with absolutely the worst sense of comic timing I've ever seen.<br /><br />0 stars\",\n",
              "       'First of all, let\\'s get a few things straight here: a) I AM an anime fan- always has been as a matter of fact (I used to watch Speed Racer all the time in Preschool). b) I DO like several B-Movies because they\\'re hilarious. c) I like the Godzilla movies- a lot.<br /><br />Moving on, when the movie first comes on, it seems like it\\'s going to be your usual B-movie, down to the crappy FX, but all a sudden- BOOM! the anime comes on! This is when the movie goes WWWAAAAAYYYYY downhill.<br /><br />The animation is VERY bad & cheap, even worse than what I remember from SPEED RACER, for crissakes! In fact, it\\'s so cheap, one of the few scenes from the movie I \"vividly\" remember is when a bunch of kids run out of a school... & it\\'s the same kids over & over again! The FX are terrible, too; the dinosaurs look worse than Godzilla. In addition, the transition to live action to animation is unorganized, the dialogue & voices(especially the English dub that I viewed) was horrid & I was begging my dad to take the tape out of the DVD/ VHS player; The only thing that kept me surviving was cracking out jokes & comments like the robots & Joel/Mike on MST3K (you pick the season). Honestly, this is the only way to barely enjoy this movie & survive it at the same time.<br /><br />Heck, I\\'m planning to show this to another fellow otaku pal of mine on Halloween for a B-Movie night. Because it\\'s stupid, pretty painful to watch & unintentionally hilarious at the same time, I\\'m giving this movie a 3/10, an improvement from the 0.5/10 I was originally going to give it.<br /><br />(According to my grading scale: 3/10 means Pretty much both boring & bad. As fun as counting to three unless you find a way to make fun of it, then it will become as fun as counting to 15.)',\n",
              "       \"Ed Wood rides again. The fact that this movie was made should give any young<br /><br />aspiring film maker hope. Any screenplay you might have thought of using to<br /><br />line a litterbox or a birdcage should now not seem that bad. Do not watch this movie unless you have a healthy stash of Tylenol or Rolaids. Watching this<br /><br />movie made me realize that Boa vs. Python was not that bad after all. It probably would have been better to do this movie in Claymation as at least that way no actor would have had to take credit for being in this film. It is understandable why this director has so many aliases. There is a bright side to watching this movie in that if you can get someone to bring you a bag of chips, then you can eat your way out of the cocoon of cheese that surrounds you enabling you to<br /><br />make your toward your TV set's cocoon of cheese that surrounds it.\",\n",
              "       'This film could have been a decent re-make, and gosh knows it tried (or Ms. English tried). Assembling talented actors together with a successful & experienced writer/director should be a formula for a decent film. But Ms. English\\'s experience - according to her IMDb bio - is exclusively limited to television work, and it is glaringly obvious throughout this film.<br /><br />I am surprised that none of the reviews I have read mention what I found most unlikeable about this film, and what kept it from reaching even a portion of its potential: it looked and felt like it was made for television. To give some credit to Ms. English, many of the jokes that simply did NOT work on a movie screen would have been terrific on TV (and maybe a laugh track would have helped). So much of the camera usage and the lighting would have played out fine on TV but looked awkward or odd on a big screen. If the whole film had been chopped up into a mini-series or a sit-com, I think it could have worked. But this is cinema and sadly Ms. English\\'s talents didn\\'t translate. I cringed at so many different points in my embarrassment for the actors & the writers that I felt like I came out of the theater half shriveled! Meg Ryan is her usual perky, cute self (except for the awful plastic surgery she has had on her face), but where did she have a chance to use her talent?! She has made films where she doesn\\'t recreate her stereo-typed role and done them well... but not here. Annette Bening seemed to simply go through the motions - such a great talent and yet such a poor performance! I enjoyed the other women characters but they were more caricature than substance, and it was sad to see. What worked in this film in the 1930s doesn\\'t translate to the 2000s, and no one helped Ms. English get the changes & updates or subtleties right. If only she (as writer, director AND producer) had reached out for some assistance, I think it could have been good. But it was not.<br /><br />It\\'s so frustrating to go to a movie that has good stars and a good writer or director and come away feeling it was a waste of everyone\\'s time & money! This New Yorker cartoon I saw yesterday is appropriate: A few movie execs are having a meeting & the caption reads: \"Let\\'s remake a classic with worse everything!\"',\n",
              "       \"This is one of my all time favorite cheap, corny, vampire B movies. <br /><br />Calvin Klein underwear model...oh, I mean, Stefan the Good Vampire, returns to Transylvania to ascend the throne of Vampiric Royalty, but Manicure-impaired and eternally drooling half brother Radu has other plans. Having killed their father the Vampire King, Radu now sets his sights on Stefan, Stefan's new mortal girlfriend Michelle and her two pretty friends, and the all-powerful Bloodstone.<br /><br />Okay, the scenery is beautiful, and it should be as it was shot on location in Transyl-fricken-vania for gosh sakes. The actresses are no great shakes and Stefan the Heroic Vampire is about as charming as a refrigerated fireplace poker, but who cares? There's only one reason to watch this movie, and his name is RADU! He's a physical homage to Nosferatu and he has the best lines in the movie, all spoken in the raspy voice of a man who smokes ten packs of cigarettes a day. The cemetery festival scene is one of the best scenes in the film, as Radu slowly approaches the camera and reveals his grinning, slobbering face for the world to see. I found myself cheering him on as he collected victims and taunted his perfect brother. But maybe I'm just a sicko. Questionable taste in men aside, I highly recommend this film to vampire enthusiasts. It's original, it's fun, and Radu is one of the best vampires I've seen in a long time...much more fun than the stiff, tragic, whining Undead brats that endlessly grace the horror screens these days. Radu enjoys his sadism and never apologizes. He's what a vampire should be.\",\n",
              "       'The performance of every actor and actress (in the film) are excellently NATURAL which is what movie acting should be; and the directing skill is so brilliantly handled on every details that I am never tired of seeing it over and over again. However, I am rather surprised to see that this film is not included in some of the actors\\' and director, Attenborough\\'s credits that puzzles me: aren\\'t they proud of making a claim that they have made such excellent, long lasting film for the audience? I am hoping I would get some answers to my puzzles from some one (possibly one of the \"knowledgeable\" personnel (insider) of the film.',\n",
              "       \"I watched this movie on TV last night, hoping for a realistic account of what could happen if there were an outbreak of some highly transmittable disease. I was disappointed, and I think the movie was garbage. It did not seem real to me. Some of the acting was awful, in particular that of the doctor. She was about the worst I've seen. The whole thing played like a CNN 'worst case scenario'. Even the obligatory disaster movie human relations bits didn't seem sincere. I have seen some disaster movies, in particular those weather ones, which are actually so bad they are amusing. This one is almost as bad, but it is not even amusing, it is tedious and boring.Don't bother with this one.\",\n",
              "       'I don\\'t believe there has ever been a more evil or wicked television program to air in the United States as The 700 Club. They are today\\'s equivalent to the Ku Klux Klan of the 20th century. Their hatred of all that is good and sweet and human and pure is beyond all ability to understand. Their daily constant attacks upon millions and millions of Americans, as well as billions of humans the world over, who don\\'t happen to share their bigoted, cruel, monstrous, and utterly insane view of humanity is beyond anything television has ever seen. The lies they spout and the ridiculous lies they try to pass off as truth, such as the idea of \"life after death\" or \"god\" or \"sin\" or \"the devil\" is so preposterous that they actually seem mentally ill, so lost are they in their fantasy. Sane people know that religion is a drug and shouldn\\'t let themselves get addicted to that type of fantasy. However, The 700 Club is in a class by itself. They are truly a cult. While I believe in freedom of speech, they way they spread hatred, lies, disinformation, and such fantastic ideas is beyond all limits. I hope that one day the American Psychiatric Association will finally take up the study of those people who delude themselves in this way, people who let themselves sink so deeply into the fantasy land of religion that they no longer have any real concept of reality at all. Treatment for such afflicted individuals is sorely needed in this country, as so many people have completely lost their minds to the fantasy of religion. The 700 Club though, is even more horrible as it rises to the legal definition of \\'cult\\' but due to The 700 Club\\'s vast wealth (conned daily from the millions of Americans locked in their deceitful grip) they are above the law in this country. For those of you who have seen the movie \"The Matrix\" you know that movie was a metaphor for religion on earth: the evil ones who are at the top of each of the religions who drain the ones they have trapped and cruelly abuse for their own selfish purposes, and those millions who are held in a death sleep and slowly being drained of their life force represent those many people who belong to religions and who have lost all ability to perceive what is really going on around them.<br /><br />In less civil times, the good townsfolk would have run such monsters as those associated with The 700 Club out of town with torches and pitchforks. But in today\\'s world where people have lost all choice in their choices of television that is presented to them, we have no way to rid ourselves of the 700 Club plague. <br /><br />The television ratings system and the \"V\" chip on TV\\'s should also have a rating called \"R\" for religion, so that rational people and concerned parents could easily screen such vile intellectual and brutal emotional rape, such as presented by The 700 Club every day all over our country, from themselves and their children.',\n",
              "       'This is a typical Steele novel production in that two people who have undergone some sort of tragedy manage to get together despite the odds. I wouldn\\'t call this a spoiler because anyone who has read a Steele novel knows how they ALL end. If you don\\'t want to know much about the plot, don\\'t keep reading.<br /><br />Gilbert\\'s character, Ophelia, is a woman of French decent who has lost her husband and son in an accident. Gilbert needs to stop doing films where she is required to have an accent because she, otherwise a good actress, cannot realistically pull off any kind of accent. Brad Johnson, also an excellent actor, is Matt, who is recovering from a rather nasty divorce. He is gentle, convincing and compelling in this role.<br /><br />The two meet on the beach through her daughter, Pip, and initially, Ophelia accuses Matt of being a child molester just because he talked art with the kid. All of them become friends after this episode and then the couple falls in love.<br /><br />The chemistry between the two leads is not great, even though the talent of these two people is not, in my opinion, a question. They did the best they could with a predictable plot and a script that borders on stereotypical. Two people meet, tragedy, bigger tragedy, a secret is revealed, another tragedy, and then they get together. I wish there was more to it than that, but there it is in a nutshell.<br /><br />I wanted mindless entertainment, and I got it with this. In regard to the genre of romantic films, this one fails to be memorable. \"A Secret Affair\" with Janine Turner is far superior (not a Steele book), as are some of Steele\\'s earlier books turned into film.',\n",
              "       'This is the only thing I will be able to look back on from the year 2006 and say now that rocked. It rocked hard, and yet it also rocked tasty. Mr.MEATLOAF added a nice little touch to this dish of a film before the opening credits even rolled. Now that tells you something, this filmed rocked even before it STARTED! Now I don\\'t want to give to much away or be a \"spoiler\" but this movie ROCKED! If you have heard the new album and thought to yourself \"this seems a bit substandard Tenacious material,it is like I a merely playing badminton with Satan, what gives?\" Then this movie will elevate your appreciation for the music and you will marvel at this steamy satanic masterpiece. For those who would want it better do not know what they want,because better would no longer be the D. This movie is the D period.!So venture if you dare to the local viewing theater if you to want to have your socks rocked.',\n",
              "       'This is a must-see documentary movie for anyone who fears that modern youth has lost its taste for real-life adventure and its sense of morality. Darius Goes West is an amazing roller-coaster of a story. We live the lives of Darius and the crew as they embark on the journey of a lifetime. Darius has Duchenne Muscular Dystrophy, a disease which affects all the muscles in his body. He is confined to a wheelchair, and needs round-the-clock attention. So how could this crew of young friends possibly manage to take him on a 6,000 mile round-trip to the West Coast and back? Watch the movie and experience the ups and downs of this great adventure - laugh and cry with the crew as they cope with unimaginable challenges along the way, and enjoy the final triumph when they arrive back three weeks later in their home town to a rapturous reception and some great surprises!',\n",
              "       \"What a good movie! At last a picture revealing a unknown side of rock: illusions of fame. Well-known Rockers are getting old and forgotten, not the music. And with a good sense of humour. Have you ever danced on Bill Haley's Rock Around the Clock?<br /><br />Anyway, Still Crazy is probably the best movie about rock n'roll I have ever seen. Far much better than Spinal Tap for instance. Why? Because in Still Crazy, people are mature. They have a different point of view about rock, about love and about life. They want to catch up with their crazy youth they miss so much. Beyond the story itself, we see characters with their own personality, weaknesses and dreams. Like anyone of us.<br /><br />Spend a good time watching this (listen to the awesome soundtrack! )and finally thinking of your own future.<br /><br />Bye!\",\n",
              "       \"The movie itself made me want to go and call someone so they could enjoy it too. It was extremely funny. Angelena Jolie was wonderful as Juliet. The parents are hilarious.They are caterers as well as enemies.The kids play the parts of Romeo and Juliet in the church play.They fall in love and their parents try to keep them apart.(Spoiler Ahead. I think) They sneak off after a party and do it. Surprisingly they still want to get married in the end of the movie. If you don't like stereotypes and the defilement of classic literature don't watch. If you don't mind those you will have a blast watching this one.\",\n",
              "       'Although promoted as one of the most sincere Turkish films with an amateur cast, Ice-cream, I Scream is more like a caricature of sincerity.<br /><br />The plot opens with the dream of Ali, a traveling ice-cream salesman in a Western Anatolia town, in which he sees himself becoming successful using the same marketing methods of big ice-cream companies. He dreams of playing in his product\\'s TV commercial with beautiful models in bikinis, dancing around him. As his dream turns into a nightmare, he wakes up with a big erection next to his gargantuan wife, who rejects to make sex with him for 6 years with no apparent reason. Is it because he is not successful in his job? Apparently, because he says he was selling better in the old days when there was no pressure from global ice-cream companies. But this is what he says; we actually don\\'t see him suffer that much: he still sells good, traveling the neighboring villages while his apprentice stays at the shop, selling ice-cream to the people in the town. Ali blames big companies for using sweetening and coloring agents while he is using real \"sahlep\" (powdered roots of mountain orchids). Ali buys a motorbike with a bank loan to be a traveling vendor, and gives ads to a local TV channel which prefers to broadcast even the news bulletin in local dialect. His wife is not fond of his ways of doing business, they always quarrel, and Ali threatens her that he may do very bad things in a moment of frenzy.<br /><br />In a very successful day, his lousy bike is stolen by the misbehaving little boys of the town. In search of his stolen bike, Ali goes to the police, blames the big companies for the theft, but, of course, nobody takes him seriously. Annoyed by the nagging of his wife, Ali goes to a tavern and becomes drunk. One of his friends at his table, a wannabe socialist of the town, gives a didactic speech and criticizes globalism, and with no real connection, jumps to the subject of global freezing. Ali returns home and decides to kill himself with poison. His wife wakes up and prevents him. An old neighbor takes him to a night walk and advises him about life. According to him, Ali can even sell hot sahlep drink if the world faces with global freezing. When he returns home, suddenly we see that his wife understood his value, treating him like a hero and praising his manhood. Meanwhile, the thief boys got sick eating too much ice-cream. They confess to the doctor that they stole Ali\\'s bike. Ali forgives them and there comes the happy end.<br /><br />Although the plot may look promising in a way, it\\'s the story-telling which makes this film insincere and cheesy. First, the director doesn\\'t show much of an effort to tell the story visually; everything is based on dialogs. And the dialogs never stop to show us that cinema is actually a visual art. Even Ali\\'s troubles are not convincing because we don\\'t see it, we just understand it from his words. The director markets his film as a righteous fight of Ali against big ice-cream companies, but there is nothing in the film about big companies. We don\\'t see their pressure enough. The film actually ridicules Ali for believing that big companies are behind the theft. And when his motorbike is found, it solves every problem: Ali becomes a happy and powerful husband. Not a real criticism of globalism.<br /><br />Second, the film is cheesy because of the crude humor. Maybe the people of that part of Turkey is cursing so much and making so many vulgar jokes in their daily life, but vulgar language and crude humor are not enough to make a film funny. I may have accepted it if they were both vulgar and \"clever\" but they are not clever jokes at all, they are just cheesy. Maybe I\\'m wrong, maybe American people may like oriental version of American Pie style humor. But American Pie never had any claim to be a nominee for the Oscars, or to have a political message! If you think that you can laugh by just seeing a man\\'s big erection in his shorts (and we had to endure this joke twice!) or an old villager woman saying \"f**k you,\" then you may find this film funny.',\n",
              "       \"This animation has a very simple and straightforward good vs. evil plot and is all about action. What sets it apart from other animation is how well the human movements are animated. It was really beautiful seeing the fleeing woman running around on the screen from left to right and look around, her movements were done so well. Why don't they use this rotoscopic technique more these days? It's quite effective.<br /><br />Fire and Ice, in it's prehistoric setting and scarcely dressed women, was clearly devoted to showing the beautiful damsel in distress in various sexy ways, her voluptuous body serving as pure eyecandy. Some may hate this and regard it as yet another moronic male sexual fantasy, others (including plenty of women) will adore it's esthetic quality. I for sure did not mind! Bakshi just loves animating lushious, voluptuous babes, as can also be seen in Cool World, and I don't think he has to apoligize since it's pretty much animation for adults. But I had also enjoyed this animation as a child and I never forgot it.<br /><br />This one was just special, so different from the standard Disney or Anime fare, and for that reason alone well worth the watch since it's possibly Bakshi's finest. For those who like animations with lushious women: try Space Adventure Cobra as well.<br /><br />I give Fire and Ice 8 out of 10.\",\n",
              "       \"<br /><br />I must admit, I was expecting something quite different from my first viewing of 'Cut' last night, though was delighted with the unexpected Australian horror gem. I am a true horror fan as true as they come, and found 'Cut' to not only be the best of the genre Australia has ever produced, but one of the great parody/comedy films of late.<br /><br />My only concern is that mainstream audiences may not pick up on a lot of the comedic elements - the film was not overly clever in it's application but made me laugh at every turn trying to fit in EVERY possible cliche of the horror genre they could. I am certain this was intended as humour....hoping this was intended as humour.<br /><br />And of course, there was the gore.<br /><br />The use of the 'customised' garden shears was brilliance - besides the expected stabs and slashes. In short, there was a huge amount of variety and creativity in the many violent deaths, enough to please even the skeptics of this films worth.<br /><br />The appearance of both Kylie Minogue (short that her appearance was) and Molly Ringwald was just another reason to see the film - both performances were fantastic, as well as Simon Bossell ('The Castle') in a brilliant role as the jokey technician.<br /><br />All in all, I think this movie is one of the best horror products of the last couple or years, as well as a beautiful satire/parody - toungue-in-cheek till the very end.<br /><br />Loved it. Go see it!\",\n",
              "       'This has to be the worst piece of garbage I\\'ve seen in a while.<br /><br />Heath Ledger is a heartthrob? He looked deformed. I wish I\\'d known that he and Naomi Watts are an item in real life because I spent 2 of the longest hours of my life wondering what she saw in him. <br /><br />Orlando Bloom is a heartthrob? With the scraggly beard and deer-in-the-headlights look about him, I can\\'t say I agree.<br /><br />Rachel Griffiths was her usual fabulous self, but Geoffrey Rush looked as if he couldn\\'t wait to get off the set. <br /><br />I\\'m supposed to feel sorry for bankrobbers and murderers? This is a far cry from Butch Cassidy, which actually WAS an entertaining film. This was trite, cliche-ridden and boring. We only stayed because we were convinced it would get better. It didn\\'t.<br /><br />The last 10-15 minutes or so were unintentionally hilarious. Heath and his gang are holed up in a frontier hotel, and women and children are dying because of their presence. That\\'s not funny. But it was funny when they walked out of the hotel with the armor on, because all we could think of was the Black Knight from Monty Python and the Holy Grail. I kept waiting for them to say \"I\\'ll bite yer leg off!\" We were howling with laughter, as were several other warped members of the audience. When we left, pretty much everyone was talking about what a waste of time this film was.<br /><br />I may not have paid cash to see this disaster (sneak preview), but it certainly wasn\\'t free. It cost me 2 hours of my life that I will never get back.',\n",
              "       \"I find it sad that just because Edward Norton did not want to be in the film or have anything to do with it, people automatically think the movie sucks without even watching it or giving it a chance. I really hope Norton did not do this. He is a fine actor and all but he scared people away from a decent movie.<br /><br />I found it entertaining. It wasn't mind blowing or anything with crazy special effects, but it was not a bad. It was fun to watch. But yea, definitely not a bad/horrible movie.<br /><br />7/10\",\n",
              "       'I watched this movie based on the good reviews here, and I won\\'t make that mistake again.<br /><br />The first couple minutes shows that a group of people have been brought together by some tragedy, but you don\\'t see what it is. Flashback 12-hours and we get to see the boring lives of each of these people, which in the end are totally meaningless to what is about to happen. When the ending is finally reveled, you realize that you just wasted an hour of your life waiting for a big payoff that doesn\\'t happen and means nothing to what you have been watching. The only connection these people have is that they have all had a \"bad day\"--but even that continuity gets lost in the boredom.<br /><br />If this was supposed to be a \"Crash\" clone, it\\'s a complete failure.',\n",
              "       'Why do I hate this? Let me list the ways:<br /><br />I have nothing against Mary Pickford but a 32 year old woman playing a 12 year old is just stupid.<br /><br />There\\'s a fight scene in which kids are throwing bricks at each other and it\\'s considered funny---and it goes on for 15 minutes <br /><br />Strange how none of the kids are even remotely hurt<br /><br />The title cards contain plenty of racial and ethnic slurs<br /><br />For a \"family\" film the fights were WAY too violent (loved it when Pickford was punching it out with a little boy!) and the humor was just stupid <br /><br />Seriously, 40 minutes in I gave up and turned it off. The slurs, racism and little kids throwing bricks at each other got to me. Also there was no plot that I could see. The only thing worth seeing in this film was William Haines who was a top leading man in the silent era.<br /><br />Just painful. Avoid.',\n",
              "       'I attended an advance screening of this film not sure of what to expect from Kevin Costner and Ashton Kutcher; both have delivered less than memorable performances & films. While the underlying \"general\" storyline is somewhat familiar, this film was excellent. Both Costner and Kutcher delivered powerful performances playing extremely well off each other. The human frailties and strengths of their respective characters were incredibly played by both; the scene when Costner confronts Kutcher with the personal reasons why Kutcher joined the Coast Guard rescue elite was the film\\'s most unforgettable emotional moment. The \"specific\" storyline was an education in itself depicting the personal sacrifice and demanding physical training the elite Coast Guard rescuers must go through in preparation of their only job & responsibility...to save lives at sea. The special effects of the rescue scenes were extremely realistic and \"wowing\"...I haven\\'t seen such angry seas since \"The Perfect Storm\". Co-star Clancy Brown (HBO\\'s \"Carnivale\" - great to see him again) played the captain of the Coast Guard\\'s Kodiak, Alaska base in a strong, convincing role as a leader with the prerequisite and necessary ice water in his veins. The film wonderfully, and finally, gives long overdue exposure and respect to the Coast Guard; it had the audience applauding at the end.',\n",
              "       'I don\\'t normally write reviews, but this \"film\" was special. I couldn\\'t turn it off. I don\\'t believe I\\'ve ever seen a worse movie, but there I sat, watching. It was like a horrible car wreck with blood flowing all over the highway. It was disgusting, but I couldn\\'t turn away. Where do I start? The movie seems to think it\\'s a sports thriller, but it\\'s so utterly ridiculous, it can only be a comedy, but it\\'s not funny, not even in a dumb/silly way. It\\'s like watching your cousins try to act out a skit on family get-togethers. It\\'s painful to watch, but at least it\\'s only for a minute or two. Second String went on for over an hour. <br /><br />Whoever was involved with making this movie should not work again. The writing, directing, acting, and everything was just terrible. The problem is I can\\'t describe how bad it was; you just had to see it. And I\\'m sure this will NEVER be shown again, so unless you saw it, you\\'re out of luck. I mean it was almost worth seeing just for the fact that it gave me some appreciation for every other \"bad\" film I\\'ve seen over my lifetime. And for every film I see in the future that I can\\'t stand, I will think to myself, well, at least it wasn\\'t bad as the Second String.',\n",
              "       \"The problem is the role of the characters in the film. Man to Man shows a British anthropologist kidnapping two pygmies and taking them to Scotland and then realising that they are not animals or subhumans but actually equal to himself. The problem is the role of the pygmies in the film - two people who are kidnapped, treated like animals, and yet given such a shallow, stereotypical role within the film... The kidnapper (british anthropologist) ends up being the hero of the film because he 'manages' to relate to the pygmies... No notion of how the two hostages feel, of their point of view, of their ordeal... I find it is a shallow film, with a one sided fundamentally racist view... it never manages to move away from the 'white mans' view\",\n",
              "       \"This series, made for Televisión Española (TVE) is basically a series of chapters in the life of an ordinary family in 1968, primarily as seen through the eyes of the youngest son.<br /><br />Based on a background of historical events, such as the May 1968 student uprising in France, the decaying Franco regime, the war in Viet-Nam, the rise of imperialism, and others specifically related to Spanish life at that particular moment, one might regard this series as a simple compilation of characteristic foibles which make themselves so apparent in this kind of entertainment.<br /><br />Generally treated in a lightweight vein though not lacking in certain moments which might be called dramatic, the series would seem to be aimed at people of around fifty who can rember those times, as, it should be stated, anyone younger either chooses to ignore such happenings or is busily occupied in other things.<br /><br />The best thing that can be said of this series is Ana Duato's rôle as mother of three children: she plays the part of the total housewife of the times really well, manifesting that peculiar Spanish penchant, especially noticeable among women, of letting all her thinking and her doings be carried forward by the impetus of her heart, without any resorting to the use of the brain. As we say in Spain, common sense is one of the least common senses. Imanol Arias offers very little, apart from not being his usual stereotyped hard policeman as in other television series. Indeed, as an actor, he should not be trusted in anything which is not a TV series. His resources are too limited; however, his part as father of the working-class household is not at all bad.<br /><br />Not really recommendable for other audiences, even Spanish-speakers in Latin America: the themes are all too parochially related to a specific spot in contemporary Spanish history, such that if the viewer was not living here at that time he will miss most of the references. It is even probable that certain situations which cause a few Spanish smiles would not mean anything to other viewers.\",\n",
              "       'This film tried to be too many things all at once: stinging political satire, Hollywood blockbuster, sappy romantic comedy, family values promo... the list goes on and on. It failed miserably at all of them, but there was enough interest to keep me from turning it off until the end.<br /><br />Although I appreciate the spirit behind WAR, INC., it depresses me to see such a clumsy effort, especially when it will be taken by its targets to reflect the lack of the existence of a serious critique, rather than simply the poor writing, direction, and production of this particular film.<br /><br />There is a critique to be made about the corporatization of war. But poking fun at it in this way diminishes the true atrocity of what is happening. Reminds me a bit of THREE KINGS, which similarly trivializes a genuine cause for concern.',\n",
              "       \"I am so disappointed. This movie left me feeling jipped out of my time and mental energy. Here was the quintessential Woody Allen film all over again: the neurotic upper-class Manhattanites debating whether or not they will cheat on their spouses. Woody, I've seen these characters already, I've seen the storyline from you ten times already. Where did your creativity go??? You need to open your eyes and look around you. The world has changed dramatically since Annie Hall - and you need to change along with it.<br /><br />There are far more interesting and funny scenarios to which you can apply your brand of angst and neuroticism - why not try them out instead of rehashing the same old slop over and over and over again.<br /><br />When I hear that Woody Allen has a new project coming out, it does nothing for me - because now I've come to expect his old standby: the couple who are growing tired of each other and end up cheating. Depressing and same old, same old.<br /><br />If Woody wants to win his fans back, then he has to understand that our sense of humor and intelligence has to be stimulated - not insulted.\",\n",
              "       \"One of Starewicz's longest and strangest short films follows a toy dog in search of an orange after becoming animated by the tear of the mother of a girl who longs for an orange. The dog comes upon an orange after falling out of the back of a car on his way to be sold, but at night must protect the orange when he comes enters a devilish nightclub featuring many bizarre and scary characters. With the help of a stuffed cat, the dog gets the orange back to the little girl and she is saved from a terrible scurvy death. The Mascot features new techniques I have not yet seen in Starewicz's films. The addition of sync sound and a mixture of live action with the stop-motion animation makes for a new twist on Starewicz's old style of puppetry. Live scenes of moving cars and people's feet walking by as a puppet sits on the concrete sidewalk is impressive and fresh. The honking of cars and cries of street vendors is noteworthy due to the fact that small studio shifts to sound were costly and Starewicz's utilization of the new technology seems like old hat. New puppet characters in this film are frightening contributions to the devil's club scene. Twigss and newspaper shreds come to life. Skeletons of dead birds lay eggs which hatch skeleton chicks. Characters come flying in from all over on pats and pans and rocking horses. A new editing technique uses quick zooms which are accomplished through editing to speed up the pace of what before might have been a slow scene. Overall, Starewicz is able to update his style of film-making to meet the demands of a new audience making this film one of the best examples of his work.\",\n",
              "       \"They filmed this movie out on long Island, where I grew up. My brother and his girlfriend were extras in this movie. Apparently there is some party scene where they are all drinking beer, (which they told me was colored water, tasted disgusting, and was very hard to keep swallowing over and over again, especially in the funnel scenes). Yet none of us ever heard of the movie being released anywhere in any form. It never came out in the theaters (obviously) and it, as far as I knew, was never released on video, and I'm sure wasn't released on DVD. Yet it looks like it was seen by some people, albeit it probably very few. So there must be something. I would absolutely love to purchase this for my brother, yet there is no way I can find it anywhere. Does anybody know anything about when/where/how this movie could be purchased? And which format that would be?\",\n",
              "       \"I shall begin with a disclaimer: This movie is NOT recommended for anyone who lack interest or have never played FF7 the game before watching. The movie relies on the audience's knowledge of each character in the game to convey story plot elements. And it does so very subtly. Do your homework before watching this wonderful piece of CG film and I promise it'll be that much better.<br /><br />With that in mind, this film has some of the most spectacular CG sequences I have ever witnessed. The whole experience felt like an extra long FMV sequence from the game, on steroids. Yeah. The attention to detail in each scene, especially in the heavy action oriented ones, is so impeccable it left me with a sense of awe.<br /><br />I believe the soundtrack is simplified so as to help the audience focus on the animation quality more than the music. Again, for those who are familiar with the FF7 story and background, the music should not surprise anyone (although the timing and placement of each soundtrack from the original accompany each scene and mood to the point where the music simply enhances the animation).<br /><br />Once again, I myself having only played through FF7 once, thoroughly enjoyed this piece of art from Square Enix. And that is the feel in most scenes, choreographed and organized. Like a dance.<br /><br />In short, if you enjoyed the music or the game Final Fantasy 7, this film will blow you out of the water. If you're in the unfortunate majority who has not experienced the goodness known as FF7 on Playstation or PC, doing so before watching the movie will allow for an exponentially greater experience.<br /><br />Finally, I just want to make a note of the quality in animating this film. Characters move with fluidity. Each scene background comes to life and tells its own story. For those who criticize the thinness and dependency of the story plot, I urge you to reexamine the animation. Facial reactions, subtle clues that bring about another level of entertainment above the typical narration method of story plot delivery.<br /><br />Square Enix and the great Tetsuya Nomura has set a new bar for quality animation and storytelling. Advent Children has ushered in a new era for CG animations, allowing the subtleties that lie in each character to speak volumes in and of themselves.<br /><br />Thanks Square Enix. The wait was well worth it.\",\n",
              "       'This review also contains a spoiler of the first movie -- so if you haven\\'t seen either movie and want to but don\\'t want the spoilers, please don\\'t read this review!<br /><br />While this movie is supposed to be about Christian and Kathryn meeting for the first time, the movie is a poor copy of the first Cruel Intentions. The actors that they had portray Ryan Phillippe\\'s Christian and Sarah Michelle Gellar\\'s Kathryn are very poor substitutes indeed. Neither can pull off the smarmy, snooty rich-kid attitude that the original actors did. It\\'s absolutely appalling that some of the dialog was verbatim -- not so much between Christian and Kathryn, but if you listen closely enough you\\'ll recognize it. There are also inconsistencies in the plot - if this were truly the first meeting of Christian and Kathryn, then why is it that Christian fell in love with a girl at the end of the movie? He supposedly was supposed to be in love for the first time in the original movie (with Reese Witherspoon\\'s character).<br /><br />Also, the tie-in with the photography/\"You could be a model\" comment at the end was totally lame and didn\\'t add anything at all. Overall, this movie was a waste of time. I can\\'t believe they made a Cruel Intentions 3.',\n",
              "       \"A friend lent me this DVD, which he got from the director at a festival, I think. I went in warned that some of the technical aspects of the movie were a bit shaky and that the writing was good but not great. So maybe that colored my judgment but I have to admit that I liked this movie.<br /><br />The standouts where the actors. Youssef Kerkor was really good as Ernie, the main character, kind of pathetic in a likable way. Adam Jones (who also directed) and Justin Lane were excellent as the roommates who drive Ernie mad. The Bill character (Justin Lane), who spends a lot of the film dressed like a panda, was by far my favorite; he seemed the least one-dimensional, and reminded me of an old college roommate so much I called the guy after watching the DVD. Really kind of lovable, and very funny. Some of the other acting was good, some was so-so, but none of it was bad. I also really liked the vigilante duo. Ridiculous and funny.<br /><br />I'm giving this one high marks, even though it has some issues, because you can tell when you watch it that these people cared, and decided to make their movie their way. Well done to Adam Jones and crew.\",\n",
              "       'Donald Pleasance and Peter Cushing united in one horror film; that always sounds like a terrific plan. Two of the most versatile cult actors of their generation, who previously already starred together in terrific genre outings like \"The Flesh and the Fiends\" and \"From Beyond the Grave\", pairing up in a mid-70\\'s satanic themed exploitation flick. How can this possibly go wrong? Well, unfortunately, it can. To my deepest regret \"Land of the Minotaur\" can hardly even be called mediocre, and that in spite of the cast, the exotic setting, the appealing title and the potentially great sounding premise. In a remote little area in Greece, more particularly near an archaeological site, multiple tourists vanish because Baron Peter Cushing and his docile followers keep feeding them to a fire-breathing Minotaur statue. Cushing, who never looked more bored and uninterested in any role he played before, owns a giant medieval castle and apparently in Greek this means you also own the complementary archaeological ruins and an underground network of caverns. That is of course quite handy if your hobby is the kidnapping of random campers and amateur archaeologists. When three of his young friends also mysteriously disappear in the same area, Father Roch - the priest of a couple of towns before) - decides to investigate. \"Land of the Minotaur\" is a boring and extremely slow-paced horror effort that never really undertakes any major attempts to generate a satanic atmosphere and doesn\\'t bother to elaborate on all the potentially fascinating elements and pagan trivia details. The titular Minotaur, for example, is an intriguing creature of Greek mythology with the head of a bull and the body of a person, but for some inexplicable reason the script never deepens out the significance. Instead, the film focuses on tedious and overly talkative sequences and loud inappropriate music altered with experimental noises. The only reason to even consider giving this major disappointment of a film a chance is because of Donald Pleasance. His portrayal of rude, bossy and old-fashioned priest who criticizes everything that represents modern youth is powerful and reliable as always.',\n",
              "       'If you\\'ve read Mother Night and enjoyed it so much (as I did) that you just have to see the movie, understand that you have to understand a fundamental element of Vonngut\\'s writing - that beyond his story lies Vonnegut himself, and that you can\\'t put a human mind on the screen. His whit and humor just cannot be transcribed by a screenplay or even the best acting performance. I believe that this movie exceeds in asking the key questions that Vonnegut poses in his book, but those frequent cynical moments of satire found on the page are not found on the screen. Does this mean that the movie misses the mark? Of course not. In my opinion, the movie succeeds because it does not try to recreate the experience of reading the book (this is not a medium for those too lazy to turn a page). It succeeds because it takes the fundamental elements of a story created by one of America\\'s true artistic treasures and presents it in a a framework without pretense. I\\'ve seen other movie versions of Vonnegut books where the director obviously tries to channel Vonnegut\\'s genius and loses grip on his own craft. I would not place this movie as one of the best I\\'ve seen, but it stands on its own legs as one well worth watching. By taking Vonnegut\\'s \"voice\" out of the movie\\'s narration or trying to insert it however it can, Mother Night tells his story brilliantly, and preserves the story\\'s fundamental lessons without confusion, distraction, or disappointment.',\n",
              "       'I was truly looking forward to this title. It sounded and looked fun. The idea of someone making a cheesy 50s monster movie could have been worth a few laughs, but instead this title only bores. First off, there is almost no Froggg in the entire movie which is the biggest disappointment. I have to sit through 75+ minutes of lame drama and dialog to get a few glimpses of the Froggg humping a bare breasted chick. Why? On top of that the film lacks any sort of fun plot. I mean give me something thats a bit more interesting than just a bunch of talking heads. I wanted to see some hot chicks search for the creature in the swamp, I wanted to see some cuties dragged off to his lair in desperate need of rescue (Creature from the Black Lagoon stuff), I wanted to see a few goofy action scenes of the Froggg going on a killing spree, or it maybe escaping a silly trap. Something exciting! Geez, have fun with it, be creative! Who wants to sit through endless and tiring dialog scenes in a creature flick? My advice to the filmmakers: Keep going, your concepts are good, but your execution needs to be a lot more inspired. Have some fun with the creature, put the humor in the action and most important...put more creature in a creature movie!!!',\n",
              "       \"Prussic gas, a murderer donning a red clansman suit and hood wielding a white whip, and the murders of college school girls at the hands of paid convicts enlisted by a mysterious mastermind who keeps his face hidden within an office containing aquariums of turtles and fish. The inspectors at Scotland Yard, Higgins(IJoachim Fuchsberger)and his superior Sir John(Siegfried Schürenberg)certainly have their hands full with this case. It all seems to center around student Ann Portland(Uschi Glas), who, when she turns 21, is to inherit a great deal of wealth. The girls who are targeted share a room with Ann, but the reason for their murders remains a mystery SY's finest must figure out. The staff of the girls' dormitory all seem to be hiding something and certain members of the faculty are falling prey to the killer in the red monk robe disguise, talented enough to precisely strangle the necks of those attacked with the whip. Two prisoners are commissioned by a mystery man to use the newly created toxic gas created by a scientist murdered at the beginning of the film during what was supposed to be a monetary exchange for his creation. It's a clever scheme where a driver, Greaves(Günter Meisner)meets the convicts(..who hide in a barrel)who are assisted by a corrupt prison guard. Taken blindfolded to the secret room of the mastermind, he gives them orders on who to kill and how. Uncovering this operation is a top priority for Higgins and Sir John for it will lead them to the truth they seek in regards to the murders and why they are happening. Under suspicion are girls' dormitory headmistress, her author brother, a sweaty, incredibly nervous chemistry teacher, a snooping gardener, and the Bannister. Some are red herrings until they are disposed of, throwing the viewer for a loop each time until the real mastermind is discovered. The ending features multiple twists. <br /><br />Out of the Krimi films I've seen, THE COLLEGE GIRL MURDERS is the closest to a giallo with it's colorful killer, a convoluted plot yielding lots of surprises and potential suspects, & sordid shenanigans between adults and the college girls at the dormitory. I think you can also see the influence of James Bond on this particular Krimi film with the villain mastermind's secret hideout with an alligator pit(..which isn't used), the fake bible/water pistol, when opened, fires the gas into the face of startled victims, the Greaves' Royles Royce which has latches that cause flaps to darken the windows without revealing the passenger in the back seat, and the peep holes used to spy on the girls in their rooms and while swimming. Many might consider Sir John a liability due to his bumbling, buffoonish behavior and how he often undermines Higgins' abilities to get at the truth(..perhaps poking fun at know-it-all British inspectors who harm a case more than solve it)..I felt he was used as comedy relief, particularly with his attempts at psychoanalyzing suspects and potential victims, often misunderstanding what are told to him. Higgins, using the skills adopted over his years as an investigator, instead follows the clues/facts, often avoiding Sir John as much as possible. Capable direction by the reliable Alfred Vohrer who keeps the pace humming at a nice speed, and the screenplay is full of interesting characters and lurid content..the fact that so many of the adults surrounding the dormitory are suspect, any of them might be the one wielding the whip or calling the shots behind those murdered girls' executions. I'd say this may be one of the best(..if not the best)examples of the Krimi genre, for it keeps you guessing, always one more ace up it's sleeve..the revelations unearthed at the very end are quite eye-opening(..and, you even get a literal unmasking of the real mastermind pulling the strings to top it all off).\",\n",
              "       \"Did anyone edit this film? Or was it only the DVD release that had huge thirty second gaps between scenes? It's OK though, I fell asleep watching it the first time. Then I fell asleep the second time and the third time. The plot is actually not the worst I've seen, but it's close. The acting is not the worst I've seen either...but it's close. The production .... well, I can honestly say that it was the worst I had ever seen in my life! Not trying to be spiteful, but Unhinged could have used some more production.<br /><br />Please don't think I'm a hater of horror films, or even that I didn't enjoy this film. I just felt I was laughing at the film much more than I felt I was laughing along with it. The gruesome moments were not too poorly done, but could have been done better even with a shoestring budget.<br /><br />Characters seemed awkwardly developed, or ignored all together, twist ending was pretty bad, and the exposition took forever without exposing much.<br /><br />I'd recommend avoiding this movie.<br /><br />1/10\",\n",
              "       \"STMD! is not a terrible movie, but it IS quite forgettable. The lighting is intentionally poor in many scenes and unintentionally poor in all the rest, so you are likely to come out of a viewing with a headache or eye-strain. Special effects are imaginative, but obvious. The gratuitous nudity essential for teen slasher flicks is there, of course, along with the archetypical teenagers, but the whole movie just doesn't gel. What was needed was some snappier dialogue and more tongue-in-cheek humor.<br /><br />I can't really recommend that you use your time watching this movie. I often give a nod to a movie based on just a scene or two that demonstrates imagination or humor, but these are sadly lacking in this film.\",\n",
              "       'Had I checked IMDb BEFORE renting this DVD from Netflix, I\\'d have a couple of hours of my life back. I\\'m frankly suspicious when I see that a film\\'s director also wrote it. In this case, according to the credits, the same guy was \"writter and director\" - unfortunately, an indication of the overall quality of this production. There were a few interesting moments (e.g., Judy Tenuta\\'s scene reminded of her early comedy routines touting Judy-ism) which led me to rate this two stars rather than one. Those moments, however, were few and far between ... and I almost did not get to see them because the opening sequence was nearly incomprehensible to me, not to mention reprehensible in its violence. I admit I went back to watch that part again to see if I had missed something that would help me figure it out once I\\'d seen the whole thing. Nope, though I at least recognized who the characters were who would turn out to be important later. The \"spinning camera\" technique was overused and essentially pointless. I found myself talking to the TV screen: \"What?!?\" or \"For goodness sake, get ON with it!\" Not recommended.',\n",
              "       'one of the best ensemble acted films I\\'ve ever seen. There isn\\'t much to the plot, but the acting- incredible. You see the characters change ever so subtly, undr the influence of the rented villa in Italy, and love. And happiness. The film casts a mesmerizing spell on you, much as the villa does on all the women. Truly \"enchanted\".',\n",
              "       \"I think that you can not imagine how these people really work...!! Before I came to the studios to watch the guys work there, I actually thought quite the same as you do. But since I saw and did the work the guys on that TV-show have to do, I have to say that they really do deserve respect for what they are doing all day long. That really is no easy work. And also the actors, which in your eyes may be terribly bad, are really great people and a lot of them really can act! I don't think that the material given to them can really show that, as I think this material isn't very good. But THEY are truly good! So I don't think that you, before you haven't seen these guys doing there work, can judge over them! And I shouldn't have judged over them as well before I met them, but I did and am now terribly ashamed of it. So please, do not allow yourself to judge over these great people unless you haven't seen them doing there job.\",\n",
              "       'One word can describe this movie and that is weird. I recorded this movie one day because it was a Japanese animation and it was old so I thought it would be interesting. Well it was, the movie is about a young boy who travels the universe to get a metal body so he can seek revenge. On the way he meets very colorful characters and must ultimately decide if he wants the body or not. Very strange, if you are a fan of animation/science-fiction you might want to check this out.',\n",
              "       'These kinda movies just don\\'t get the credit they deserve. This is my 2nd all time favorite movie, (Stand By Me being 1st.) The reason I watched this movie was because Wil Wheaton was in it and he is my most favorite person in the whole world and I think he done an amazing job in this movie and so did Sean Astin. I just watched it last night actually and it just amazed me. Everything in the movie is very exceptional. The script, the acting, the screenplay. I was on the edge of my seat 80% of the time, and if my mom wasn\\'t in the room I would have absolutely balled whenever Joey Trotta (Wil Wheaton) died. I did not see that coming!! At all!! I was real surprised when I heard that it wasn\\'t real popular back in the 90\\'s. I was born a few years after it came out so, of course, I didn\\'t go see it in the theaters, but im sure I would have if I would have been alive. If any of my friends watched this, they would be like, \"uhh okay?\" but thats just cause their not cool enough to appreciate work like this. If you haven\\'t seen this movie, or are wanting to watch something that is the bomb, this is the movie for you to watch.',\n",
              "       'While Star Trek the Motion Picture was mostly boring, Star Trek The Final Frontier is plain bad. In this terrible sequel, the crew is on shore leave when they get a distress signal from the Federation that ambassadors representing Earth, Romulus and Kronos (the Klingon home world) have been kidnapped by a renegade Vulcan bent on his quest to attain a starship to venture into the great barrier. There, he hopes to find God. Using mysticism and bad writing, he persuades many of the senior officers of the Enterprise to betray Kirk and get a hold of the ship. They do reach the inside of the great barrier and find a planet where they do meet a god-like alien. This one is so bad it is hard to figure out where to begin. At the core is a good idea that is never really developed. The plot goes nowhere instead of where no man has gone before. It is almost like the writers had no idea how to end this fiasco. The action scenes don\\'t have the suspense of Wrath of Kahn, the philosophy is boring, and the humor is stale. Now I will focus most of my anger on William Shatner. When he takes the director\\'s chair, the ego gets bigger. Most of the focus is on him, Spock, and McCoy, but does not give the others enough to do. Moreover, whereas Shatner is usually guilty of over-acting in previous movies and television spots, he is just plain bad in this one. Now Kirk is reckless, a practical jokers, and silly. One of the worst scenes involves the three leaders singing the song, \"Row Row Row your Boat\" in a round by a campfire. In any case, this is the worst of the Star Trek franchise. I should have given it three out of ten instead of five.',\n",
              "       \"I am a huge Woody Allen fan and so when I saw that this was playing at the cinema I couldn't help myself. I wanted to see how Allen would follow up his magnificent film Match Point seeing as this is another one of his films shot in G.B. (which is unique among Allen's work) along with what seems to be his new muse Scarlett Johanson. Scoop is much lighter than MP and the humor is Scoop's most enjoyable aspect. The plot revolves around Johanson's character (a journalism student) who gets a tip on a hot story from beyond the grave. She falls in love with a suspected serial killer (Jackman) and she must decide whether the truth is worth finding. Oh and all of this is done with the help of a bumbling magician turned detective played by Allen.<br /><br />I must say that I thoroughly enjoyed Johanson's performance but I am a bit bias, I could watch a three hour film with Johanson in ever frame and remain enchanted. She plays a ditsy, yappy, bumbling sweetheart that is kind of a variation in a sense of Allen's stereotypical neurosis stricken character. She adds appropriate body language for comic effect. Needless to say almost anyone who sees this will find Johanson's character sickeningly cute and that is a plus.<br /><br />Allen is Allen... He is still playing the same character much like Chaplin and his Little Tramp character. Something that occur in this film makes me wonder if I will see the neurotic little hypochondriac again however. He is not in the cast of his next picture and has been spending more time exclusively behind the camera as of late...<br /><br />Jackman is also enjoyable as the suave, millionaire murder suspect. I cannot say that Jackman does anything in particular to make the role his but he suits his character none the less.<br /><br />In terms of the plot I cannot help but feel that this is fresh... In fact it stinks of Curse of the Jade Scorpion. Johanson and Allen are more detective-like than anything. However I must applaud Allen on his ending because it is a bit more clever than your typical unoutstanding Hollywood version of this film. Instead of everything being black and white, things are painted in shades of gray. Being entirely innocent has nothing to do with it nor does unequivocal guilt. Though the plot seemed old Woody still has a knack for one liners. I did find his allusions to his last film interesting... Come for the humor, laugh and be merry.<br /><br />Needless to say if you enjoy Allen's work watch it. If not watch something else...\",\n",
              "       \"Busty beauty Stacie Randall plays PVC clad, bad-ass bitch Alexandra, the faithful acolyte of Faust, an evil entity trapped in hell. Determined to free her master, the malevolent minx breaks into a warehouse to steal a magical gem vital to her success; but whilst conducting a satanic ritual to summon Faust, the silly mare accidentally enters the pentagram she has drawn on the floor, which results in the loss of the gem and the release of two diminutive, troll-like creatures called Lite and Dark.<br /><br />Now Alexandra must find a replacement gem, which isn't going to be easy: the only other stone that will do the trick is worn around the neck of her ex-lover, police detective Jonathan Graves (Peter Liapis), who is investigating the warehouse robbery and who knows only too well what evil Alexandra is capable of. Meanwhile, wise-cracking inter-dimensional half-pints Lite and Dark get into all sorts of zany trouble as they try to find a way back home.<br /><br />In the warped movie world of Jim Wynorski, all females are big-breasted babes with the fashion sense of a cheap hooker. Ghoulies IV is no exception: every woman in this film\\x97whether she be a police captain, a curator of antiquities, or a mental patient in an asylum\\x97is hot, hot, hot and wears not a lot, and it's this fact that makes this otherwise totally unwatchable piece of STV crap just about bearable.<br /><br />But be warned, even though the presence of semi-naked, quality crumpet makes the going slightly easier, there is still plenty about this film to warrant it being labelled as an ordeal: the acting is wooden and the dialogue is painful; the black humour (as the DVD blurb describes it) is about as funny as a knee to the knackers, with the comedic banter of Lite and Dark being particularly cringe-worthy; and the special effects are bargain basement, consisting of rubbery creatures and visual effects that would have looked dated ten years earlier.<br /><br />3/10 solely for the high bimbo quotient.\",\n",
              "       'An American Werewolf in London had some funny parts, but this one isn\\'t so good. The computer werewolves are just awful: the perspective is all off, it\\'s like seeing them through a distorting mirror. The writers step on the throat of many of their gags. American boy says to Parisian girl, \"Is there a cafe\\' around here?\" Instead of just leaving it at that, they have to have the girl sigh and respond, \"This is Paris.\"',\n",
              "       \"Hard to imagine this film is based on a true story, and how Christy managed to accomplish the miracle is so heart-stirring. Daniel Day-Lewis is a chameleon, really hard to imagine how much effort he had done to create this disabled character. Watching him on screen is a shocking and breathtaking experience.<br /><br />The movie is not so pessimistic as I thought before, the story is kinda bright and intriguing. Christy is not despised by the normals, his life is also colorful and delightful, although we can be aware of the loneliness and the painful fetter through his eyes.<br /><br />One important factor of Christy's success is his mother's support which seems to be more touching, and the unknown actress Brenda Fricker also deserves her Oscar award for this role, this fat little middle-aged woman uses her all to make Christy's dream come true. So lucky for Christy!And Hugh O'Conor is also excellent as young Christy, what a performance for a child! The love story of Christy is very well-done, trustful. Christy wants love and nothing can derive him of the right to love, his crush on the beautiful Dr. Eileen Cole (surprisingly played by Fiona Shaw, I am deeply impressed with her role in Harry Potter series, the loathsome Aunt Petunia, so her appearance in this role is really beyond my mind, but anyway, any woman has her own youth...) is paranoiac and offensive, I do have sympathy for him, love is a two-edged sword, happiness and agony are just next to each other.<br /><br />Btw, Jim Sheridan's works are all good (IN America, THE BOXER etc.) except GET RICH OR DIE Trying', god knows why he chose to direct that crap! Really a career taint for him, what a pity!\",\n",
              "       \"Years ago I saw The Godfather and it made a lasting impression on me, the atmosphere of the movie was first class, the acting memorable and the storyline a classic. Recently I bought the Trilogy and after watching Part 1 again I looked eagerly to viewing Part 2...... I was so pleased to realize early on into Part 2 that here was a fitting follow on to the great Godfather movie, again everything was just about perfect and I could not wait to see Godfather III ........ WRONG!, I wish I'd stopped at II. The storyline was not good, it seemed to me like a story made up just to have a story, the characters were weak especially the daughter. Pacino's protege was a weak character that would have been eaten alive in Godfather 1 or 2. Then scenes such as, Corleone being invested with all the trappings of the Catholic Church with full choir, the assassin on horseback riding away into the sunset, the unseen helicopter machine gunning of the meeting (where the 'goodies' get away and everyone else is shot),daughter and 1st cousin rolling bits of pasta across a board, the pathetic shooting on the steps ..... Corleone stuffing sweets down him with orange juice for diabetes (a man of his intelligence and guile isn't ready for an emergency?)... NO it was not good and with the best will in the world I wont be able to watch it again. But I'll watch 1 & 2 many times down the years.\",\n",
              "       \"Steve McQueen has certainly a lot of loyal fans out there. He certainly was a charismatic fellow, one of the most charismatic the big screen ever knew. But even McQueen can't save this turkey of a film, shot with what looks like a brownie camera in the actual locations in St. Louis.<br /><br />McQueen's a new kid with no criminal record brought into the planning of a bank heist by one of the other gang. There's more than a broad hint that there's a gay relationship going on between young Steve and David Clarke. He's not liked at all by the other heist members, mainly because of his lack of criminal resume. <br /><br />Steve also has a girl friend in Molly McCarthy and she suspects something afoot, especially when he starts hanging around with Crahan Denton and James Dukas as well as Clarke, all pretty rough characters. That would certainly get my suspicions aroused.<br /><br />The Great St. Louis Bank Robbery had two directors Charles Guggenheim and John Stix. Guggenheim did mostly documentaries and Stix didn't do much of anything. One of those two jokers decided Steve's performance was best served by doing a bad Marlon Brando imitation. <br /><br />This film may go down as the worst ever done by Steve McQueen. I'm willing to bet that Dick Powell and Four Star Productions had already signed him for Wanted Dead or Alive because I can't believe they would have if they saw this.<br /><br />Or they would have seen something the public would have overlooked except for the dressing for this turkey.\",\n",
              "       \"What a horrible, horrible film. The worst collection of cliches I have seen in a long time. Not that I saw much. I left the theatre screaming after about 40 minutes in search of a stiff drink to soothe my nerves. Meryl Streep was awful as usual. How many hurt and tortured expressions can 1 person have? Aidan Quinn's talents were - as so often - totally wasted. And who told Gloria Estefan she could act? Trying to be polically correct this movie still enforces racial stereotypes. (Brave inexperienced lonely music teacher teaches underprivilegded kids violin in poor neighbourhood school). The kids weren't even cute! Just written in to suit the appalling script. Aaargh! Wes Craven really made me cringe for once. real horror this one!\",\n",
              "       \"The complaints are valid, to me the biggest problem is that this soap opera is too aimed for women. I am okay with these night time soaps, like Grey's Anatomy, or Ugly Betty, or West Wing, because there are stories that are interesting even with the given that they will never end. However, when the idea parallels the daytime soaps aimed at just putting hunky men (Taye Diggs, Tim Daly, and Chris Lowell) into sexual tension and romps, and numerous ridiculous difficult situations in a so-called little hospital, it seems like General Hospital...or a female counterpart to Baywatch. That was what men wanted and they had it, so if this is what women want so be it, but the idea that this is a high brow show (or something men will watch) is unrealistic.\",\n",
              "       'After many, many years I saw again this beautiful love story, thinking about how would I, half a century after, react to a film which made so many girls cry and sigh at that time, when I was just an male adolescent trying to understand women\\'s behaviors, in a small city in Brazil.<br /><br />This time, however, what caught my attention in the film was something very different, namely the insistence with which the physician Dr. Han Suyin (Jennifer Jones) makes clear to the journalist Mark Elliott (William Holden) her special ethically condition as an Eurasian. In fact, she is constantly putting emphasis on this point in their relationship, repeating she is willing to assume her love for him and carry it on in a \"occidental way\", provided that, by doing so, she is not betraying her Chinese side. Its seems to the spectator that Suyin is eagerly making efforts to establish a very subtle conciliation between those two unstable and opposite aspects of her culture, for they will immediately engage in overt conflict in her mind at a minimum failure in her attempts to control them.<br /><br />Therefore, Suyin\\'s attitudes always leave poor Elliott \\x96 a determined, brave and extremely practical man \\x96 anxious and perplexed, without knowing how much importance to give to her words. For him, whose love for her is plain and simple, the situation is totally clear: if we love each other, let us make a couple and begin immediately a life together. \"Not so fast\", is what she seems, verbally and non-verbally, to answer him all the time.<br /><br />In fact, Suyin\\'s Chinese portion would never allow her such a level of pragmatism. And, as she goes on and on reinforcing this much aimed equilibrium between those two worlds inside herself, she also frequently signals to him that also a very peculiar trait of Chinese culture is deeply rooted in her mind, namely the constant \"raids\" on the real world by invisible beings from an spiritual or non-physical world. For Suyin is always alerting Elliott about how dangerous is life, not because of any objective and concrete threat (as would be the perpetuation of the English colonialism or the eminence of a Japanese invasion), but due to the threats of plenty of cruel and harmful gods and other mystical and mythical beings over the poor, fearful and vulnerable human beings.<br /><br />In fact, it looks like a whole bunch of Chinese deities are permanently on the watch to make people\\'s life totally miserable. Because of that, mothers must dress their precious male babies in girls clothes, so that they are not taken away by jealous gods; everyone should always be ready to make loud noises to send the clouds away, in order to avoid their covering the sight of the moon; peasants are advised that they should shout loudly \"The rice is bad! The rice is bad!\" to protect their crops from being stolen by deities; and, in a funeral, it is recommended that the dead\\'s family be isolated from the other people by curtains, so that the gods don\\'t take advantage of their sorrow and fragility.<br /><br />In other words, Suyin introduces us to a culture in which the supernatural has a real existence, as if a rather disturbing pantheon of malign and sadistic gods are always on the verge of negatively interfering with the most banal acts in anyone\\'s daily life.<br /><br />As the story takes place in Hong Kong in 1949, it should be clear that China really was, at that time, almost a semi-feudal society, while the country from which Elliott had come from was not yet dominated by the fierce capitalism that, launched by the USA after the first oil shock in 1973, took charge of the whole world. Therefore, at least in one aspect, both sides of Suyin\\'s Eurasian personality were still much more innocent than they would be today.<br /><br />A lot of History came into being since those old days. As to China, the main fact is that, after several phases of a communist regime, the country finally reached, in the last two decades, the condition of a very aggressive economy much more properly described as State capitalism. And, what happened to that old spirituality that so much enthralled Suyin in Hong Kong, in 1949, and with which she used to impress so much an impassioned Elliott, under that tree on the hill behind the hospital? It is gone, completely gone! In brief, if that story took place today, Elliott would not find it necessary to go to China to propose to Suyin in the presence of the Third Uncle and her entire family. In fact, both men would now be incomparably closer to one another, in their huge pragmatism, talking business as usual!',\n",
              "       \"This is the best film the Derek couple has ever made and if you think this is a recommendation then you haven't seen any of the others. There are the usual ingredients: it is just as poorly acted as their other efforts, we can watch Bo disrobing or auditioning for wet T-shirt contests quite frequently, the story is just laughably idiotic, and the film takes itself much too seriously. And then: Orang Utans in Africa?<br /><br />But it has a few things going for it. Bo looks great, the production values (sets, costumes, etc.) are quite good, and this greatly enhances its camp value. In a strange way it is actually quite funny, simply because it tries to be serious and fails so badly.\",\n",
              "       \"I have been a Mario fan for as long as I can remember, I have very fond memories of playing Super Mario World as a kid, this game has brought back many of those memories while adding something new. Super Mario Galaxy is the latest installment in the amazing Mario franchise. There is much very different about this game from any other Mario before it, while still keeping intact the greatest elements of Mario, the first noticeable difference is that the story takes place in space.<br /><br />The story begins much like any other Mario game, Mario receives a letter from Princess Peach inviting him to a celebration at her castle in the Mushroom Kingdom. Upon arriving at Peach's castle Mario finds Bowser and his son (Bowser Jr.) attacking the castle with their airships. Bowser kidnaps Princess Peach and then lifts her castle up into space. In the midst of the castle being lifted into space Mario falls off and lands on an unknown planet. Mario is found by a talking star named Luma and is taken back to the Luma's home, a floating space station, here Mario meets many other Lumas and also meets their leader, a woman named Rosalina. Rosalina tells Mario that Bowser has taken away the space station's Power Stars and scattered them across the universe, it is up to Mario to help the Lumas find them and save Peach, thus the adventure begins.<br /><br />The way you play the game is by flying from the space station to other galaxies, each galaxy consists of multiple planets that Mario travels amongst in levels via these shooting stars to retrieve the Power Stars. Mario can at many times walk all the way around planets without losing gravity, some planets are small and others are big, many planets are similar to classic Mario environments. The best thing about the game are the controls, all of the stuff like jumping and such is still the same, but the wiimote is used in many unique ways in this game. You shake the remote Mario will perform a spin that is used as the primary attack in the game, and it will as well activate the shooting stars. You can also point the remote at the screen and use the pointer to fire star bits at enemies or objects in the environment. Then there is the graphics, these are by far the best graphics on the Wii, it is just so hard to describe how great this game looks, you could probably almost say it looks as good as some 360 games.<br /><br />My only minor gripes is that the going upside down effect takes some getting used to, and also the story is pretty weak. The worst part is that you lose all of your lives when you turn off the game, no matter how many you had when you last quit you restart at 4 lives. Still these minor problems aside it's a superb game that is highly entertaining and is very challenging. This is the type of game that we've been waiting for on the Wii.<br /><br />A perfect 10 out of 10!\",\n",
              "       'The quote above just about says it all for \"Slipstream\". I should have bailed out of this film after the first half hour, but decided I ought to be fair and give it a chance. I won\\'t watch it again, so if anyone with the temerity to do so can get back to me with the number of clichéd lines in the movie, I\\'m sure it will set a record.<br /><br />Some otherwise fine and talented actors got mixed up with this clunker; Mark Hamill portrays a futuristic bounty hunter and Bill Paxton is his quarry. Paxton\\'s character has hijacked Hamill\\'s prisoner, an android taking his name from the poet Byron (Bob Peck). Tasker (Hamill) shoots Owens (Paxton) with a dart containing a tracking device so he and his companion Belitski (Kitty Aldridge) can keep tabs on the pair. The real question though is why didn\\'t he just fire the device at Byron thereby cutting out the middleman.<br /><br />If you enjoy scene after disjointed scene with tedious characterization and artsy fartsy pretense, then I suppose you\\'ll find something of interest here. But you can\\'t convince me that the film makes sense on any level. Scenes of a futuristic Stone Age make way for high society snobbery, but the pinnacle of poor taste is reached when Paxton\\'s character is displayed following a night of revelry with hickeys all over his torso. If anyone thinks there\\'s some hidden meaning here, you\\'re really stretching.<br /><br />Patiently waiting for the frame proclaiming \"The End\" to come into view, alas, even that was denied. If beauty is in the eye of the beholder, then so is understanding; this movie had neither. Yet there was a single redeeming feature as the closing credits began their run - an awesome view of a half dozen hot air balloons. Apparently the film was keeping them afloat.',\n",
              "       \"If only I had read the review by Alex Sander (sic) on here rather than looking at the rating of over 6 from a select choice of the ignorant viewing public I would not have seen this desecration. Alien was a fantastic, dramatic and well made horror/sci-fi. Predator was a great sci-fi/action mess-about. I do really have only myself to blame though as I saw 'Alien versus Predator'. It too has an average grading of over 6 stars from the connoisseurs of film that frequent this site.<br /><br />STOP READING NOW IF YOU HAVE ANY FEAR OF THIS EVER SO SUSPENSE RIDDEN PLOT BEING RUINED FOR YOU.<br /><br />Right from the beginning this film was ridiculous. No explanation was offered for the Predator ship overrun/not overrun by Aliens. OK so maybe they were again going to throw aliens down to Earth to hunt them and something went wrong but how did this result in an Alien/Predator hybrid and why did the rest of the crew not realise sooner despite their great technology? The start was actually the most coherent and interesting part of the film because we had some idea of who was who or what was what and perhaps why. From then on it gets really ridiculous. I always leave my disbelief strictly suspended above the door of the screen before entering and collect it on the way out. I couldn't here.<br /><br />A father and son are hunting in the woods. The damaged ship crash lands to (from the view given) I would calculate at the very least 10 odd miles away through thick woodland. The man and boy track there alone and find the ship and get face hugged. Even at this point you feel very little for them mainly because the face huggers are almost comical rather than scary in their movement and actions and the father seems like such an irresponsible, dumb redneck muppet.<br /><br />An edgy, thriller-type scenario is introduced with an ex-con returning to the town near the crash site to be met by his somewhat emotionless, dull now cop friend from the bus. When I say introduced I mean a feeble attempt with crap actors and no feeling is played out. A slasher/horror element is then introduced with a sexy girl and the usual supposedly nerdy or somehow undesirable cute guy who gets beaten up by the over protective, crazy, nasty Jock type (American sportsman not a Scottish man). Oh the cute/not cute boy is the ex-con's brother by the way. Yes they're clever these director brothers whose name I will research in order to avoid any other shite they put out again. Then a modern role reversal oh so boring attempt at PC, Ripley credential type character introduction comes with a female soldier returning home to her husband and child.<br /><br />Guess what happens next? I won't tell you much more about the actual (smiles sadly to himself about the demise of storytelling in the large majority of recent films) plot just in case you have got this far and are not the brightest star in the Alien-ridden universe.<br /><br />The Predator is stupid for the reasons stated by the previous poster whose post I read too late. The Aliens are boring. The Predator-Alien is ridiculous. The action is at times exploitative, gratuitous, disgusting nonsense. The hospital scene with the pregnant mothers?!?! Oh I was shocked alright. Shocked at how low some people will go to get what? A scare? Some shock? To titillate the perverse? What? If you really wanted to shock, titillate and scare people who are not pregnant or expecting fathers or who have no souls why not just have the Alien/Predator shagging the saucy women and teenage girls rather than killing them? The characters have no depth and neither does the plot. It's filmed and paced badly. It's acted by disinterested people not that I can blame them. It further tarnishes two rather interesting and good sets of sci-fi characters. This film was rubbish and if you gain enjoyment from it I really have to worry about you. If you haven't seen it then well please make your own decision.<br /><br />PS Did I even mention the way that trained soldiers are all killed in about 20 seconds while amateur civilians survive throughout?\",\n",
              "       \"As far as I know the real guy that the main actor is playing saw his performance and said it was an outstanding portrayal, I'd agree with him. This is a fantastic film about a quite gifted boy/man with a special body part helping him. Oscar and BAFTA winning, and Golden Globe nominated Daniel Day-Lewis plays Christy Browna crippled man with cerebral palsy who spends most of his life on the floor, in a wheelchair and carried by his family. He has a special left foot though, he can write with it, paint with it and hold things with it. He learns to speak later in the film, it is very good for a guy like him. Also starring Home Alone 2's Oscar winning, and Golden Globe nominated Brenda Fricker as Mrs. Brown and BAFTA winning Ray McAnally as Mr. Brown. It was nominated the Oscars for Best Director for Jim Sheridan, Best Writing, Screenplay Based on Material from Another Medium and Best Picture, it was nominated the BAFTAs for Best Film, Best Make Up Artist and Best Adapted Screenplay. Daniel Day-Lewis was number 85 on The 100 Greatest Movie Stars, he was number 20 on The 50 Greatest British Actors, he was number 9 on Britain's Finest Actors, and he was number 15 on The World's Greatest Actor, and the film was number 28 on The 50 Greatest British Films. Outstanding!\",\n",
              "       \"I saw this movie last night and thought it was decent. It has it's moments I guess you would say. Some of the scenes with the special ops forces were cool, and some of the location shots were very authentic. I won't be putting this movie in my DVD collection but it is fair enough to recommend for renting. I guess nothing set the movie at another level compared to others of the same genre. The action is good, the acting is decent, the women are extremely seductive and exotic in my opinion, and the story is pretty interesting. 7 out of ten\",\n",
              "       \"Just finished watching 2FTM. The trailers intrigued me so much I actually went to see it on opening weekend, something I never do. Needless to say I was very disappointed. The story has so much potential and it's frustrating to see it get screwed up. I really feel the problem with the movie was the directing and Matthew McConaughey. First off I am not a MM hater, I thought he was awesome in both Reign of Fire and Lone Star. I enjoyed his performance in those movies without having to see him with his shirt off 3-4 times. Yes we all get it that he a good-looking guy with a nice body, but I think most people knew this 10 years ago when he came on the scene in A Time to Kill. Showing him with his shirt off pumping iron like a sweaty madman 3-4 times in the movie is totally unnecessary. I think one time would have been sufficient. It wouldn't surprise me if they threw those unnecessary scenes in so girlfriends and wives would be willing to tag along with their significant other, no woman wants to see a movie about sports gambling, unless......Enough about that, let's get into his role. I feel his acting was very forced and he didn't seem very comfortable. I know his character was supposed to be this charming southerner, but his lines were corny and cheesy. It was almost like he was referencing Days and Confused lines a few times! In short, I didn't like his character even though I was supposed to. The accent, his shirt off, corny pick up lines, weak sales pitches. His character was just too much of a tool, as Brandon or Jonathan. Pacino and Assante were great, but that' no surprise. Piven is fun to watch as Arie....oooops I mean Jerry. I just feel this movie was very commercial and put together poorly. It's insulting that they could take a great story, and throw in crap ingredients to try and make it a box office success. 1. Cool story that appeals to the male man 2. Hunky Hollywood actor for female women (make sure he has numerous scenes with shirt off lifting weights) 3. Al Pacino with 4 great speech scenes, and 25 great one liners 3. Every character shall be dressed in thousand dollars suites and have an extremely dark tan 4. Jeremy Piven to play the same character he did in Entourage and Old School 4. Throw in Armand Assante to seal the deal 5. Plot, good writing, character development, and intelligent casting are unnecessary<br /><br />This will be good enough for most people, but not me! Anybody who disagrees with me, ask your self this. Would this movie be much better if: A. Directed by Sodeberg B. DeCaprio or Ed Norton as Brandon instead of MM<br /><br />I will probably be part of the minority in thinking this movie sucks. I realized this when the woman next to me started crying during the ridiculous ending scene of Pacino shedding a fake tear while embracing Russo. The financial success of this movie will ensure one thing. The movie going public gets what the movie going public wants, big budget crapola.\",\n",
              "       'This movie was absolutely pathetic. A pitiful screenplay and lack of any story just left me watching three losers drool over bikini babes. At times I felt like I was watching an episode of Beavis and Butthead. I couldn\\'t even sit through the whole movie. Emran Hashmi disappoints, and Hrshitta Bhatt is not impressive at all. Celina Jaitley was not bad. The only worthwhile part of the film is the spoof on Anu Malik and his obsession of shayaris. It was pretty hilarious. The songs \"Sini Ne\" and its remix version were really good. You can always count on Emran lip-locking and lip-synching a chartbuster. All in all, it seems Emran doesn\\'t have a good script from the Bhatts to back him up this time.',\n",
              "       \"I think this is one hell of a movie...........We can see Steven fighting around with his martial art stuff again and like in all Segal movies there's a message in it, without the message it would be one of many action/fighting movies but the message is what makes segal movies great and special.\",\n",
              "       'I gave this a 1. There are so many plot twists that you can never be sure to root for. Total mayhem. Everyone gets killed or nearly so. I am tired of cross hairs and changing views. I cannot give the plot away. Convoluted and insane. If I had paid to see this I would demand my money back. I wish reviews were more honest.',\n",
              "       'In this movie, Chávez supporters (either venezuelan and not-venezuelan) just lie about a dramatic situation in our country. <br /><br />They did not say that the conflict started because of Chávez announcement firing a lot of PDVSA best workers just for political issues.<br /><br />They did not say anything about more than 96 TV interruptions transmitted by Chávez during only 3 days in \"CADENA NACIONAL\" (a kind of confiscation o private TV signals). Each one with about 20 minutes of duration.<br /><br />They did not tell us anything about The quiting announcement made by General en Jefe Lucas Rincon Romero, Inspector General of the army forces, who is a traditional supporter of Chávez. Even now, in despite of his announcement, he is the Ministro de Interior y Justicia. After Chávez return he occuped the Charge of Ministro del Defensa (equals to Defense Secretary in US).<br /><br />They did not say anything about Chávez orders about shooting against a pacifical people concentration who was claiming for elections.<br /><br />They did not say anything about the people in this concentration that were killed by Chávez Supporters (either civilians and Military official forces).<br /><br />They present some facts in a wrong order, in order to lie.<br /><br />They did not say anything about venezuelan civilian society thats are even now claiming for an elections in order to solve the crisis and Chávez actions in order to avoid the elections.<br /><br />That\\'s why i tell you.... This movie is just a lot of lies or a big lie.',\n",
              "       'What an incomprehensible mess of a movie. Something about a cop who extracts bullets from himself after he gets shot and keeps them in a glass jar in his bathroom (and from the size of the jar he\\'s been shot about fifty times by now) and a top secret tank guarded by five or six incompetent soldiers who for some reason drive it into Mexico. Whether they were sent there intentionally or just got really really lost is never made clear. And you\\'ll never hear another screenplay feature the word \"butthorn\" either. Gary Busey tries out the Mel Gibson role from \"Lethal Weapon\" and while Busey is a serviceable actor the screenplay damns the whole movie to mediocrity. William Smith does another turn as a Russian soldier, the same character he played in \"Red Dawn\" a few years earlier. After playing biker heavies for most of the 70s it was sort of nice to see him expand his range playing Communist heavies. Sadly he\\'ll probably always be remembered best as the guy who Clint Eastwood whupped in \"Every Which Way You Can.\"',\n",
              "       'C\\'mon guys some previous reviewers have nearly written a novel commenting on this episode. It\\'s just an old 60\\'s TV show ! This episode of Star Trek is notable because of the most serious babe (Yeoman Barrow\\'s) ever used on Star Trek and the fact that it was filmed in a real outdoor location. Unlike the TNG and Voyager series which were totally confined to sound stages.<br /><br />This use of an outdoor location (and babe) gives proper depth and an almost film like quality to a quite ordinary episode of this now dated and very familiar show.<br /><br />Except a few notable exceptions i.e \"The city on the edge of forever\" , \"assignment Earth\" and \"Tomorrow is Yesterday\" The old series of Star Trek needs to be seriously moth-balled and put out of it\\'s boring misery. Half a dozen good episodes from 79 is quite a poor batting average.<br /><br />This is typical of the boring stuff Gene Roddenberry produced back then actually, contrary to popular belief where some people worshiped the ground he walked on, he actually made a LOT of rubbish! He doesn\\'t deserve to be spoken of in the same breath as Irwin Allen for example.<br /><br />Just look at the set of the bridge of the Enterprise from a modern point of view. They used wobbly plywood for the floor, cafeteria chairs with plastic backs and cheap cardboard above the instrument panels. You can clearly see the folds in the paper ! Every expense spared or what !',\n",
              "       \"Mexican Werewolf in Texas is set in the small border town of Furlough where Anna (Erika Fay) lives, her best friend is Rosie (Martine Hughes) & she has a Mexican boyfriend named Miguel (Gabriel Gutierrez) who are determined to track a beast down that has been terrorising the town, killing livestock & several residents including some of their friends. Local Mexican legends speak of the Chupacabra, an evil creature from myth & legend. Erm, I'm struggling now because not that much else actually happens...<br /><br />Written & directed by Scott Maginnis I won't beat about the bush here & simply say that Mexican Werewolf in Texas is awful, period. The script only ever mentions the word Werewolf once & the rest of the time it's referred to a Chupacabra, in fact I suspect this wasn't really conceived as a Werewolf flick at all. The 'Werewolf' creature looks mostly hairless & more like some vicious dog, there is no reference to anybody changing during the full moon & it actually attacks during the day on a couple of occasions, there is no transformation scene & at the end when it is killed it doesn't change back into anyone either. To be honest apart from the title there's nothing here to indicate a Werewolf film at all & even then the title is just a rip-off of the highly popular An American Werewolf in London (1981). This is the type of home made crap that I personally think is killing the horror genre, how long has it been since there was a true low budget horror classic like Dawn of the Dead (1978), The Evil Dead (1981), Halloween (1978) or Friday the 13th (1980) which were all made on shoe string budgets, maybe The Blair Witch Project (1999) but that's it in recent years & crap like Mexican Werewolf in Texas has absolutely no chance of ever being considered a classic. The character's are awful & things just happen around them, the dialogue is rubbish, the pacing is terrible, the story sucks & virtually sent me to sleep & as a whole this film is just crap, I'm sorry but I don't know how else to describe it.<br /><br />Director Maginnis does nothing to make this watchable, there's the annoying hand held camera type cinematography which could easily give someone a headache & quick 'blink & you'll miss something' editing which just annoys & irritates in equal measure. It's not scary, there's no nudity, there's no tension or atmosphere & the special effects are awful. The monster really does look poor & it's no wonder Maginnis keeps it in the shadows or cuts his scenes so quickly you never get a good look at it. There's virtually no colour to the picture either, it's either almost pitch black or over saturated desert sand oranges which makes the thing an eye sore as well. The gore consists of some fake guts (blink & you'll miss them!), a few bloody wounds & a severed arm, big deal.<br /><br />With a supposed budget of about $300,000 I admit the budget was low but I simply refuse to accept that for making such a rubbish film, there are plenty of low budget horror flicks that make their meagre budgets go far. The whole thing has the look of a home movie, it has no style & is throughly bland & dull to look at. The acting sucks too although you probably already knew that.<br /><br />Mexican Werewolf in Texas will probably con a few people into renting/buying/watching it because they might mistakenly think it's a sequel to John Landis' classic which it most certainly isn't & it isn't even a proper Werewolf flick either. Don't be fooled this is awful & I'm fed up of having to waste time/money on home made amateur crap like this.\",\n",
              "       \"Mom should really be given a different title to distinguish it from all the other movies out there called Mom or with the word Mom in the title.<br /><br />This is a vastly superior zombie movie to so much of the rubbish that gets churned out time after time and all end up much the same as every other zombie movie out there.<br /><br />It is so different and refreshing it almost defies categorisation.<br /><br />The kind old lady who takes in a creepy lodger, who just happens to be a flesh eater, who then infects the old lady who also turns into a flesh eating zombie, or ghoul, quite which exactly is not defined.<br /><br />There is pathos in the story as her son realises what she has become and while at first horrified, attempts to help her by supplying 'food'. (I shall say no more about that, for fear of inserting a spoiler!) It is one of those 'quiet' movies as opposed to guns blasting, explosions raging, car chases, etc boring etc that makes so many movies all the same rubbish, but still with enough gory moments to satisfy horror fans, whilst also inserting sadness into the story, along with nice touches of humour as opposed to downright silliness of some so-called 'horror' movies.<br /><br />There is a particularly nice atmospheric shot at the beginning of the film, where the old lady is sitting alone in her room with only her Christmas tree for company and looks so 'innocent', but, what she becomes!! Oh my! <br /><br />A gem of a movie and even if not your thing, should at least be viewed if only once by any true horror fan.\",\n",
              "       'This show is great for many reasons..The father and mother can communicate with their kids this day in age. Its so great to see a real family instead of some stuffy overacting family. I watched this one time and became hooked.It so great to see a black family on TV worth watching. This show left too soon but on its way out it dealt with pregnancy, sexy, drugs, bad dates,death etc .The best thing about the show was that it dealt with it in a real humorous sort of way. Great show for the family ..I cant tell you how many times I have sat up watched this show late at night sometimes and laughed my head off. Great pg 13 rated show.I loved everybit of this show.',\n",
              "       \"If you watched Pulp Fiction don't see this movie. This movie is NOT funny. This is the worst parody movie ever. This is a poor attempt of parody films.<br /><br />The cast is bad. The film is bad. This is one of the worst pictures ever made.<br /><br />I do not recommend Plump Fiction. I prefer the original Pulp Fiction by the great Quentin Tarantino. This is one of the worst parody films ever made.<br /><br />Plump Fiction is not a good movie. It is not funny. It is so dumb and vulgar.\",\n",
              "       'Picture the scene where a bunch of scriptwriters sit around a table and one says \"lets have a black woman approach an unsuspecting member of the public (also black) in the street and ask him if he is black, then walk away\". The other writers fall about laughing hysterically until one suggests they repeat it in every episode. More laughter. Now if you think the premise is funny, and the show contains many such types of situation, you will enjoy this show. For the rest, use your zapper and find something more entertaining like watching paint dry. Those that have written glowing reports of this show should either get out more or be forced to watch television comedies that are really funny. Another example of the humor in the show, a girl tries to get out of paying at a supermarket checkout by trying to hypnotise the cashier. Marginally funny the first time but why repeat it over and over in different shows with different cashiers? I could give other examples but these just might be treated as spoilers, divulging why this comedy just is not funny at all.',\n",
              "       \"A family is traveling through the mid West. There's widower Ben (Charles Bateman), his girlfriend Nicky (Ahna Capri) and Ben's little daughter K.T. (Geri Reischl). Then hit a town named Hillsboro where everyone acts more than a little strangely. Their car breaks down and they're forced to stay. They soon find out a witches coven has a spell over the town and is up to incredible evil.<br /><br />The story is not that good. People just figure things out of nothing and they just happen to find out where the witches are at the end. Also there are a lot of loopholes left dangling at the end. The acting is pretty poor too. Bateman and Capri are bland and everybody else is about the same. Only old pros Strother Martin and L.Q. Jones give good performances. Still this movie does work. It forgoes blood and gore (there's some but this is PG) and manges to work with some very creepy visuals and atmosphere. The acting hampers a lot of it but it still works. Martin especially chews the scenery in his role. I can't explain exactly why I (sort of) like this movie but it did work on me. It's a quiet kind of horror that isn't made anymore. Hardly a masterwork but this deserves to be rediscovered. A 7.\",\n",
              "       'Based on an actual story, John Boorman shows the struggle of an American doctor, whose husband and son were murdered and she was continually plagued with her loss. A holiday to Burma with her sister seemed like a good idea to get away from it all, but when her passport was stolen in Rangoon, she could not leave the country with her sister, and was forced to stay back until she could get I.D. papers from the American embassy. To fill in a day before she could fly out, she took a trip into the countryside with a tour guide. \"I tried finding something in those stone statues, but nothing stirred in me. I was stone myself.\" <br /><br />Suddenly all hell broke loose and she was caught in a political revolt. Just when it looked like she had escaped and safely boarded a train, she saw her tour guide get beaten and shot. In a split second she decided to jump from the moving train and try to rescue him, with no thought of herself. Continually her life was in danger. <br /><br />Here is a woman who demonstrated spontaneous, selfless charity, risking her life to save another. Patricia Arquette is beautiful, and not just to look at; she has a beautiful heart. This is an unforgettable story. <br /><br />\"We are taught that suffering is the one promise that life always keeps.\"',\n",
              "       'This movie was way over-hyped. A lot of the viewers, who thought this was \"amazing\" must have been into the old school movies, cause the whole movie is set in the past. At first I thought the movie was just showing something from the past, so I was expecting that faded dreamy like lighting on the characters to pass, but it just going. Basically this was a movie trying to mix the future with the past, and the 2 don\\'t mix very well in this movie, even with special effects. You could actually see the blue screen the actors were working with. There are too many movies out there that do exactly what this movie did, so there is no reason for critics to hype this movie up saying \"it\\'s the greatest movie ever done\". It\\'s just crap on a stick. It also didn\\'t help that the story line was sooo crappy. I don\\'t understand why Hollywood agreed to have this movie produced, and I also don\\'t understand how actors/actresses in this movie are willing to be in a movie like this. It\\'s almost as though everybody read the script and forgot to read the fine print...\"It will all be done on a computer\". This was a movie that should have been on a movie network, because nothing about this movie was revolutionary. I\\'m very upset with myself for paying money to see this. Whatever you do, don\\'t waste your time and money on this movie today or tomorrow.',\n",
              "       \"This movie is ridiculous. It's attempting to be a comedy but the screenplay is horrible. The whole movie is done in low light and you cant grasp the fact that it's a comedy. Truly is bad cinematography. You really have to sit there and watch it to realize there's a few jokes here and there going on but either way they're all inside jokes amongst themselves. This is more like a wannabe drama flick that went bad. It really is a very pointless movie.Their expressions reveal nothing but dismay and disaster which turns out that way anyway. Unless you want to be bored out of your ass, I suggest you stay away from this gag of a movie.\",\n",
              "       \"I am not a golf fan by any means. On May 26 about 10:30 PM the movie started with a scene in the late 1800's. Old movies I like but not golf however, within the first scene a young boy (Harry Vardon) is awaken by the voices of men. He goes outside to inquire what they are doing and is told they are going to build a golf something... So , then I turned the television off but something stirred me and it was back on. The movie is excellent. We then see this young boy now a man; professional golf player who is haunted with visions from his childhood. Then we meet the true focus of the movie Francis and the decisions he makes for golf. You meet his mother and father who want to protect him from the class thing that is so obvious during the period. Then there is little Eddie Lowery his caddy with encouraging words and little pushes that are instrumental in Francis winning. Don't want to give away too much . I was up until 2 A.M. This is super please see the movie.\",\n",
              "       \"I was debating between this movie and 2012 but chose Inglourious Basterds due to it's amazingly high IMDb rating. I must say now, what a disappointment. I expected a certain amount of gratuitous violence, but I also expected a lot of witty dialog. I got a huge dosage of the former, but not nearly enough of the latter. I felt shortchanged. The ratio between violence to plot is very important and I think this movie gets it totally wrong. And the plot? It's that believable or really all that entertaining either. Save your time and money. I can't believe what this rating says for the gory and violent tastes of the modern masses.\",\n",
              "       \"Why, o' WHY! ...did I pick this one up? Well... i needed a no-brainer in the summer heat, and the cover looked cool.<br /><br />Of course I should've known better. This is a really, really bad movie. And it gets embarasing when the makers know it's bad, and try cover it up by adding some sexy/beautiful women, and some sex-scenes to it. Well, folks... it does'nt cut it, does it!<br /><br />If you WOULD like a cool movie about a big reptile that is actually very, very good, well-played and funny: go rent Lake Placid! (that is an order)\",\n",
              "       'Truly appalling waste of space. Me and my friend tried to watch this film to its conclusion but had to switch it off about 30 minutes from the end. And i can count the films I have switched off before the end on one hand.<br /><br />The script and direction are leaden and deeply uninspiring. I wouldn\\'t be surprised if they found the script in a pile of cast off scripts from 1983. For example the irritating scroat threatening the real estate guy from his house phone. I mean seriously. The police would be beating his door down in minutes. The scenes and events just wash by you like turds in a river. It is difficult to understand the actual thrust of the film. The narrative flicks between characters in a seemingly random manner breaking up the pathetic attempts at building the characters. Oh and what \"characters\" they are. The protagonist played by Rourke is dreadful. He could have just sent a cardboard cut out of himself and stayed in bed. After 60 or so minutes of the film I had built absolutely zero attachment to this character. He is neither sympathetic nor hateful. Just a disfigured dummy from a shop window blundering through every single scene. His motivation is impossible to discern from his generally mumbled and emotionless delivery. Is he happy? Is he sad? Angry? No idea. Just those same dead eyes staring out at you from a disfigured chunk of flesh. And the native American theme is just awful and pointless.<br /><br />The good guys are at best unlikeable. A dull white collar stereotype and a simpering neurotic ex-wife stereotype. Cue archetypal wife with shotgun face off with bad guy, \"you aren\\'t going to shoot me\" that is both tiresomely unoriginal and annoying.<br /><br />The richie nix character seems interesting at first but soon descends into an irritating one sided psycho character. Which seems at odds with the seeming intention of making the bad guys in some way sympathetic or at least realistically motivated.<br /><br />Roasario Dawsons character starts with some promise but soon descends into a sickening and childlike parody of the gangsters chick scenes from Jackie Brown. You really want me to believe her character was SO attracted to Rourke\\'s? Or worse she is just a floozy who sleeps with anything that moves? Realistic female characters FTW! <br /><br />In summary a complete mess of a film. Hopeless characterisations and performances. A leaden and hackneyed script along with uninspired direction. And ultimately extremely dull. Its not even comedy bad either. Laughing at Rourkes haggard face gets pretty old after sitting through the first 15 turgid minutes of the film.',\n",
              "       \"I agree with BigAlC - this movie actually prepared me for a lot of the cultural differences and practices before I went to live in Japan for a year in 1993. Tom Selleck does a fantastic job here, as always, and the movie is greatly humorous and educational. I'm a big fan of Tom Selleck's, and he blesses this part with his usual charm and charisma to this part, bringing the film to life in a way I can't imagine any other actor being able to pull off. <br /><br />This film featured some first-rate Japanese actors, and it was highly entertaining to watch them as they interacted with Selleck - I can imagine the fun he had during the actual filming of the movie - Japan's an awesome place to go, whether you want to party, sight-see or just try to take everything in.\",\n",
              "       \"Pepe le Moko, played by Charles Boyer, is some sort of international criminal mastermind wanted in countries throughout Europe, and to stay free he holes himself up in the Casbah, a mysterious part of Algiers where even the police are reluctant to go, until a senior officer is sent from Paris to capture le Moko once and for all. For le Moko, although the Casbah allows him to remain out of police custody, it also becomes a sort of prison at the same time - a place he can't leave, because the moment he does, he knows he'll be arrested.<br /><br />Boyer's performance was good, and I can understand why he was nominated for an Oscar. He captures the essence of such a character - a perfect combination of very dangerous and yet very classy at the same time. The movie itself, unfortunately, was quite a letdown. A number of parts of the story seemed inconsistent, of which I'll mention two. First was the idea that the police wouldn't enter the Casbah. That was stated pretty clearly at the beginning of the film by the local commander, and yet repeated references in the movie suggest that in fact the police did enter the Casbah fairly regularly. So, neither the suggestion by Commissioner Janvier that the police wouldn't enter, nor the statement by Inspector Slimane (also a decent performance by Joseph Calleia) that they could get into the Casbah but not out seemed to make much sense. I also found it difficult to believe that le Moko - hardened criminal mastermind that he was - could be so quickly swept off his feet by Gaby (Hedy Lamarr) to the point where he entertains the local populace by singing love songs and then leaves the Casbah to find her, essentially giving himself up. I understand the irony of the final few scenes, of course, as Pepe leaves the freedom of his prison (the Casbah) only to find real freedom in his capture (because he's shot and killed by the police.) I just found it impossible to believe that someone like le Moko would fall into such a trap.<br /><br />This is worth watching for Boyer, and to a lesser extent Calleia, but the story is disappointing and inconsistent. 3/10\",\n",
              "       \"Kind of drawn in by the erotic scenes, only to realize this was one of the most amateurish and unbelievable bits of film I've ever seen. Sort of like a high school film project. What was Rosanna Arquette thinking?? And what was with all those stock characters in that bizarre supposed Midwest town? Pretty hard to get involved with this one. No lessons to be learned from it, no brilliant insights, just stilted and quite ridiculous (but lots of skin, if that intrigues you) videotaped nonsense....What was with the bisexual relationship, out of nowhere, after all the heterosexual encounters. And what was with that absurd dance, with everybody playing their stereotyped roles? Give this one a pass, it's like a million other miles of bad, wasted film, money that could have been spent on starving children or Aids in Africa.....\",\n",
              "       \"Despite some reviews being distinctly Luke-warm, I found the story totally engrossing and even if some critics have described the love story as 'Mills and Boon', so what? It is good to see a warm, touching story of real love in these cynical times. Many in the audience were sniffing and surreptitiously dabbing their eyes. You really believe that the young Victoria and Albert are passionately fond of each other, even though, for political reasons, it was an arranged marriage. I did feel though that Sir John Conroy, who was desperate to control the young Queen, is perhaps played too like a pantomime villain. As it is rumoured that he was in fact, the real father of Victoria (as a result of an affair with her mother The Duchess of Kent) it would have been interesting to explore this theory. Emily Blunt is totally convincing as the young Princess, trapped in the stifling palace with courtiers and politicians out to manipulate her. She brilliantly portrays the strength of character and determination that eventually made Victoria a great Queen of England, which prospered as never before, under her long reign. I believe word of mouth recommendations will ensure great success for this most enjoyable and wonderful looking movie.\",\n",
              "       'So real and surreal, all in one. I remember feeling like Tessa. Heck, I remember being Tessa. This was a beautiful vignette of a relationship ending. I especially liked the protesters tangent. It is nice to see symbolism in a movie without being smacked over the head with it. If you get the chance to see this, take it. It is well worth the 30 minutes.',\n",
              "       'I really liked this movie. I have seen several Gene Kelly flicks and this is one of his best. I would actually put it above his more famous American in Paris. Sometimes it seems the story gets lost in Gene Kelly movies to the wonderful dance and song numbers, but not in this movie. It is definitely worth renting.',\n",
              "       'What seemed at first just another introverted French flick offering no more than baleful sentiment became for me, on second viewing, a genuinely insightful and quite satisfying presentation.<br /><br />Spoiler of sorts follows.<br /><br />Poor Cedric; he apparently didn\\'t know what hit him. Poor audience; we were at first caught up in what seemed a really beautiful and romantic story only to be led back and forth into the dark reality of mismatch. These two guys just didn\\'t belong together from their first ambiguous encounter. As much as Mathieu and Cedric were sexually attracted to each other, the absence of a deeper emotional tie made it impossible for Mathieu, an intellectual being, to find fulfillment in sharing life with someone whose sensibilities were more attuned to carnival festivities and romps on the beach.<br /><br />On a purely technical note, I loved the camera action in this film. Subtitles were totally unnecessary, even though my French is \"presque rien.\" I could watch it again without the annoying English translation and enjoy it even more. This was a polished, very professionally made motion picture. Though many scenes seem superfluous, I rate it nine out of ten.',\n",
              "       'So im not a big fan of Boll\\'s work but then again not many are. I enjoyed his movie Postal (maybe im the only one). Boll apparently bought the rights to use Far Cry long ago even before the game itself was even finsished. <br /><br />People who have enjoyed killing mercs and infiltrating secret research labs located on a tropical island should be warned, that this is not Far Cry... This is something Mr Boll have schemed together along with his legion of schmucks.. Feeling loneley on the set Mr Boll invites three of his countrymen to play with. These players go by the names of Til Schweiger, Udo Kier and Ralf Moeller.<br /><br />Three names that actually have made them selfs pretty big in the movie biz. So the tale goes like this, Jack Carver played by Til Schweiger (yes Carver is German all hail the bratwurst eating dudes!!) However I find that Tils acting in this movie is pretty badass.. People have complained about how he\\'s not really staying true to the whole Carver agenda but we only saw carver in a first person perspective so we don\\'t really know what he looked like when he was kicking a**.. <br /><br />However, the storyline in this film is beyond demented. We see the evil mad scientist Dr. Krieger played by Udo Kier, making Genetically-Mutated-soldiers or GMS as they are called. Performing his top-secret research on an island that reminds me of \"SPOILER\" Vancouver for some reason. Thats right no palm trees here. Instead we got some nice rich lumberjack-woods. We haven\\'t even gone FAR before I started to CRY (mehehe) I cannot go on any more.. If you wanna stay true to Bolls shenanigans then go and see this movie you will not be disappointed it delivers the true Boll experience, meaning most of it will suck.<br /><br />There are some things worth mentioning that would imply that Boll did a good work on some areas of the film such as some nice boat and fighting scenes. Until the whole cromed/albino GMS squad enters the scene and everything just makes me laugh.. The movie Far Cry reeks of scheisse (that\\'s poop for you simpletons) from a fa,r if you wanna take a wiff go ahead.. BTW Carver gets a very annoying sidekick who makes you wanna shoot him the first three minutes he\\'s on screen.',\n",
              "       \"I went to see this one with much expectation. Quite unfortunately the dialogue is utterly stupid and overall the movie is far from inspiring awe or interest. Even a child can see the missing logic to character's behaviors. Today's kids need creative stories which would inspire them, which would make them 'daydream' about the events. That's precisely what happened with movies like E.T. and Star Wars a decade ago. (How many kids imagined about becoming Jedi Knights and igniting their own lightsabers?) Seriously don't waste your time & money on this one.\",\n",
              "       \"You should never ever even consider to watch this movie! It is absolutely awful! This isn't an overstatement!! It is so unbelievable and exaggerated, it gets boring. It is just a movie where they have taken stories and plots from several movies and put it together in one. They writer hasn't been able to pull it off in a good way.<br /><br />If you'd like to see pretty girls in bikinis and no brain this might be the movie for you, but still, you should plug your ears and just watch. It's not worth listening:p There are so many great movies out there, and if I could choose one, this would be the last movie I would pick. But all in all, it's your choice!!! <br /><br />Enjoy!\",\n",
              "       \"This movie was Flippin Awful....I wanted those hours of my life back. For god's sake, -stay far away from this awful crumb ball movie at all costs. Its not worth mentioning the title, but the ratings on this movie are pretty generous for a vomit scum movie like this. And where do I begin? The dumb A** kids in the movie.....The zero plot or story?...the garden-variety college/frat boy-esquire scenes of towel slapping? Or the VERY bad acted, teen angst innuendo? $$$#@%@! My god, It NEVER ended!.....I remember thinking I would have rather kissed the movie theater floor, then sit through this one again.<br /><br />But what do you expect? Most people with the brain power to look up reviews, are not going to be the target audience here at all- so GO SEE Pirites 2 again, or the Jet Lee one, -If your debating to yourself. Look, This movie will just cost you your soul, your money, your energy, and your brain cells. HEED THE WARNING.\",\n",
              "       \"This was my first Gaspar Noe movie I've watched and I have to say I was shocked. I don't mind gore in generally, but this isn't even gore , it's real butchering. For some of you a couple of scenes may be impossible to see and I mean really disgusting. Leaving aside these aspects, the main ideas revealed here and the dialog are quite brilliant. When you are given a strong argument against bringing a new life into the world and the manner in which it is given, you can't stop and take a minute to think about it. The actors did their job well, representing general masks of a handpick few people found at the bottom of a diseased society. The movie is full of metaphors, but I'll let you figure them out. Don't watch it if you want to have a lite, relaxing time. I recommend this movie to all those of you who want something to think about or simply watch something different of what you find in your average cinema.\",\n",
              "       'Absolute must see documentary for anyone interested in getting to the bottom of this story. Told with unflinching eye and with gripping style. If you think conspiracy theories are for paranoid disturbed people, this could change your mind. Something for you feds too: A good model for government coverups! If you like your news all tidy and easy to consume this is not for you.',\n",
              "       'I am not a big music video fan. I think music videos take away personal feelings about a particular song.. Any song. In other words , creative thinking goes out the window. Likewise, Personal feelings aside about MJ, toss aside. This was the best music video of alltime. Simply wonderful. It was a movie. Yes folks it was. Brilliant! You had awesome acting, awesome choreography, and awesome singing. This was spectacular. Simply a plot line of a beautiful young lady dating a man , but was he a man or something sinister. Vincent Price did his thing adding to the song and video. MJ was MJ , enough said about that. This song was to video , what Jaguars are for cars. Top of the line, PERFECTO. What was even better about this was ,that we got the real MJ without the thousand facelifts. Though ironically enough, there was more than enough makeup and costumes to go around. Folks go to Youtube. Take 14 mins. out of your life and see for yourself what a wonderful work of art this particular video really is.',\n",
              "       \"i really in enjoyed watching this movie. like most of the people that watched it. i wasn't sure that i was getting. Whoopi Goldberg is a very funny comedian and she has done a lot of funny movies; i.e. sister act.<br /><br />however this was not really comedy. it is a drama with comedic moments. so if your looking for a laugh riot then keep looking.<br /><br />this movie is about a black family moving up from a nice neighborhood in the city to an upper middle class neighborhood. i would say more but it think it would spoil the movie. this movie does not just deal with race relations between whites and blacks, but also about relations with in the black community. i do think that it is worth a chance. if your not really interested in see another movie about race relations then this movie isn't for you\",\n",
              "       \"The jokes are obvious, the gags are corny, and the characters are walking characatures - but I couldn't stop from laughing at his highly entertaining movie. No matter how many times I see it, I still get a kick out of this one, and I recommend it highly for all lovers of mindless entertainment. It contains many quotable moments, and some of the best sight-gags I've seen to this day. If you've had a bad week and you need a chuckle, rent this one on your way home Friday night to give your weekend a good start.\",\n",
              "       'Nicholas Walker is Paul, the local town Reverand who\\'s married to Martha (Ally Sheedy), but also is a habitual womanizer and decides to fake his own death to run away with his current affair, Veronica (Dara Tomanovich). However in so doing, he gets a bout of amnesia (hence the name of the film). Sally Kirkland is also on hand as a crazy old coot who pines for the good Reverand in a shades of \"Misery\" type of way. It\\'s sad to see a pretty good cast wasted like this. Not the least bit John Savage in a horridly forgettable role as a shoddy private investigator. In a film billed as a \\'black comedy\\', one has to bring BOTH elements into said movie. While this does bring the former in spades, it sadly contains none of the latter. Furthermore you can\\'t emphasize with any of the characters and as thus, have absolutely no vested interest in them. Technically not an all-together bad movie just an extremely forgettable one.<br /><br />Eye Candy: Dara Tomanovich gets topless; Sally Kirkland also shows some skin <br /><br />My Grade: C- <br /><br />Where I saw it: Showtime Showcase',\n",
              "       '\"Mararía\" really disappointed me. I can\\'t consider it as a bad movie, but the development just seemed too rushed and non-believable for it to evoke any emotions. Dr. Fermín displays some unprecedented bizarre behaviour out of a passion that one can\\'t really understand where it was born from. I mean, how many times does he ever have a conversation with Mararía?? Maybe once? Also, Mararía never appeared to be a real character, instead more like a film stereotype that just needed to be in the movie (...or else another title was needed?). Some of the best acting came from a role that wasn\\'t really important to the story, that of Marcial, the sub-intelligent yet humble drunkard. Of course, the scenery, the cultural tidbits of the Canary Islands, and other \"wow\" moments were interesting, but the movie fell short of a documentary (in case this was its real intention), and most importantly, as a solid drama.',\n",
              "       \"The film quickly gets to a major chase scene with ever increasing destruction. The first really bad thing is the guy hijacking Steven Seagal would have been beaten to pulp by Seagal's driving, but that probably would have ended the whole premise for the movie.<br /><br />It seems like they decided to make all kinds of changes in the movie plot, so just plan to enjoy the action, and do not expect a coherent plot. Turn any sense of logic you may have, it will reduce your chance of getting a headache.<br /><br />I does give me some hope that Steven Seagal is trying to move back towards the type of characters he portrayed in his more popular movies.\",\n",
              "       \"I had heard (and read) so many good things about Weeds that I was looking forward to getting hooked on another great cable Series (like Entourage, Sopranos or Mad Men) but that slowly eroded away with each episode I watched from Season One. (didn't make it past the first six episodes) <br /><br />The writing was unoriginal, contrived and the portrayal of Blacks embarrassing. The dialog felt forced, like the writers are trying way too hard to be clever and hip . It was a rare moment when I actually emitted an audible laugh.<br /><br />The characters never developed enough for me to care about them, they were selfish and unappealing. I absolutely HATED the addition of the Brother-in-law (who should have been hauled away on To Catch A Predator) and the removal of the Hodes' daughter Quinn from the cast by sending her to boarding school in Mexico was so unoriginal and cliché, I had to conclude the writers were testing the viewer's loyalty.<br /><br />Episode after episode I liked the characters less and couldn't get past many of the technical flaws in the story line.<br /><br />Add to that I heard that Season Two wasn't as good, so I lost all motivation to continue to watch this play out.<br /><br />If you're a fan of good casting and writing, I suspect this show will be a challenge for you to like, unless of course you're stoned and then all bets are off.\",\n",
              "       'This outing of Knotts includes one of his best sidekicks ever, Frank Welker. Welker makes the film. Knotts and Welker compete for the laughs and both receive plenty. Knotts works for a small \"no where\" town where the city is being run by some of the most ignorant officials. When things go wrong the city fathers, allow Knotts to take the fall. Frank Welker\\'s character befriends Knotts and together they stumble together to clear up the mess and Knott\\'s good name. This film shows the usual Knott\\'s scared to death character that made him famous for years on television and film. This may have been Knotts\\' last good outing. When you have an extra 90 minutes, get a good old fashioned laugh a great icon, Don Knotts.',\n",
              "       'I did not expect much from this film, but boy-o-boy, I did not expect the movie to be this bad. Chris Rock is not showing a good act here, you can\\'t get the feeling that his caracter is real, I think the movie would have been a bit better if it\\'s drama or romantic scenes would have been a less part of the movie and more/better humor was involved. The movie is like the film makers were having a bad hangover making it. In the \"making of\" they don\\'t show a single smile. This is a very bad film! I gave it three out of ten because of few smiles it gave me, but I did never laugh!',\n",
              "       'All the way though i was thinking to myself \"Oh god why!\" At the very beginning i thought \"Right it might be average,\" but the acting and plot on most parts was atrocious.<br /><br />Every part in it was so predictable, even though the first movie seemed to bare a large resemblance to the ring, it was a half decent movie, but this just seemed to take all the good things about the first and made them terrible. Some bits made everyone in the audience wet themselves, Eg. The part were Geller falls off the building had me in stitches. My girlfriend had to keep telling me to quiet down i was kept commenting on what was bound to happen next, and more times than less i was right.<br /><br />Why does going into the house make her come after you, it doesn\\'t make sense. It was a poor excuse for a lot of killings, and no really depth was seen at all.<br /><br />You can see everything coming, which just left you feeling that there was no point in watching. Oh shes behind her ... didn\\'t see that one coming *yawns*.<br /><br />Surely these people must have thought to... oh i don\\'t know, carry a knife round or at least try and fight back, instead of being eaten but someone hair? At best during the movie i was very mildly scared (and i mean mildly), i was just crying out for the credits, as they rolled i exhaled a short \"Oh thank god.\" If you haven\\'t already, don\\'t waste your\\' time and money on this; pointless, plot less, sorry excuse for a sequel!',\n",
              "       'This is a great film. Touching and strong. The direction is without question breathless. Good work to the team. I feel so sorry for Marlene, By the grace of God go you or I',\n",
              "       \"I feel dumber after watching the first 20 min,luckily i walked out and saved the rest of my brain, people should watch better films and take notes on why they are rated highly,not because of the budget of the film or the special effects, just simply good acting and getting simple things right,and MOst importantly--not being LAME--, but i guess this was produced for those Sheeple without taste and not a clue of what is ''A good Movie''don't be scared of rating films low,save your under-appreciated high scores for ''once in a life time movies''. Keep in mind that many use IMDb for trusted reviews and opinions,don't spoil the broth by sugarcoating turds Peace & love\",\n",
              "       'Riding high on the success of \"Rebel Without a Cause\", came a tidal wave of \\'teen\\' movies. Arguably this is one of the best. A very young McArthur excels here as the not really too troubled teen. The story concentrates more on perceptions of delinquency, than any traumatic occurrence. The supporting cast is memorable, Frankenheimer directs like an old pro. Just a story of a young man that finds others take his actions much too seriously.',\n",
              "       \"witty. funny. intelligent. awesome. i was flipping channels late one night years ago. came across this and a wildfire started. i was staying up late every night and taping it for everyone i know. a few. like 3 people out of the almost 100 people i made watch this didn't think it was as awesome as i did. the others were laughing out loud so hard they were crying and thanking me at the same time. please do yourself a favor. run don't walk. watch this and enjoy. intelligence and humor. it's a win-win situation. i wish i could have afternoon tea with him and meet the truly rare comedian that we as a society need more of....sanechaos.\",\n",
              "       \"Look, this is a low budget horror film that suffers from all of the problems that go with low budget movies. But you must see this just to watch Lisa Erickson as Julie. She is SMOKIN' hot and a great little actress to boot! These types of horror movies often unearth a rare gem and The Power gave us Lisa Erickson! Nothing I enjoy more than sitting down in my studio apartment with a Coke and putting in this film. My friends Bob, Bill and Dennis agree.. Lisa is not only brilliant, she is a hottie. The movie itself often plods along and the rest of the actors are not very helpful in that regard. But as soon as Lisa hits the screen, things really start hopping. The others are clearly not in her league. This is not the Exorcist but as I said, if you want to see a fun little movie with a hot little actress, this is the one to see!\",\n",
              "       'This is yet another western about a greedy cattle baron looking to push out small ranchers and farmers. It\\'s certainly all been done before and since. But The Violent Men is something special.<br /><br />What makes it special is Barbara Stanwyck playing the role of vixen as she often did in her later films. She\\'s married to the crippled Edward G. Robinson who\\'s the cattle baron here, but Robinson is crippled and there is some hint that his injuries may have left him impotent. No matter to Barbara, whose needs are being met by her brother-in-law Brian Keith. That doesn\\'t sit well with either Dianne Foster who is Robinson and Stanwyck\\'s daughter, nor with Lita Milan who is Keith\\'s Mexican girl friend.<br /><br />The infidelity subplot almost takes over the film, but Glenn Ford as the stalwart small rancher who is a Civil War veteran come west for his health manages to hold his own here. He\\'s every inch the quiet western hero who people make the mistake of pushing once too often. I almost expect those famous words from Wild Bill Elliott to come out of Ford\\'s mouth, \"I\\'m a peaceable man.\" Would have been very applicable in The Vioilent Men.<br /><br />The Fifties was the age of the adult western, themes were entering into horse operas that hadn\\'t been explored before. The following year Glenn Ford would do another western, Jubal, one of his best which also explores infidelity as a plot component.<br /><br />There\\'s enough traditional western stuff in The Violent Men and plenty for those who are addicted to soap operas as well.',\n",
              "       'Filmfour are going to have to do a lot better than this little snot of a film if they\\'re going to get the right sort of reputation for themselves.<br /><br />This film is set in Glasgow (although only a couple of secondary characters have anything approaching a Scottish accent). The premise, about people who\\'s lives are going nowhere, who all meet up in the same cafe in the early hours of the morning as they have night jobs, COULD have made for a really funny, insightful, quirky, cultish film. Instead we have a group of self-obsessed saddos and a plot which has been so done to bits I\\'m suprised it hasn\\'t been banned. X and Y are friends. X is sleeping with Z. Y sleeps with Z as well. Oh you figure it out.<br /><br />A total waste of time. Painful dialogue - it sounded like something that a group of 16 year olds would have written for a GCSE drama project. The female character was completely superfluous - just written in as a token female in the hope that women would be cajoled into seeing it.<br /><br />If you\\'re the sort of thicko lad who laughs at beer adverts and can usually be found wandering round in packs shouting on Saturday nights in nondescript town centres then you will love this film and find it \"a right laff\". Everyone else, run, don\\'t walk away from this sorry little misfit.<br /><br />And one question, when the group left the \"boring\" seaside town (Saltcoats incidentally although they changed the name on the film), to go back to Glasgow, WHY did they do it via the Forton motorway services at LANCASTER which is in England?',\n",
              "       'Probably my all-time favorite movie, a story of selflessness, sacrifice and dedication to a noble cause, but it\\'s not preachy or boring. It just never gets old, despite my having seen it some 15 or more times in the last 25 years. Paul Lukas\\' performance brings tears to my eyes, and Bette Davis, in one of her very few truly sympathetic roles, is a delight. The kids are, as grandma says, more like \"dressed-up midgets\" than children, but that only makes them more fun to watch. And the mother\\'s slow awakening to what\\'s happening in the world and under her own roof is believable and startling. If I had a dozen thumbs, they\\'d all be \"up\" for this movie.',\n",
              "       \"Yes, I call this a perfect movie. Not one boring second, a fantastic cast of mostly little known actresses and actors, a great array of characters who are all well defined and who all have understandable motives I could sympathize with, perfect lighting, crisp black and white photography, a fitting soundtrack, an intelligent and harmonious set design and a story that is engaging and works. It's one of those prime quality pictures on which all the pride of Hollywood should rest, the mark everyone should endeavor to reach.<br /><br />Barbara Stanwyck is simply stunning. There was nothing this actress couldn't do, and she always went easy on the melodramatic side. No hysterical outbursts with this lady - I always thought she was a better actress than screen goddesses like Bette Davis or Joan Crawford, and this movie confirmed my opinion. Always as tough as nails and at the same time conveying true sentiments. It is fair to add that she also got many good parts during her long career, and this one is by far the least interesting.<br /><br />The title fits this movie very well. It is about desires, human desires I think everyone can understand. Actually, no one seems to be scheming in this movie, all characters act on impulse, everybody wants to be happy without hurting anybody else. The sad fact that this more often than not leads to complications makes for the dramatic content into which I will not go here.<br /><br />I liked what this movie has to say about youth, about maturing and about the necessity to compromise. The movie I associate most with this one is Alfred Hitchcock's Shadow of a Doubt, it creates a similar atmosphere of idealized and at the same time caricatured Small Town America. The story has a certain similarity with Fritz Lang's considerably harsher movie Clash by Night, made one year earlier, where Stanywck stars in a similar part. I can also recommend it.\",\n",
              "       \"I'm the type of guy who loves hood movies from New Jack City to Baby Boy to Killa Season, from the b grade to the Hollywood. but this movie was something different. i am no hater and this movie was kinda enjoyable. but some bits were just weird. well the acting wasn't to good, compared to Silkk The Shockers performance in Hot Boyz (quite good) and Ice-T in new Jack and SVU (great). the scene where Corrupt (Ice-T) kills the wanna be Jamaican dude he says something and lights himself on fire burning both Ice-T and the other dude, this kills the Jamaican, however Ice-T is unharmed, very similar to Ice's other movie Urban Menace (which stars both of these actors) were Snoops character is supernatural, however after this there is nothing suggested that Corrupt is like a demon. When MJ (Silkk) gets stabbed at first he struggling but after that he fights normally and was stabbed in the thigh-WITH OUT BLOOD. and when MJ confesses killing a cop cos the cop was beating up his friend Benny was weird, Benny isn't introduced in this movie and the scene isn't in the film. it does hold weight to the fact why Corrupt wants to kill MJ but is still makes u scratch your head. wen Jody writes a letter to Miss Jones character explaining what happened to them afterwords doesn't mention what happen 2 other main characters MJ and Lisa. the film did show the horror and poverty of the ghetto-which plagues the lives of Latinos and Blacks word wide-was a good part of the film, even though the clip of the projects was re-used thousands of times. and the scene where Miles kills the Latino brother by crashing his bike at full speed (not wearing a helmet) and running into my Latino brothers car would of killed him. the movie was similar to the film Urban Menace and half the actors were in both of these movies as well as the production team. it was OK tho. but me being from poverty i love hood films, however if u don't love em like i do Don't WATCH IT. only thing saving me from walking out is it reminded me of the first movie i made which was made with 100 dollars, and my love of the genre.<br /><br />Nathaniel Purez\",\n",
              "       'Skippy from \"Family Ties\" plays Eddie, a wussy \\'metal\\' nerd who gets picked on. When his favorite wussy \\'metal\\' singer, Sammi Curr, dies, he throws a hissy fit tearing down all the posters on his bedroom wall. But when he later gets an unreleased record that holds the spirit of his dead \\'metal\\' idol. He first gets sucked into ideas of revenge, but then he doesn\\'t want to take it as far as Sammi does. Which isn\\'t really that far as his main victims only seem to go to the hospital. This movie is utterly laughable and has about as much to do with real metal as say, \"Rock Star\". OK, maybe a tad more than that piece of junk, but you get my point. And how ANYone can root for a guy played by Skippy from \"Family Ties\" I haven\\'t a clue. The cameo by Gene Simmons is OK, and Ozzy Osbourne reaches coherency, I applaud him for that, but otherwise skip this one.<br /><br />My Grade: D <br /><br />Eye Candy:Elise Richards gets topless, an a topless extra at a pool party',\n",
              "       \"I first saw this movie when I was about 10 years old. My mom bought it at our local Kmart because it was on sale for $5 on VHS. She thought that it would be a nice Christmas movie for me and my brothers to watch. This movie, however, scared the hell out of me. You may be asking yourself, how could a movie about Santa Clause scare anyone? The plot of the movie revolves around Satan sending one his minions, Pitch, to earth in an attempt to kill Santa and ruin Christmas. That's right, Satan sends a demon up from hell to kill Santa Clause. Pitch stalks Santa throughout Christmas eve in an attempt to trap him on earth when the sun rises on Christmas day, for if Santa doesn't make it back to his home in space, he turns to powder. Don't get me wrong, the movie is funny and fairly entertaining, however, the image of demons and devils dancing in the depths of hell (which occurs at the beginning of the movie) is just downright creepy.\",\n",
              "       'I\\'m sure deep in the recesses of Jack Blacks mind the character of Nacho Libre is absolutely hilarious but no it isn\\'t. You can tell ol Jacks having a whale of a time hammin it up playing a smarmy, slimy Mexican friar with dreams of becoming a wrestler but this movie is a total misfire in just about every single department.<br /><br />I just sat there through most of the movie thinking \"Is this supposed to be funny\" and \"This is the guy from Tenacious D right?\". The truth is this film has NOTHING to offer. AT ALL! It\\'s a lousy script with crappy characters and really naff acting and direction. You\\'ll watch endless moments where you think something funny is surely about to happen but it just doesn\\'t. I was bored stupid about 10 minutes in but though it would surely pick up. It didn\\'t. 90 minutes later I\\'d barely managed to stave off an aneurism it was that painful.<br /><br />It\\'s like, remember years ago when you\\'d see anything with your fave actor in it, even some of their really early pap from before they were famous, and you\\'d be really embarrassed that said actor was actually in such a load of plop. Yeah it\\'s like that.<br /><br />I\\'ve enjoyed some of Jack Black\\'s earlier movies like Shallow Hall and I\\'m really looking forward to seeing Pick of Destiny but come on man. If you do this to us again Jack I\\'m gonna have to come round there and hammer your kneecaps or something. At the least give you a serious talking to.<br /><br />I know it\\'s a cliché but this is one of the worst movies I\\'ve ever seen and for so many reasons....',\n",
              "       \"A trio of buddies, sergeants all in the British Army, carouse & brawl their way across Imperial India. Intensely loyal to each other, they meet their greatest & most deadly challenge when they encounter the resurgence of a hideous cult & its demented, implacable guru. Now they must rely on the lowliest servant of the regiment, the water carrier GUNGA DIN, to save scores of the Queen's soldiers from certain massacre.<br /><br />Based more on The Three Musketeers than Kipling's classic poem, this is a wonderful adventure epic - a worthy entry in Hollywood's Golden Year of 1939. Filled with suspense & humor, while keeping the romantic interludes to the barest minimum, it grips the interest of the viewer and holds it right up to the (sentimental) conclusion.<br /><br />It is practically fruitless to discuss the performance nuances of the three stars, Cary Grant, Victor McLaglen & Douglas Fairbanks Jr., as they are really all thirds of a single organism - inseparable and, to all intents & purposes, indistinguishable. However, this diminishes nothing of the great fun in simply watching them have a glorious time.<br /><br />(It's interesting to note, parenthetically, that McLaglen boasted of a distinguished World War One military career; Fairbanks would have a sterling record in World War Two - mostly in clandestine affairs & earning himself no fewer than 4 honorary knighthoods after the conflict; while Grant reportedly worked undercover for British Intelligence, keeping an eye on Hollywood Nazi sympathizers.)<br /><br />The real acting laurels here should go to Sam Jaffe, heartbreaking in the title role. He infuses the humble man with radiant dignity & enormous courage, making the last line of Kipling's poem ring true. He is unforgettable.<br /><br />Montague Love is properly stalwart as the regimental major, whilst Eduardo Ciannelli is Evil Incarnate as the Thuggee guru. The rest of the cast, Joan Fontaine, Robert Coote, Lumsden Hare, are effective but have little to do. Movie mavens will recognize Cecil Kellaway in the tiny role of Miss Fontaine's father.<br /><br />The film picks its villains well. The demonic Thuggee cult, worshipers of the hideous, blood-soaked Kali, Hindu goddess of destruction, was the bane of Indian life for 6 centuries, ritualistically strangling up to 30,000 victims a year. In 1840 the British military, in cooperation with a number of princely states, succeeded in ultimately suppressing the religion. Henceforth it would remain the stuff of novels & nightmares.\",\n",
              "       \"Gone is the wonderful campiness of the original. In place is a c-grade action no-brainer, wich is not all bad, but pales in comparison to the original. All the meaningless sex and violence is gone, and replaced with crappy jokes and unexplained plot pointers. See it, but don't expect the thrills of the first.\",\n",
              "       \"The three main characters are all hopeless, and yet you only feel sorry for one of them: Ernesto, hopelessly devoted to Mercedes. This was part of the frustration: screaming at Mercedes to get a clue and ditch the no-good Harry, to no avail.<br /><br />Then there's the satisfaction: Steve Buscemi has a great part as a transvestite, and Harvey Keitel's moving story of his indignity playing a gorilla for a cheap TV movie is incredible. When you least expect it, Quentin Tarintino is doing half a monologue, and Anthony Quinn turns Ernesto into a wealthy man.<br /><br />Time and again great moments appear in the story, but in the end it's hard to know what to feel about this movie. It doesn't have a happy ending, or even a complete one, but it somehow feels right.<br /><br />This movie is strange, but then so am I; no wonder I liked it.\",\n",
              "       \"At 2:37, a high school student commits suicide. Not shown who has taken their lives or reasons known, time skips back to the start of the day. From here we follow six separate students; Marcus, Melody, Luke, Steven, Sarah and Sean. Each student is struggling with their own moral dilemmas, all reaching boiling point, hitting to an end for one.<br /><br />After losing a friend to suicide, and surviving his own suicide attempt, writer/director Murali K. Thalluri has created a revetting drama focusing on teen life and the horrible act of suicide. Suicide has been a topic that has been kept in the shadows, 2:37 is Thalluri's attempt to bring it to light. If you have been touched by the act of suicide or anyone who has, 2:37 becomes all the harder to view.<br /><br />With heavy and hard subject matter, Thalluri also tackles everyday teenage life crisis's. Sex, pregnancy, sexual identity, bullying, friendship, Thalluri manages and shows them in an extremely realistic manner. The factor on Thalluri's talent is his subtlety. He respect his subject and the problems that everyone will have suffered through at sometime. It verges near documentary at times, it has such a painful realism; the interviews with each character spliced through the film only heightens this.<br /><br />2:37 has a distinctive similarity to Gus Van Sants film Elephant. While the core of each film is different, both tackle teen life. Like Sant, Thalluri utilizes long tracking shots, with time skipping back and forth, to show each characters interaction from different perspectives. A defining point to Elephant was its ethereal ambiance. With spare conversation, little development of characters, and the long tracking shots, Sant created a haunting and mesmerizing atmosphere to a coming dread. While there resides this dread in 2:37, the emotional connection to the characters reaches a higher level Sant couldn't reach. As time goes by, each characters fragility creeps out, dragging you along their emotional roller-coaster.<br /><br />The real hit in this film comes with the inevitable suicide, foretold at the very beginning. The hard part about this scene is the complete intrusion and discomfort we have as an audience watching someones life end in a gruesome fashion. Though many films that have shown suicide, gloss over the act or romanticizes the act. Thalluri shows the pain and agony involved with this act and that its not the best solution. With unknowns in the leads and their first major roles; Teresa Palmereach, Frank Sweet, Joel Mackenzie, Marni Spillane, Charles Baird and Sam Harris all show immense talent and promising acting careers.<br /><br />Compelling and revetting, 2:37 is an absolutely unmissable film.\",\n",
              "       \"The Royal Rumble has traditionally been one of my favourite events, and i've been a wrestling fan for a good few years now. The other shows may have better matches, but i've always found the actual rumble match to be full of excitement.<br /><br />I'm not going to reveal the winners of any match as i don't see it as fair to ruin the results on a review. I will comment on the quality of them though.<br /><br />We have the standard 4 matches, and then the big rumble event. Two from Smackdown and two from Raw.<br /><br />Shawn Michaels and Edge open up for Raw. This proves to be a good match from two talented guys. This is a match i'd recommend watching. It's hard to sum up without giving away the winner.<br /><br />Next we have the usual Undertaker against some big nasty monster, be whoever it is. Giant Gonzales, Yokozuna, Kamala... well this time it's Heidenreich. Its also a casket match. Typical Undertaker fare. Watch if you're a fan. I have to admit i am, purely for the entertainment factor. It can hardly be regarded as a classic wrestling match.<br /><br />The next two matches are the title matches. For once Smackdown manages to upstage Raw. Their title match is pretty thrilling and enjoyable, but with a anti-climax and let down to end it. Raw's match is a pretty dull and boring affair, which is a pity as i'm a fan of both guys involved.<br /><br />Now to the main reason i love the event, the rumble. It's a pretty good one this year. Coming up to the event we all had a pretty good idea of who might win, and it may not prove a big surprise, but hey, its very enjoyable. There are the usual diverse ways of people being eliminated. There is the token guy who doesn't make it to the ring, the entrant who is ridiculous and we all want to see vanquished, and someone gets eliminated by a previously eliminated combatant. It has its usual highs and lows, and i loved the ending, in particular the Vince McMahon entrance.<br /><br />I'd recommend this show. Not the WWE on top form, but its still good. Add it to your collection.\",\n",
              "       \"This film is dreadful. It has absolutely zero laughs. Hebrew Hammer (Adam Goldberg) sets out to save Hannukah from Evil Santa (Andy Dick). Perhaps a promising enough basis for a plot, in actual fact the film does not progress beyond this premise. While there are some (far and few) nice touches and the plot is relatively coherent, it is laboured, hackneyed and ultimately, mindlessly boring. This despite the fact that Goldberg, Dick and Greer (Hammer's client/love interest) all have quite considerable screen presence. Despite being played for what might be described as whacky over-the-top gags, this film is consistently middle-class middle-of-the-road muck. DO NOT waste 85 minutes of your life on this. (note- the music was good..!)\",\n",
              "       \"So it isn't an epic, but for people experiencing anything similar<br /><br />(sibling suicide) it might be an interesting way of therapy. An<br /><br />imaginative narrative and some fine acting makes it time well<br /><br />spent. For some reason, it hasn't really caught on in the audience,<br /><br />something I do believe is a result of the main theme. Why did she<br /><br />commit suicide? Clearly, this is hardly something that US<br /><br />moviegoers will flock to, had it been an European production it<br /><br />probably would have reached its audience in a much greater<br /><br />extent. It is however, a movie that although the realism tainted by a<br /><br />shimmering romanticized glow, gives the viewer a whole hearted<br /><br />impression.\",\n",
              "       \"I watched this film not really expecting much, I got it in a pack of 5 films, all of which were pretty terrible in their own way for under a fiver so what could I expect? and you know what I was right, they were all terrible, this movie has a few (and a few is stretching it) interesting points, the occasional camcorder view is a nice touch, the drummer is very like a drummer, i.e damned annoying and, well thats about it actually, the problem is that its just so boring, in what I can only assume was an attempt to build tension, a whole lot of nothing happens and when it does its utterly tedious (I had my thumb on the fast forward button, ready to press for most of the movie, but gave it a go) and seriously is the lead singer of the band that great looking, coz they don't half mention how beautiful he is a hell of a lot, I thought he looked a bit like a meercat, all this and I haven't even mentioned the killer, I'm not even gonna go into it, its just not worth explaining. Anyway as far as I'm concerned Star and London are just about the only reason to watch this and with the exception of London (who was actually quite funny) it wasn't because of their acting talent, I've certainly seen a lot worse, but I've also seen a lot better. Best avoid unless your bored of watching paint dry.\",\n",
              "       \"In a time of bad, if not plain awful, comedies, King of Queens is more than just a breath of fresh air, it's a complete oxygen tank! It is in my opinion one of the 5 best comedy shows of all times. Nothing has been this good since Married with Children. Kevin James and Jerry Stiller are comic geniuses! And believe me, it takes a lot to make me label someone as comic genius. These guys truly understand what is funny. I could watch ten episodes of Seinfeld and wouldn't get half the laughs from seeing KOQ just once. Other funny people in this show are Carrie, Janet Heffernan, Spence and Doug Pruzan (Carrie's boss). I'm so happy they managed to get so many seasons from this gem. The show has been a hilarious winner in a time of mostly comic losers. Check it out if you haven't!!\",\n",
              "       'Recap: Something mysteriously dense that transmits radio signals is discovered in the ice of Antarctica. The mysterious block is dug out and brought to a research station on Antarctica. Julian Rome, a former SETI-worker, is brought in to decipher the message. Problem is that one of the researchers is a old girlfriend of his, and the situation quickly turns awkward, especially since the other female researchers practically throw themselves at him. And the block of ice with the thing inside is melting unnaturally quickly. Soon the object is in the open. The mystery continues though as the object generates a huge amount of electricity. It is decided to open the object, but just before that is done, Julian decodes the signal. \"Do not open\". But too late, and the object explodes as it is finally breached, and two things unleashed on earth. The first is an alien, that had been dormant in the object, and the other is a virus that instantly kills the research staff. And Washington, that is suspiciously updated on this historic event, decides that those things can not be unleashed upon the earth. So a Russian nuclear submarine, carrying nuclear weapons is sent to Antarctica.<br /><br />Comments: The movie holds a few surprises. One is Carl Lewis who surprisingly puts in a good acting performance, and the other is that the special effects that are beautiful, well worked through and a lot better than expected. Unfortunately the story holds a lot of surprises of its own, and this time not in a good way. Actually it is so full of plot holes that sometimes the movies seem to consist of almost randomly connected scenes. It is never really explained why Washington know so much, why Washington is able to command Russian submarines, why the object is in the Antarctic and has woken up now. It is really puzzling that the alien pod is transmitting in understandable English. Some might want to explain this with that the alien had been to Earth before and knew the language (and obviously chose English, why?). But then it is very confusing why the nice aliens that apparently want to save the Earth from the virus, send their \"Do not open\" message encoded! And finally the end is as open as an end can be.<br /><br />The movie is a little entertaining but too much energy (from me) must be diverted to fill in the voids in the plot. Therefore the total impression of the movie is not too good.<br /><br />3/10',\n",
              "       'Demon Wind is about as much fun as breaking your legs. It is definitely an awful example of a film. So awful in fact that I don\\'t even consider it a movie. I describe it more as a thing ... a monstrous thing. A thing that must be stopped at all costs. My friends and I first discovered this ... thing buried under a big box of video tapes at my friend\\'s house. It was a late night and we had nothing better to do so we decided to watch some cheesy horror movies (we unfortunately picked this one.) Well, during the 90 minutes that this thing played we ended up laughing so hard that we almost threw up. The thing is literally pointless in every sense of the word. It\\'s just a cheap, poorly done rip-off of Evil Dead. The whole \"story\" seems to be nothing more than some guy wanting to knock off his friends by inviting them to an abandoned house and letting demons rip them to pieces. I have a bet that the writers were actually writing the story while it was being filmed. I\\'ve seen bad horror movies before (Manos, Troll 2, HOBGOBLINS!!!) (shudder) I would have to say that Demon Wind could definitely contend with any and all of these films on terms of sheer stupidity. Watch it only if you enjoy laughing at stupid films.<br /><br />Fun fact: This film is like a cockroach on steroids! Much like the ouija board, every time we try to get rid of it, it always seems to mysteriously reappear. Kind of scary huh?',\n",
              "       \"Dirty War is absolutely one of the best political, government, and well written T.V. Drama's in the 25 years.<br /><br />The acting is superb, the writing is spectacular.<br /><br />Diry War reveals the true side of why we are not ready to respond to a Nuclear, Biological, and Radiological Terrorist Attack here on American soil.<br /><br />Dirty War should be made into a major motion picture - It's that good! I highly recommend this great drama to everyone who desire to know the truth.<br /><br />This T.V. drama reveals how British Intelligence (MI5 & MI6) attempt to expose a terrorist plot and conspiracy to destroy innocent victims -because of England's involvement in the Iraq War.<br /><br />The scenes of different parts of London, England are also spectacular.<br /><br />Dirty War is a must see!!!\",\n",
              "       'If you only see one Ernest movie in your life, make it this one! This is by far the best in the series, with its nonstop laughs and clever humor that is suitable for all ages. The other \"Ernest\" flicks were good too, but most people tend to get tired of him quickly (not ME, however.).<br /><br />In this movie, Ernest P. Whorrel is assigned jury duty for a murder case. The murderer, Nash, just happens to look EXACTLY like our bumbling hero Ernest. Mr. Nash finds this a good opportunity to escape from jail by knocking him out switching identities with him, and so we get to see how Ernest reacts in the slammer.<br /><br />A great flick! If you haven\\'t already seen it, watch it!',\n",
              "       \"Steven Seagal's films of late have not exactly been good, but this is by far the worst since The Patriot. The plot makes no sense what so ever; it is never clear in what the relationships between the characters are, who works for who or who is double crossing who. The film is completely disjointed, each scene seems to confuse the story further rather than carry it forward. Even the action sequences are uninspired and hard to follow. Most of the blame must lie at the director's feet for not even understanding the basics of film making, but Seagal does not get off lightly, as one of the producers of this film, he must also share the blame. Oh, and I haven't even mentioned how awful the acting is, even by Seagal standards. Even as straight to video fodder, this is not worth a view even for Seagal fans. Give it a wide berth!\",\n",
              "       'This movie must be in line for the most boring movie in years. Not even woody Harrison can save this movie from sinking to the bottom.<br /><br />The murder in this movie are supposed to be the point of interest in this movie but is not, nothing is of any interest. The cast are not to bad but the script are just plain awful , I just sat in utter amazement during this movie, thinking how on earth can anyone find this movie entertaining <br /><br />The producers of this movie were very clever. They made a boring movie but hid it well with the names of good actors and actresses on their cast. People will go to the blockbuster and probably see this movie and think, Woody Harrison ,Kristin Scott Thomas and Willem Dafoe this must be good and rent this movie.(boy are they in for a horrible time)<br /><br />If you like getting ripped off go and rent this movie, some people actually did enjoyed this movie but I like to watch a movie with meaning',\n",
              "       \"I loved this show from it's first airing, and I always looked forward to watching each episode every week. The plot, characters, writing, special affects were outstanding! Then the sci-fi channel screwed up yet again and canceled a very entertaining, well written show. I say bring it back, I know all of the actors would come back. I would suggest buying the DVD's, I am. I hope the sci-fi channels executives get word of these comments, and realize that they need to be more involved with their viewers. I only watch one show on that channel now, (Ghost Hunters), but I am fairly sure that shortly they will cancel that too.\",\n",
              "       \"This movie was one of the best movies that I have seen this year. I didn't see any cameos in the movie, but it is still pretty good. It is similar to Anchorman in the humor department, but I think this is a better put together movie. It actually has a point. If you are going to see a whole bunch of T&A you will be disappointed. Just a well put together movie!!!! If you have nothing to do for the day or you need a lot of humor, you will find this to be a really good movie. I definitely think that Ebert and Roeper's review of this movie is right on. I mean, I don't really like Ebert on most movies, but this is the movie that I will agree about. The movie contains a good enough story that it is actually believable that these type of people are out there. There is definitely something to be said about how they treat virginity in this movie. Yea, sure, you get laughed at when it is found out about, but it still suggests that you wait. Steve did a wonderful job of portraying the person that he did in this movie and yet, it is still funny.\",\n",
              "       'This is the Who at their most powerful. Although before the masterwork Who\\'s Next, which would provide anthems like Baba O\\'reily and Wont Get Fooled Again. This film shows the group in transition from mod rockers to one of the biggest live bands of the 70\\'s.<br /><br />Daltrey shows what being a front-man is all about, Entwistle steady as ever. <br /><br />Moon is great, check out the ongoing conversation with the drum tech, and see him playing \"side saddle\" whilst having a bass drum head replaced!<br /><br />Townsend even looks like he\\'s enjoying himself occasionally!<br /><br />Considering they took to the stage at 2am no one in the crowd was asleep! <br /><br />There are not many bands these days could produce a set as tight as this and it is difficult to imagine any of the bands of today producing a concert that in 36 years time will be be enjoyed as much as this one.',\n",
              "       'Insignificant and low-brained (haha!) 80\\'s horror like there are thirteen in a dozen, yet it can be considered amusing if you watch it in the right state of mind. The special effects are tacky, the acting atrocious and the screenplay seems to miss a couple of essential paragraphs! \"The Brain\" takes place in a typical quiet-American town setting, where every adolescent works in the same diner and where the cool-kid in high school flushes cherry bombs down the toilet. It is here that a TV-guru named Dr. Blake and his adorable pet-brain begin their quest for nation-wide mind controlling. Under the label of \"independent thinkers\", a giant cheesy brain sends out waves through television sets and forces innocent viewers to kill! How cool is that? Now, it\\'s up to the Meadowvale teen-rebel to save the world! The funniest thing about the plot is that it never explains where Dr. Blake and his monstrous brain actually come from. There are obvious references towards extraterrestrial life but that\\'s about it. Meh, who needs a background in a movie like this, really? There\\'s not that much bloodshed unfortunately and the \"evil\" brain looks like an over-sized sock-puppet. The only more or less interesting element for horror buffs is taking a look at the cast and crew who made this movie. Director Ed Hunt and writer Barry Pearson are the same men who made \"Bloody Birthday\" (guilty pleasure of mine) and \"Plague\". Both those are much better movies and they wisely decided to resign the film industry. The most familiar face in the cast unquestionably is the great David Gale, whom horror fans will worship forever for his role in Re-Animator. A girl named Christine Kossak provides the nudity-factor and she\\'s obviously a great talent\\x85 She has exactly 3 movies on her repertoire of which THIS is her \"masterpiece\". In her debut, she was credited as \\'runaway model\\' and in \"3 men and a baby\", her character is referred to as \\'one of Jack\\'s girls\\'. I really wonder how she feels about her career as an actress\\x85',\n",
              "       'I am not a Faulkner fan (which is considered sacrilegious, especially since I grew up near the author\\'s hometown); however, I think this is an excellent movie. On par with the quality of the movie \"To Kill a Mocking Bird\". If you haven\\'t seen it, buy it anyway. It\\'s well worth having in your permanent collection. TCM recently played the movie as a part of the Race on Film series. I wish they\\'d play it more often. Very moving.<br /><br />On a side note, the folks from Oxford, Mississippi, will also enjoy seeing the footage of the town square as it was back in the 1940\\'s. The Courthouse, City Hall, etc.: They\\'re all on screen. I never knew the movie was filmed there until I noticed the familiarity of the buildings. When I saw the arch in the front of City Hall, I began to get suspicious. Look closely at the pennants on Chick\\'s wall: You\\'ll see two for Ole Miss !',\n",
              "       \"I watched mask in the 80's and it's currently showing on Fox Kids in the UK (very late at night). I remember thinking that it was kinda cool back in the day and had a couple of the toys too but watching it now bores me to tears. I never realised before of how tedious and bland this cartoon show really was. It's just plain awful! It is no where near in the same league as The Transformers, He-man or Thundercats and was very quickly forgot by nearly everyone once it stopped being made. I only watch it on Fox Kids because Ulysses 31 comes on straight after it (that's if mask doesn't put me to sleep first). One of the lesser 80's cartoons that i hope to completely forget about again once it finishes airing on Fox Kids!\",\n",
              "       'Send them to the freezer. This is the solution two butchers find after they discover the popularity of selling human flesh. An incredible story with humor and possible allegories that make it much more than a horror film. The complex characters defy superficial classification and make the story intriguing and worthwhile - if you can stand it. Definitely a dark film but also a bit redemptive.',\n",
              "       \"Johnny and June Carter Cash financed this film which is a traditional rendering of the Gospel stories. The music is great, you get a real feel of what the world of Jesus looked like (I've been there too), and June gets into the part of Mary Magdalene with a passion. Cash's narration is good too.<br /><br />But....<br /><br />1. The actor who played Jesus was miscast. 2. There is no edge to the story like Cash puts in some of his faith based music. 3. Because it is uncompelling, I doubt we'll see this ever widely distributed again.<br /><br />I'd love to buy the CD.<br /><br />Tom Paine Texas, USA\",\n",
              "       'Whatever rating I give BOOM is only because of the superb location photography of Sardinia and Rome. Otherwise, this is only for hardcore addicts of ELIZABETH TAYLOR (her downward phase), and RICHARD BURTON (his miscasting phase). Tennessee Williams wrote \"The Milk Train Doesn\\'t Stop Here Anymore\" and is supposed to be very fond of this adaptation of his play--but apparently, he was the only one. Taylor reportedly hated it and Burton needed the money.<br /><br />Whatever, it amounts to a hill of beans with Taylor posturing and fuming in her shrill manner, exploding at the servants and exchanging bad baby-talk with no less than NOEL COWARD who seems to be a visitor from another film when he finally appears.<br /><br />It\\'s so campy that among Taylor fans it\\'s probably considered a \"must see\" kind of thing. But if you can sit through this one without a drink in your hand, you\\'re way ahead of me. Sadly, this is the film that signified the end of Taylor being taken seriously as a film actress, even after winning two Oscars. For Burton, it was equally disastrous and the critics called it a BOMB. Judge for yourself if you dare.',\n",
              "       \"Pathetic attempt to use science to justify new age religion/philosophy. The two have nothing to do with each other and much of what is said about Quantum Physics in this mess is just plain wrong.<br /><br />Examples? Quantum theory supports the ideas in eastern religions that reality is an illusion. How? Well, in the world of the subatomic, you can never definitely predict a particles location at a specific time. You can only give the odds of it being precisely at one spot at one time. Also, the act of observation seems to affect the event. Solid particles can pass through barriers. All of this, so far, is accurate. But then they assert that that means that if you believed sincerely enough that you could walk through a wall, you could indeed do it. This is complete poppycock. Instead, the theory asserts that at our level, it is possible for you to walk through a wall, but it is merely by chance and has nothing to do with belief. Also you'd have to keep walking into the wall for eternity to ever have even the remotest chance of passing through the wall, the odds are so astronomically against it.<br /><br />This is but one example of how they misrepresent the science. But much more annoying is the narrative involving an unhappy photographer, played by Marlee Maitlan. About halfway through the picture it becomes so confused as to be incomprehensible. Something to do with negative thoughts leading to addiction and self-hate. There may be some truth to that, but Quantum physics has nothing to do with it.<br /><br />Plus, string theory is the hot new thing in physics nowadays. Instead of wasting your time with this dreck, I suggest you rent The Elegant Universe, an amazing series done for NOVA on PBS that gives you a history of physics from Newton and gravity to Ed Witten and M Theory in only 3 hour-long episodes. Quantum mechanics is explained there quite well if you want to know it without the fog of metaphysical appropriation.\",\n",
              "       'This movie illustrates like no other the state of the Australian film industry and everything that\\'s holding it back.<br /><br />Awesome talent, outstanding performances (particularly by Victoria Hill), but a let down in practically every other way.<br /><br />An \"adaptation\" of sorts, it brought nothing new to Macbeth (no, setting it in present-day Australia is not enough), and essentially, completely failed to justify its existence, apart from (let\\'s face it, completely unnecessarily) paying homage to the original work. If there\\'s one body of work that has been done (and done and done and done), it\\'s Shakespeare\\'s. So any adaptation, if it\\'s not to be a self-indulgent and pointless exercise, needs to at least bring some new interpretation to the work.<br /><br />And that\\'s what this Macbeth fails to do. As it was done, this film has no contemporary relevance whatsoever. It\\'s the same piece that we have seen countless (too many!) times before. Except with guns and in different outfits.<br /><br />Apart from the fundamental blunder (no other way to put it) of keeping the original Shakespearian dialogue, one of the more cringeful moments of the movie is the prolonged and incredibly boring slow motion shoot out towards the end, during which I completely tuned out, even though I was looking at the screen. I never thought I had a short attention span, but there you go.<br /><br />I suppose the movie succeeds on its own, very limited terms. But as Australia continues to produce world-class acting talent, its movie-makers need to stop being proud of succeeding on limited terms, and actually set high enough standards to show that they respect for the kind of acting talent they work with.<br /><br />A shame. An absolute shame.',\n",
              "       \"No one can say I wasn't warned as I have read the reviews (both user & external), but like most of us attracted to horror movies... curiosity got this cat. (Come on, we all scream at the people in the movie not to go into the dark room, but you know that's horror aficionados are always dying to know what's in there even if we know it'll be bad).<br /><br />The bottom line is that this movie left me angry. Not because it pretends to be real (who cares...gimmicks are allowed), or because the actors and dialogue are so lame (is this an unusual event in horror movies?) or even because the movie is so bad (and I am being polite here). What really got me mad is that the film is not only a rip off of BWP, but also a half-hearted lazy rip off at that.<br /><br />I don't believe in sacred cows and if they thought they could outdo BWP then kudos to them, but they didn't even try. The movie was made with little effort or care and that is the most unforgivable sin in horror (or any) movie!\",\n",
              "       \"Some people drift through life, moving from one thing or one person to the next without batting an eye; others latch on to a cause, another person or a principle and remain adamant, committed to whatever it is-- and figuratively or literally they give their word and stand by it. But we're all different, `Made of different clay,' as one of the characters in this film puts it, which is what makes life so interesting. Some people are just plain crazy, though-- and maybe that's the way you have to be to live among the masses. Who knows? Who knows what it takes to make things-- life-- work? Writer/director Lisa Krueger takes a shot at it, using a light approach to examine that thin line between being committed-- and how one `gets' committed-- and obsession, in `Committed,' starring Heather Graham as a young woman who is adamant, committed, obsessive and maybe just a little bit crazy, too. Her name is Joline, and this is her story.<br /><br />\\tAdmittedly, Joline has always been a committed person; in work, relationships, in life in general. She's a woman of her word who sticks by it no matter what. And when she marries Carl (Luke Wilson), it's forever. The only problem is, someone forgot to tell Carl-- and 597 days into the marriage, he's gone; off to `find' himself and figure it all out. When Joline realizes he's not coming back, she refuses to give up on him, or their marriage. Maybe it's because of that `clay' she's made of. Regardless, she leaves their home in New York City and sets off to find him, which she does-- in El Paso, Texas, of all places. But once she knows where he is, she keeps her distance, giving him his `space' and not even letting him know she's there. She considers Carl as being in a `spiritual coma,' and it's her job to keep a `spiritual vigil' over him until he comes to his senses. And while she watches and waits, her life is anything but dull, as she encounters a young woman named Carmen (Patricia Velazquez), a waitress at one of the local eateries; Carmen's `Grampy,' (Alfonso Arau), who is something of a mystic; T-Bo (Mark Ruffalo), a truck driver who has issues concerning Carl; and Neil (Goran Visnjic) an artist who makes pinatas and takes a fancy to her. For Joline, it's a journey of discovery, during which she learns a lot about Carl, but even more about herself.<br /><br />\\tThere's a touch of humor, a touch of romance, and some insights into human nature in this quirky film that is more about characterization and character than plot. And Krueger presents it all extremely well, delivering a film that is engaging and entertaining. Her characters are very real people, with all the wants, needs and imperfections that make up the human condition; a rich and eclectic bunch through which she tells her story. We see it from Joline's point-of-view, as Krueger makes us privy to Joline's thoughts and therefore her motivations, which puts a decided perspective on the events as they unfold. That, along with the deliberate pace she sets that allows you to soak up the atmosphere and the ambiance she creates, makes for a very effective piece of storytelling. There's an underlying seriousness to this subject matter, but Krueger chooses to avoid anything heavy-handed or too deep and concentrates instead on the natural humor that evolves from the people and situations that Joline encounters. And the result is a well textured, affecting and upbeat look at that thing we call life.<br /><br />\\tHeather Graham takes hold of this role from the first frame of the film to make Joline a character totally of her own creation. She immerses herself in the part and gives a performance that is convincing and believable, adding the little personal traits and nuance that makes all the difference between a portrayal that is a mere representation of a person, and one that is real. And for this film to work, it was imperative that Joline be viable and believable-- and Graham succeeds on all fronts. Her screen presence has never been more alluring, and her vibrant personality or even just the way she uses her eyes, is enough to draw you in entirely. it's all a part of the character she creates; there's an appeal to Joline that exudes from her entire countenance, who she is inside and out. She's a likable, agreeable person, and because you've shared her innermost thoughts, you know who she is. It's a good job all the way around, beginning with the way the character was written, to the way Graham brings her so vibrantly to life.<br /><br />\\tAs Carmen, Patricia Velazquez is totally engaging, as well. Her performance is very natural and straightforward, and she uses her instincts to effectively create her character. She has a charismatic presence, but is less than flamboyant, and it gives her an aspect that is attractively down-to-earth. She is refreshingly open and up-front; you get the impression that Carmen is not one to hold anything back, but is totally honest on all fronts, and that, too, is part of her appeal. And, as with Joline, this character is well written, and Velazquez brings her convincingly to life.<br /><br />\\tOverall, there is a number of notable performances that are the heart and soul of this film, including those of Luke Wilson, Casey Affleck (as Joline's brother, Jay), Goran Visnjic, Alfonso Arau and especially Mark Ruffalo as T-Bo, who, with very little actual screen time, manages to create a memorable character.<br /><br />\\tThe supporting cast includes Kim Dickens (Jenny), Clea Du Vall (Mimi), Summer Phoenix (Meg), Art Alexakis (New York Car Thief), Dylan Baker (Carl's Editor), and Mary Kay Place (Psychiatrist). A film that says something about the value of stepping back to consider The Big Picture-- reflecting upon who we are, where we're going and what we really need-- `Committed' is an enjoyable experience; a ride definitely worth taking. 8/10.\",\n",
              "       \"I know little or nothing about astronomy, but nevertheless; I was, at first, a little sceptical about the plot of this movie. It follows three children that were all born during a solar eclipse and so have no emotion, and thus (naturally) become ruthless serial killers. The plot does sound ridiculous at first, but once you realise that a solar eclipse blocks out Saturn and, as you know, Saturn is the emotion planet, it all falls into place; makes complete sense and it's then that you know you aren't simply watching another silly 80's slasher with a pea brain plot. Thank god for that! Seriously, though, Bloody Birthday is based on a ridiculous premise, but it more than makes up for that with it's originality. Having a bunch of kids going round slaughtering people may not be the most ingenious masterstroke ever seen in cinema, but when given the choice between this and another dull Friday the 13th clone - I know what I'd choose.<br /><br />Also helping the film out of the hole that some people would think it's silly plot dug it into is the fact that it's extremely entertaining. Many slashers become formulaic far too quickly and the audience ends up watching simply to see some gore. This film, however, keeps itself going with some great creepy performances from the kids (which harks back to creepy kid classics such as Village of the Damned), a constant stream of sick humour and a small, but impressive for the type of film, dose of suspense and tension. One thing that I liked a lot about this movie was the vast array of weaponry. There's nothing worse than a slasher where the killer uses the same weapon over and over again (cough Halloween cough), but that's not the case here as Bloody Birthday finds room for everything from skipping ropes to bow and arrows. There wasn't any room for a chainsaw, which is a huge shame, but I suppose not every film can have a chainsaw in it.\",\n",
              "       'Michael Callan plays a smarmy photographer who seems, nonetheless, to be regarded as a perfect \"catch\" by any woman that runs across him; could this have anything to do with the fact that he also co-produced the film? He\\'s a \"hero\" whom it\\'s very difficult to empathize with, so the movie is in trouble right from the start. However, it\\'s troubles don\\'t end there. It has the production values of a TV-movie (check out that head made of clay or something, near the end), and the ending cheats in a way that I can\\'t reveal, in case anyone wants to see the movie (highly unlikely). Let\\'s just say that the killer knows more than we were let to know he knows. (*1/2)',\n",
              "       'The one of the most remarkable sci-fi movies of the millennium. Not only a movie but an incredible future vision, this movie establishes a new standard of s/f movies. hail and kill!',\n",
              "       \"A guy desperate for action attempts to hit on a gorgeous girl in a bus. She refuses him, but when he runs after someone who tries to steal her purse they get together anyway. And there it starts - a relation that is slightly tainted by the fact that she is a jealous and neurotic superhero. It can't be a secret that things between them are going to be problematic.<br /><br />In short, a story that could promise to grow out into a cool film. And IMO, it succeeds at being a nice film. It's no masterpiece, but it had me in tears from laughing on more than one occasion - the two lead characters twirl around each other in a crazy love fest that is, even with the superhero thing going, believable.<br /><br />So. Thin story, but worked out really funny and thus worthy of cinema time.<br /><br />7 out of 10 broken hearts\",\n",
              "       'Black comedy isn\\'t always an easy sell. Every now and then you get a black comedy that is hugely successful, like Fargo, for example. But usually they don\\'t often find big audiences. People seem to either set their minds for comedy, or for serious mayhem. There doesn\\'t seem to be a big market for a good mixture of both. Throw Momma From the Train was a fairly decent hit, yet few people seem to remember much about it in this day and age. Danny DeVito just about hit this one all the way out of the park back in 1987.<br /><br />DeVito plays an odd mamma\\'s boy named Owen looking to rid himself of his outrageously overbearing and unpleasant mother whom he still lives with. The mother is played by Anne Ramsey, who passed away shortly after this was released, and she is quite a caricature. She is loud, ugly, rude, and overbearing. Though Owen hardly seems like he could take care of himself, he wants desperately to have his mother offed. He fantasizes about it in some truly weird scenes, but he clearly doesn\\'t have the guts to actually do it himself. That\\'s where Billy Crystal comes in. Crystal plays Larry Donner, Owen\\'s creative writing teacher at a nearby community college. Larry is a paranoid would-be intellectual novelist who claims his ex-wife stole his novel and made millions off it. He is currently trying to write a new one, but cannot even come up with a decent first sentence. \"The night was....\" Owen hears Larry wish his ex-wife were dead during an outburst at the school cafeteria. And borrowing the idea from Strangers on a Train, Owen decides to travel to Hawai\\'i and murder Larry\\'s ex-wife. Once it appears he has done so, he expects Larry to return the favor and kill his mother. The resulting action is often quite funny, and even poignant. It\\'s certainly never dull and often full of surprises.<br /><br />The acting is exceptional, even if Ramsey was a bit over the top. Crystal is as good as he can be, and DeVito has always been undervalued as a performer. The film relies on quite a bit of physical comedy which usually works, often painfully so. The film makes use of some truly innovative editing techniques in some scenes, and the off-beat tone is truly refreshing. I have often been critical of the late 1980s as being a time of artistic malaise and down right lazy film-making. Throw Momma From the Train takes chances. Both in how its characters are drawn as well as its general plot. How many comedies revolve around a son having his mother murdered? The film isn\\'t too long, and it is chock full of laughs. Writers are apt to find it more interesting than the general public, but it can still be enjoyed by just about anyone. 9 of 10 stars.<br /><br />The Hound.',\n",
              "       \"Okay, so this series kind of takes the route of 'here we go again!' Week in, week out David Morse's character helps out his ride who is in a bit of a pickle - but what's wrong with that!? David Morse is one of the greatest character actors out there, and certainly the coolest, and to have him in a series created by David Koepp - a great writer - is heaven!!<br /><br />Due to the lack of love for this show by many, I can't see it going to a season series - but you never know? The amount of rubbish that has made it beyond that baffles me - let's hope something good can make it past a first series!!!\",\n",
              "       'Nice character development in a pretty cool milieu. Being a male, I\\'m probably not qualified to totally understand it, but they do a nice job of establishing the restrictive Victorian environment from the start. It isn\\'t as bleak as it really was and the treatment of women was probably even harsher. What makes this go is a wonderful chemistry among the principal characters. Each has their own \"thing\" that they contend with. Once they come out of the rain and break out of the spider webs, they begin to interact and slowly lose their sense of suspicion. What I enjoyed about this movie is that it didn\\'t go for cheap comedy when it could have. It didn\\'t try to pound a lesson into us. The people who seem utterly without merit are really nicely developed human beings who get to see the light. I did have a little trouble with the Alfred Molina character having such an epiphany so quickly, but, within this world, it needed to happen. Good acting all around with something positive taking place in the lives of some pretty good people.'],\n",
              "      dtype=object)"
            ]
          },
          "metadata": {
            "tags": []
          },
          "execution_count": 84
        }
      ]
    },
    {
      "cell_type": "code",
      "metadata": {
        "id": "l3nNT439tI9c",
        "outputId": "1998630a-1867-4250-85a3-83d02d8d55ad",
        "colab": {
          "base_uri": "https://localhost:8080/"
        }
      },
      "source": [
        "# Run `preprocessing_for_bert` on the test set\n",
        "print('Tokenizing data...')\n",
        "test_inputs, test_masks = preprocessing_for_bert(X_test)\n",
        "\n",
        "# Create the DataLoader for our test set\n",
        "test_dataset = TensorDataset(test_inputs, test_masks)\n",
        "test_sampler = SequentialSampler(test_dataset)\n",
        "test_dataloader = DataLoader(test_dataset, sampler=test_sampler, batch_size=32)"
      ],
      "execution_count": 85,
      "outputs": [
        {
          "output_type": "stream",
          "text": [
            "Tokenizing data...\n"
          ],
          "name": "stdout"
        },
        {
          "output_type": "stream",
          "text": [
            "/usr/local/lib/python3.6/dist-packages/transformers/tokenization_utils_base.py:1944: FutureWarning: The `pad_to_max_length` argument is deprecated and will be removed in a future version, use `padding=True` or `padding='longest'` to pad to the longest sequence in the batch, or use `padding='max_length'` to pad to a max length. In this case, you can give a specific length with `max_length` (e.g. `max_length=45`) or leave max_length to None to pad to the maximal input size of the model (e.g. 512 for Bert).\n",
            "  FutureWarning,\n"
          ],
          "name": "stderr"
        }
      ]
    },
    {
      "cell_type": "code",
      "metadata": {
        "id": "Y4cfzKC6tJAr",
        "outputId": "edf0b2b4-695f-4d15-a940-f56e12bdbe62",
        "colab": {
          "base_uri": "https://localhost:8080/"
        }
      },
      "source": [
        "# Compute predicted probabilities on the test set\n",
        "probs = bert_predict(bert_classifier, test_dataloader)\n",
        "\n",
        "# Get predictions from the probabilities\n",
        "threshold = 0.5\n",
        "preds = np.where(probs[:, 1] > threshold, 1, 0)\n",
        "\n",
        "# Number of tweets predicted non-negative\n",
        "print(\"Number of tweets predicted non-negative: \", preds.sum())"
      ],
      "execution_count": 87,
      "outputs": [
        {
          "output_type": "stream",
          "text": [
            "Number of tweets predicted non-negative:  91\n"
          ],
          "name": "stdout"
        }
      ]
    },
    {
      "cell_type": "code",
      "metadata": {
        "id": "g3btgU83tJGj"
      },
      "source": [
        ""
      ],
      "execution_count": null,
      "outputs": []
    },
    {
      "cell_type": "code",
      "metadata": {
        "id": "0SwQLdCqtJJm"
      },
      "source": [
        ""
      ],
      "execution_count": null,
      "outputs": []
    },
    {
      "cell_type": "code",
      "metadata": {
        "id": "rWMNiqcetJMj"
      },
      "source": [
        ""
      ],
      "execution_count": null,
      "outputs": []
    },
    {
      "cell_type": "code",
      "metadata": {
        "id": "liGj1VdmtJPn"
      },
      "source": [
        ""
      ],
      "execution_count": null,
      "outputs": []
    },
    {
      "cell_type": "code",
      "metadata": {
        "id": "C4Mj3ypvs-BL"
      },
      "source": [
        ""
      ],
      "execution_count": null,
      "outputs": []
    }
  ]
}