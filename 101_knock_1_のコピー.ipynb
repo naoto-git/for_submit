{
  "nbformat": 4,
  "nbformat_minor": 0,
  "metadata": {
    "colab": {
      "name": "101_knock_1 のコピー",
      "provenance": [],
      "authorship_tag": "ABX9TyNyLRW+X6PzBy7h8Ypd4UY9",
      "include_colab_link": true
    },
    "kernelspec": {
      "name": "python3",
      "display_name": "Python 3"
    },
    "accelerator": "GPU"
  },
  "cells": [
    {
      "cell_type": "markdown",
      "metadata": {
        "id": "view-in-github",
        "colab_type": "text"
      },
      "source": [
        "<a href=\"https://colab.research.google.com/github/naoto-git/for_submit/blob/main/101_knock_1_%E3%81%AE%E3%82%B3%E3%83%94%E3%83%BC.ipynb\" target=\"_parent\"><img src=\"https://colab.research.google.com/assets/colab-badge.svg\" alt=\"Open In Colab\"/></a>"
      ]
    },
    {
      "cell_type": "code",
      "metadata": {
        "id": "ECKSqQxl1d6v",
        "outputId": "fe886b13-1ce4-48da-ac26-e5124b272b2d",
        "colab": {
          "base_uri": "https://localhost:8080/",
          "height": 496
        }
      },
      "source": [
        "from tensorflow.python.client import device_lib \n",
        "device_lib.list_local_devices()"
      ],
      "execution_count": null,
      "outputs": [
        {
          "output_type": "execute_result",
          "data": {
            "text/plain": [
              "[name: \"/device:CPU:0\"\n",
              " device_type: \"CPU\"\n",
              " memory_limit: 268435456\n",
              " locality {\n",
              " }\n",
              " incarnation: 12013720924742237972, name: \"/device:XLA_CPU:0\"\n",
              " device_type: \"XLA_CPU\"\n",
              " memory_limit: 17179869184\n",
              " locality {\n",
              " }\n",
              " incarnation: 10606342497327002716\n",
              " physical_device_desc: \"device: XLA_CPU device\", name: \"/device:XLA_GPU:0\"\n",
              " device_type: \"XLA_GPU\"\n",
              " memory_limit: 17179869184\n",
              " locality {\n",
              " }\n",
              " incarnation: 1817079005060953509\n",
              " physical_device_desc: \"device: XLA_GPU device\", name: \"/device:GPU:0\"\n",
              " device_type: \"GPU\"\n",
              " memory_limit: 15695549568\n",
              " locality {\n",
              "   bus_id: 1\n",
              "   links {\n",
              "   }\n",
              " }\n",
              " incarnation: 2669089922699297973\n",
              " physical_device_desc: \"device: 0, name: Tesla P100-PCIE-16GB, pci bus id: 0000:00:04.0, compute capability: 6.0\"]"
            ]
          },
          "metadata": {
            "tags": []
          },
          "execution_count": 2
        }
      ]
    },
    {
      "cell_type": "code",
      "metadata": {
        "id": "zYdNgNYbWR7n"
      },
      "source": [
        ""
      ],
      "execution_count": null,
      "outputs": []
    },
    {
      "cell_type": "markdown",
      "metadata": {
        "id": "BC0W-lDK6_JI"
      },
      "source": [
        "1\n"
      ]
    },
    {
      "cell_type": "code",
      "metadata": {
        "id": "c11c6zhI3AJJ",
        "outputId": "a86c6b7b-ce6d-4260-95d5-955f4a91c213",
        "colab": {
          "base_uri": "https://localhost:8080/",
          "height": 34
        }
      },
      "source": [
        "# 2020/6/20 の神草ツイート５つ\n",
        "\n",
        "tw_strings = [\"\"\"\n",
        "今日から、100 #numpy  exercisesを始めます！\n",
        "3. Create a null vector of size 10\n",
        "\n",
        "a = np.zeros(10)\n",
        "print(a)\n",
        "\n",
        "#python\n",
        "#プログラミング初心者\n",
        "#Progate\n",
        "#駆け出しエンジニアと繋がりたい\"\"\",\n",
        "\"\"\"\n",
        "今日から、100 #numpy  exercisesを始めます！\n",
        "\n",
        "2. Print the numpy version and the configuration\n",
        "\n",
        "print(np.__version__)\n",
        "print(np.show_config())\n",
        "\n",
        "#python\n",
        "#プログラミング初心者\n",
        "#Progate\n",
        "#駆け出しエンジニアと繋がりたい\"\"\",\n",
        "\"\"\"\n",
        "今日から、100 #numpy  exercisesを始めます！\n",
        "何か勉強してないと落ち着かない勉強中毒になりつつある...\n",
        "\n",
        "1. Import the numpy package under the name np\n",
        "\n",
        "import numpy as np\n",
        "\n",
        "#python\n",
        "#プログラミング初心者\n",
        "#Progate\n",
        "#駆け出しエンジニアと繋がりたい\"\"\",\n",
        "\"\"\"\n",
        "自分は何のために休日も個人開発や書籍書いてるんだろうって思ってたら、竹花さんのスピーチ見つけた。\n",
        "\n",
        "「好きなことして得た3000円の価値は、好きじゃないことして得た30万円よりも大きい。」\n",
        "\n",
        "https://youtube.com/watch?v=duv1D2-v4Uc\n",
        "\n",
        "#python\n",
        "#プログラミング初心者\n",
        "#Progate\n",
        "#駆け出しエンジニアと繋がりたい\"\"\",\n",
        "\"\"\"\n",
        "#JDLA #G検定　2週間後に受けようと思っていて黒本も白本も終わった方はこちらで腕試ししてみてください！\n",
        "\n",
        "あと一点で合格ということがないように！\n",
        "\n",
        "225問本番の形式で受けれるサイトです。\n",
        "\n",
        "http://bit.ly/2QfvJwO\n",
        "\n",
        "http://amzn.to/2znu2Wp（模試解説）\n",
        "\n",
        "#駆け出しエンジニアと繋がりたい\"\"\"]\n",
        "print(len(tw_strings))\n"
      ],
      "execution_count": null,
      "outputs": [
        {
          "output_type": "stream",
          "text": [
            "5\n"
          ],
          "name": "stdout"
        }
      ]
    },
    {
      "cell_type": "code",
      "metadata": {
        "id": "1OPIJP9g3ANT",
        "outputId": "e1d1844f-58ef-4f97-d134-37cadb2b9890",
        "colab": {
          "base_uri": "https://localhost:8080/",
          "height": 34
        }
      },
      "source": [
        "len([s for s in tw_strings if \"#プログラミング初心者\" in s])"
      ],
      "execution_count": null,
      "outputs": [
        {
          "output_type": "execute_result",
          "data": {
            "text/plain": [
              "4"
            ]
          },
          "metadata": {
            "tags": []
          },
          "execution_count": 4
        }
      ]
    },
    {
      "cell_type": "code",
      "metadata": {
        "id": "Pn-75dTr3AOo",
        "outputId": "77434c0b-e380-4342-f39a-fd80ff98fcde",
        "colab": {
          "base_uri": "https://localhost:8080/",
          "height": 34
        }
      },
      "source": [
        "\"\"\"\n",
        "l = []\n",
        "for i in [1,2,3,4,5]:\n",
        "  l.append(i+1)\n",
        "print(l)\n",
        "\"\"\"\n",
        "\n",
        "l = [i+1 for i in [1,2,3,4,5]]\n",
        "l"
      ],
      "execution_count": null,
      "outputs": [
        {
          "output_type": "execute_result",
          "data": {
            "text/plain": [
              "[2, 3, 4, 5, 6]"
            ]
          },
          "metadata": {
            "tags": []
          },
          "execution_count": 5
        }
      ]
    },
    {
      "cell_type": "markdown",
      "metadata": {
        "id": "DVeF6C1P7CgP"
      },
      "source": [
        "2\n"
      ]
    },
    {
      "cell_type": "code",
      "metadata": {
        "id": "oYOEL6Ml3ARI",
        "outputId": "3d3b7e6c-8d77-4f46-aeac-7583452f0ce0",
        "colab": {
          "base_uri": "https://localhost:8080/",
          "height": 34
        }
      },
      "source": [
        "[len(i) for i in tw_strings]"
      ],
      "execution_count": null,
      "outputs": [
        {
          "output_type": "execute_result",
          "data": {
            "text/plain": [
              "[142, 177, 177, 183, 169]"
            ]
          },
          "metadata": {
            "tags": []
          },
          "execution_count": 6
        }
      ]
    },
    {
      "cell_type": "markdown",
      "metadata": {
        "id": "V2cH6H3-7HGw"
      },
      "source": [
        "3"
      ]
    },
    {
      "cell_type": "code",
      "metadata": {
        "id": "mxg-DIyN6HH7",
        "outputId": "47f332b1-5317-4494-f992-31cd939ca1e7",
        "colab": {
          "base_uri": "https://localhost:8080/",
          "height": 54
        }
      },
      "source": [
        "div_tw = []\n",
        "for tw in tw_strings:\n",
        "  tw = tw.split(\"\\n\")\n",
        "  div_tw += [t for t in tw if t!=\"\"]\n",
        "print(div_tw[0:5])"
      ],
      "execution_count": null,
      "outputs": [
        {
          "output_type": "stream",
          "text": [
            "['今日から、100 #numpy  exercisesを始めます！', '3. Create a null vector of size 10', 'a = np.zeros(10)', 'print(a)', '#python']\n"
          ],
          "name": "stdout"
        }
      ]
    },
    {
      "cell_type": "code",
      "metadata": {
        "id": "mEYEPHEpJrki",
        "outputId": "83440248-dd87-4ba6-9eba-ab988a548e77",
        "colab": {
          "base_uri": "https://localhost:8080/",
          "height": 122
        }
      },
      "source": [
        "for tw in tw_strings:\n",
        "  tw = tw.split(\"\\n\")\n",
        "  print(tw)"
      ],
      "execution_count": null,
      "outputs": [
        {
          "output_type": "stream",
          "text": [
            "['', '今日から、100 #numpy  exercisesを始めます！', '3. Create a null vector of size 10', '', 'a = np.zeros(10)', 'print(a)', '', '#python', '#プログラミング初心者', '#Progate', '#駆け出しエンジニアと繋がりたい']\n",
            "['', '今日から、100 #numpy  exercisesを始めます！', '', '2. Print the numpy version and the configuration', '', 'print(np.__version__)', 'print(np.show_config())', '', '#python', '#プログラミング初心者', '#Progate', '#駆け出しエンジニアと繋がりたい']\n",
            "['', '今日から、100 #numpy  exercisesを始めます！', '何か勉強してないと落ち着かない勉強中毒になりつつある...', '', '1. Import the numpy package under the name np', '', 'import numpy as np', '', '#python', '#プログラミング初心者', '#Progate', '#駆け出しエンジニアと繋がりたい']\n",
            "['', '自分は何のために休日も個人開発や書籍書いてるんだろうって思ってたら、竹花さんのスピーチ見つけた。', '', '「好きなことして得た3000円の価値は、好きじゃないことして得た30万円よりも大きい。」', '', 'https://youtube.com/watch?v=duv1D2-v4Uc', '', '#python', '#プログラミング初心者', '#Progate', '#駆け出しエンジニアと繋がりたい']\n",
            "['', '#JDLA #G検定\\u30002週間後に受けようと思っていて黒本も白本も終わった方はこちらで腕試ししてみてください！', '', 'あと一点で合格ということがないように！', '', '225問本番の形式で受けれるサイトです。', '', 'http://bit.ly/2QfvJwO', '', 'http://amzn.to/2znu2Wp（模試解説）', '', '#駆け出しエンジニアと繋がりたい']\n"
          ],
          "name": "stdout"
        }
      ]
    },
    {
      "cell_type": "code",
      "metadata": {
        "id": "rGvPR-bm6HLA",
        "outputId": "08ca6405-a96e-4d9f-bfee-3066e2ef1a6e",
        "colab": {
          "base_uri": "https://localhost:8080/",
          "height": 34
        }
      },
      "source": [
        "a = [1,2,3,4,5]\n",
        "b = [6,7,8]\n",
        "a += b\n",
        "a"
      ],
      "execution_count": null,
      "outputs": [
        {
          "output_type": "execute_result",
          "data": {
            "text/plain": [
              "[1, 2, 3, 4, 5, 6, 7, 8]"
            ]
          },
          "metadata": {
            "tags": []
          },
          "execution_count": 8
        }
      ]
    },
    {
      "cell_type": "markdown",
      "metadata": {
        "id": "YPDueK2u-mji"
      },
      "source": [
        "4"
      ]
    },
    {
      "cell_type": "code",
      "metadata": {
        "id": "z1dAvcd23AT_",
        "outputId": "fd15e5db-21ac-4809-ba5d-933895610c1c",
        "colab": {
          "base_uri": "https://localhost:8080/",
          "height": 34
        }
      },
      "source": [
        "r = \"\".join(tw_strings)\n",
        "f = 0\n",
        "idx = []\n",
        "for s in range(len(r)):\n",
        "  if r[s]==\"#\":\n",
        "    f = 1\n",
        "    idx.append(s)\n",
        "  elif f==1 and (r[s]==\" \" or r[s]==\"\\n\" or r[s]==\"　\"):\n",
        "    f = 0\n",
        "    idx.append(s)\n",
        "idx.append(len(tw_strings))\n",
        "\n",
        "hash = []\n",
        "for i in range(0, len(idx), 2):\n",
        "  a, b = idx[i], idx[i+1]\n",
        "  hash.append(r[a+1:b])\n",
        "print(set(hash))"
      ],
      "execution_count": null,
      "outputs": [
        {
          "output_type": "stream",
          "text": [
            "{'numpy', '', 'python', 'JDLA', 'Progate', '駆け出しエンジニアと繋がりたい', 'プログラミング初心者', 'G検定'}\n"
          ],
          "name": "stdout"
        }
      ]
    },
    {
      "cell_type": "code",
      "metadata": {
        "id": "yr72Nbt2-o9H",
        "outputId": "8dd0d948-624b-4d56-d969-f3c32a36c0c9",
        "colab": {
          "base_uri": "https://localhost:8080/",
          "height": 222
        }
      },
      "source": [
        "r"
      ],
      "execution_count": null,
      "outputs": [
        {
          "output_type": "execute_result",
          "data": {
            "application/vnd.google.colaboratory.intrinsic+json": {
              "type": "string"
            },
            "text/plain": [
              "'\\n今日から、100 #numpy  exercisesを始めます！\\n3. Create a null vector of size 10\\n\\na = np.zeros(10)\\nprint(a)\\n\\n#python\\n#プログラミング初心者\\n#Progate\\n#駆け出しエンジニアと繋がりたい\\n今日から、100 #numpy  exercisesを始めます！\\n\\n2. Print the numpy version and the configuration\\n\\nprint(np.__version__)\\nprint(np.show_config())\\n\\n#python\\n#プログラミング初心者\\n#Progate\\n#駆け出しエンジニアと繋がりたい\\n今日から、100 #numpy  exercisesを始めます！\\n何か勉強してないと落ち着かない勉強中毒になりつつある...\\n\\n1. Import the numpy package under the name np\\n\\nimport numpy as np\\n\\n#python\\n#プログラミング初心者\\n#Progate\\n#駆け出しエンジニアと繋がりたい\\n自分は何のために休日も個人開発や書籍書いてるんだろうって思ってたら、竹花さんのスピーチ見つけた。\\n\\n「好きなことして得た3000円の価値は、好きじゃないことして得た30万円よりも大きい。」\\n\\nhttps://youtube.com/watch?v=duv1D2-v4Uc\\n\\n#python\\n#プログラミング初心者\\n#Progate\\n#駆け出しエンジニアと繋がりたい\\n#JDLA #G検定\\u30002週間後に受けようと思っていて黒本も白本も終わった方はこちらで腕試ししてみてください！\\n\\nあと一点で合格ということがないように！\\n\\n225問本番の形式で受けれるサイトです。\\n\\nhttp://bit.ly/2QfvJwO\\n\\nhttp://amzn.to/2znu2Wp（模試解説）\\n\\n#駆け出しエンジニアと繋がりたい'"
            ]
          },
          "metadata": {
            "tags": []
          },
          "execution_count": 10
        }
      ]
    },
    {
      "cell_type": "code",
      "metadata": {
        "id": "D4hVycyH-pDn",
        "outputId": "7b100e82-6b3d-4127-fe5b-9857ed97c959",
        "colab": {
          "base_uri": "https://localhost:8080/",
          "height": 54
        }
      },
      "source": [
        "r = \"\".join(tw_strings)\n",
        "hash = []\n",
        "while True:\n",
        "  k = r.find(\"#\")\n",
        "  if k==-1:\n",
        "    break\n",
        "  l0 = r[k:].find(\" \")\n",
        "  l1 = r[k:].find(\"\\n\")\n",
        "  l2 = r[k:].find(\"　\")\n",
        "  if l0==l1==l2==-1:\n",
        "    hash.append(r[k+1:])\n",
        "    break\n",
        "  end = k + min([idx for idx in [l0, l1, l2] if idx!=-1])\n",
        "  hash.append(r[k+1:end])\n",
        "  r = r[end:]\n",
        "print(hash)"
      ],
      "execution_count": null,
      "outputs": [
        {
          "output_type": "stream",
          "text": [
            "['numpy', 'python', 'プログラミング初心者', 'Progate', '駆け出しエンジニアと繋がりたい', 'numpy', 'python', 'プログラミング初心者', 'Progate', '駆け出しエンジニアと繋がりたい', 'numpy', 'python', 'プログラミング初心者', 'Progate', '駆け出しエンジニアと繋がりたい', 'python', 'プログラミング初心者', 'Progate', '駆け出しエンジニアと繋がりたい', 'JDLA', 'G検定', '駆け出しエンジニアと繋がりたい']\n"
          ],
          "name": "stdout"
        }
      ]
    },
    {
      "cell_type": "markdown",
      "metadata": {
        "id": "2yhBpcBMLSCw"
      },
      "source": [
        "5"
      ]
    },
    {
      "cell_type": "code",
      "metadata": {
        "id": "574TuAu8-pGv",
        "outputId": "0ce3ea35-add1-4179-a1a2-7e200d2140d9",
        "colab": {
          "base_uri": "https://localhost:8080/",
          "height": 51
        }
      },
      "source": [
        "def get_url(tw_strings, http: bool):\n",
        "  r = \"\".join(tw_strings)\n",
        "  hash = []\n",
        "  if http:\n",
        "    target = \"http://\"\n",
        "  else:\n",
        "    target = \"https://\"\n",
        "  while True:\n",
        "    k = r.find(target)\n",
        "    if k==-1:\n",
        "      break\n",
        "    l = r[k:].find(\" \")\n",
        "    m = r[k:].find(\"\\n\")\n",
        "    n = r[k:].find(\"　\")\n",
        "    o = r[k:].find(\"（\")\n",
        "    if l==m==n==o==-1:\n",
        "      hash.append(r[k:])\n",
        "      break\n",
        "    end = k + min(id for id in [l, m, n, o] if id!=-1)\n",
        "    hash.append(r[k:end])\n",
        "    r = r[end:]\n",
        "  return set(hash)\n",
        "print(get_url(tw_strings, 1))\n",
        "print(get_url(tw_strings, 0))"
      ],
      "execution_count": null,
      "outputs": [
        {
          "output_type": "stream",
          "text": [
            "{'http://amzn.to/2znu2Wp', 'http://bit.ly/2QfvJwO'}\n",
            "{'https://youtube.com/watch?v=duv1D2-v4Uc'}\n"
          ],
          "name": "stdout"
        }
      ]
    },
    {
      "cell_type": "markdown",
      "metadata": {
        "id": "qKedaCOBDwqz"
      },
      "source": [
        "6"
      ]
    },
    {
      "cell_type": "code",
      "metadata": {
        "id": "hFQCO3Eb-pJf",
        "outputId": "5d0f0e88-7828-4521-d76e-ff58794af149",
        "colab": {
          "base_uri": "https://localhost:8080/",
          "height": 54
        }
      },
      "source": [
        "def two_gram(s):\n",
        "  return [(s[i], s[i+1]) for i in range(len(s)) if i+1 < len(s)]\n",
        "print(two_gram(tw_strings[0]))"
      ],
      "execution_count": null,
      "outputs": [
        {
          "output_type": "stream",
          "text": [
            "[('\\n', '今'), ('今', '日'), ('日', 'か'), ('か', 'ら'), ('ら', '、'), ('、', '1'), ('1', '0'), ('0', '0'), ('0', ' '), (' ', '#'), ('#', 'n'), ('n', 'u'), ('u', 'm'), ('m', 'p'), ('p', 'y'), ('y', ' '), (' ', ' '), (' ', 'e'), ('e', 'x'), ('x', 'e'), ('e', 'r'), ('r', 'c'), ('c', 'i'), ('i', 's'), ('s', 'e'), ('e', 's'), ('s', 'を'), ('を', '始'), ('始', 'め'), ('め', 'ま'), ('ま', 'す'), ('す', '！'), ('！', '\\n'), ('\\n', '3'), ('3', '.'), ('.', ' '), (' ', 'C'), ('C', 'r'), ('r', 'e'), ('e', 'a'), ('a', 't'), ('t', 'e'), ('e', ' '), (' ', 'a'), ('a', ' '), (' ', 'n'), ('n', 'u'), ('u', 'l'), ('l', 'l'), ('l', ' '), (' ', 'v'), ('v', 'e'), ('e', 'c'), ('c', 't'), ('t', 'o'), ('o', 'r'), ('r', ' '), (' ', 'o'), ('o', 'f'), ('f', ' '), (' ', 's'), ('s', 'i'), ('i', 'z'), ('z', 'e'), ('e', ' '), (' ', '1'), ('1', '0'), ('0', '\\n'), ('\\n', '\\n'), ('\\n', 'a'), ('a', ' '), (' ', '='), ('=', ' '), (' ', 'n'), ('n', 'p'), ('p', '.'), ('.', 'z'), ('z', 'e'), ('e', 'r'), ('r', 'o'), ('o', 's'), ('s', '('), ('(', '1'), ('1', '0'), ('0', ')'), (')', '\\n'), ('\\n', 'p'), ('p', 'r'), ('r', 'i'), ('i', 'n'), ('n', 't'), ('t', '('), ('(', 'a'), ('a', ')'), (')', '\\n'), ('\\n', '\\n'), ('\\n', '#'), ('#', 'p'), ('p', 'y'), ('y', 't'), ('t', 'h'), ('h', 'o'), ('o', 'n'), ('n', '\\n'), ('\\n', '#'), ('#', 'プ'), ('プ', 'ロ'), ('ロ', 'グ'), ('グ', 'ラ'), ('ラ', 'ミ'), ('ミ', 'ン'), ('ン', 'グ'), ('グ', '初'), ('初', '心'), ('心', '者'), ('者', '\\n'), ('\\n', '#'), ('#', 'P'), ('P', 'r'), ('r', 'o'), ('o', 'g'), ('g', 'a'), ('a', 't'), ('t', 'e'), ('e', '\\n'), ('\\n', '#'), ('#', '駆'), ('駆', 'け'), ('け', '出'), ('出', 'し'), ('し', 'エ'), ('エ', 'ン'), ('ン', 'ジ'), ('ジ', 'ニ'), ('ニ', 'ア'), ('ア', 'と'), ('と', '繋'), ('繋', 'が'), ('が', 'り'), ('り', 'た'), ('た', 'い')]\n"
          ],
          "name": "stdout"
        }
      ]
    },
    {
      "cell_type": "code",
      "metadata": {
        "id": "m0029n0u-pMm",
        "outputId": "6cce7dc4-bd05-45f8-99a1-7675004ac14a",
        "colab": {
          "base_uri": "https://localhost:8080/",
          "height": 54
        }
      },
      "source": [
        "def ngram(s, n):\n",
        "  hash = []\n",
        "  for i in range(len(s)):\n",
        "    hash.append(s[i:i+n])\n",
        "  return hash\n",
        "print(ngram(tw_strings[0], 5)[:10])"
      ],
      "execution_count": null,
      "outputs": [
        {
          "output_type": "stream",
          "text": [
            "['\\n今日から', '今日から、', '日から、1', 'から、10', 'ら、100', '、100 ', '100 #', '00 #n', '0 #nu', ' #num']\n"
          ],
          "name": "stdout"
        }
      ]
    },
    {
      "cell_type": "code",
      "metadata": {
        "id": "LhHBtECf-pTx",
        "outputId": "bdbef1b8-7261-44b1-c716-3a8d26a34707",
        "colab": {
          "base_uri": "https://localhost:8080/",
          "height": 221
        }
      },
      "source": [
        "def ngram(n, s):\n",
        "  ngram = []\n",
        "  for i in range(len(s)):\n",
        "    if i+n>=len(s):\n",
        "      break\n",
        "    tpl = ()\n",
        "    for j in range(n):\n",
        "      tpl += (s[i+j],)\n",
        "    ngram.append(tpl)\n",
        "  return ngram\n",
        "s = \"新型コロナのワクチンが早く欲しい\"\n",
        "ngram(4, s)"
      ],
      "execution_count": null,
      "outputs": [
        {
          "output_type": "execute_result",
          "data": {
            "text/plain": [
              "[('新', '型', 'コ', 'ロ'),\n",
              " ('型', 'コ', 'ロ', 'ナ'),\n",
              " ('コ', 'ロ', 'ナ', 'の'),\n",
              " ('ロ', 'ナ', 'の', 'ワ'),\n",
              " ('ナ', 'の', 'ワ', 'ク'),\n",
              " ('の', 'ワ', 'ク', 'チ'),\n",
              " ('ワ', 'ク', 'チ', 'ン'),\n",
              " ('ク', 'チ', 'ン', 'が'),\n",
              " ('チ', 'ン', 'が', '早'),\n",
              " ('ン', 'が', '早', 'く'),\n",
              " ('が', '早', 'く', '欲'),\n",
              " ('早', 'く', '欲', 'し')]"
            ]
          },
          "metadata": {
            "tags": []
          },
          "execution_count": 40
        }
      ]
    },
    {
      "cell_type": "markdown",
      "metadata": {
        "id": "gUbby080T3M5"
      },
      "source": [
        "7"
      ]
    },
    {
      "cell_type": "code",
      "metadata": {
        "id": "n9BNTAkD-pc2"
      },
      "source": [
        "def split_n(s):\n",
        "  div_tw = []\n",
        "  for tw in s:\n",
        "    tw = tw.split(\"\\n\")\n",
        "    div_tw += [t for t in tw if t!=\"\"]\n",
        "  return div_tw\n",
        "\n",
        "def get_tags(s):\n",
        "  r = \"\".join(s)\n",
        "  hash = []\n",
        "  while True:\n",
        "    k = r.find(\"#\")\n",
        "    if k==-1:\n",
        "      break\n",
        "    l, m, n, o = r.find(\"\\n\"), r.find(\" \"), r.find(\"　\"), r.find(\"（\")\n",
        "    if l==m==n==o==-1:\n",
        "      return r[k:]\n",
        "    end = k+min(id for id in [l,m,n,o] if id!=-1)\n",
        "    hash.append(r[k+1:end])\n",
        "    r = r[end:]\n",
        "  return set(hash)\n",
        "def get_url(tw_strings):\n",
        "  r = \"\".join(tw_strings)\n",
        "  hash = []\n",
        "  target = \"http\"\n",
        "  while True:\n",
        "    k = r.find(target)\n",
        "    if k==-1:\n",
        "      break\n",
        "    l = r[k:].find(\" \")\n",
        "    m = r[k:].find(\"\\n\")\n",
        "    n = r[k:].find(\"　\")\n",
        "    o = r[k:].find(\"（\")\n",
        "    if l==m==n==o==-1:\n",
        "      hash.append(r[k:])\n",
        "      break\n",
        "    end = k + min(id for id in [l, m, n, o] if id!=-1)\n",
        "    hash.append(r[k:end])\n",
        "    r = r[end:]\n",
        "  return set(hash)\n",
        "def exclude(s, lst):\n",
        "  for ex in lst:\n",
        "    s = s.replace(ex, \"\")\n",
        "  return s\n",
        "tw_lst = split_n(tw_strings)\n",
        "tags = get_tags(tw_strings)\n",
        "urls = get_url(tw_strings)\n",
        "remove_symbols = ['\\n', '.', '=', ' ', '　', '#', '(', ')', '-', '/', ':', '?', '、', '「', '」', '_', '！', '0', '1', '2', '3', '4', '5', '6', '7', '8', '9']\n",
        "remove_lower_alphabet = ['a', 'b', 'c', 'd', 'e', 'f', 'g', 'h', 'i', 'j', 'k', 'l', 'm', 'n', 'o', 'p', 'q', 'r', 's', 't', 'u', 'v', 'w', 'x', 'y', 'z']\n",
        "remove_upper_alphabet = ['A', 'B', 'C', 'C', 'E', 'F', 'G', 'H', 'I', 'J', 'K', 'L', 'M', 'N', 'O', 'P', 'Q', 'R', 'S', 'T', 'U', 'V', 'W', 'X', 'Y', 'Z']\n"
      ],
      "execution_count": null,
      "outputs": []
    },
    {
      "cell_type": "code",
      "metadata": {
        "id": "f7kB3YPT3AWc",
        "outputId": "f793a3d2-6af2-4b8c-9c91-38bc35401e20",
        "colab": {
          "base_uri": "https://localhost:8080/",
          "height": 1000
        }
      },
      "source": [
        "grams = []\n",
        "for tw in tw_lst:\n",
        "  tw = exclude(tw, urls)\n",
        "  tw = exclude(tw, tags)\n",
        "  tw = exclude(tw, remove_lower_alphabet)\n",
        "  tw = exclude(tw, remove_symbols)\n",
        "  tw = exclude(tw, remove_upper_alphabet)\n",
        "  if tw:\n",
        "    grams += ngram(5, tw)\n",
        "dic = {}\n",
        "for gram in grams:\n",
        "  if gram not in dic:\n",
        "    dic[gram] = 1\n",
        "  else:\n",
        "    dic[gram] += 1\n",
        "sorted(dic.items(), key=lambda x: -x[1])"
      ],
      "execution_count": null,
      "outputs": [
        {
          "output_type": "execute_result",
          "data": {
            "text/plain": [
              "[(('プ', 'ロ', 'グ', 'ラ', 'ミ'), 4),\n",
              " (('ロ', 'グ', 'ラ', 'ミ', 'グ'), 4),\n",
              " (('グ', 'ラ', 'ミ', 'グ', '初'), 4),\n",
              " (('ラ', 'ミ', 'グ', '初', '心'), 4),\n",
              " (('今', '日', 'か', 'ら', 'を'), 3),\n",
              " (('日', 'か', 'ら', 'を', '始'), 3),\n",
              " (('か', 'ら', 'を', '始', 'め'), 3),\n",
              " (('ら', 'を', '始', 'め', 'ま'), 3),\n",
              " (('何', 'か', '勉', '強', 'て'), 1),\n",
              " (('か', '勉', '強', 'て', 'な'), 1),\n",
              " (('勉', '強', 'て', 'な', '落'), 1),\n",
              " (('強', 'て', 'な', '落', 'ち'), 1),\n",
              " (('て', 'な', '落', 'ち', '着'), 1),\n",
              " (('な', '落', 'ち', '着', 'か'), 1),\n",
              " (('落', 'ち', '着', 'か', 'な'), 1),\n",
              " (('ち', '着', 'か', 'な', '勉'), 1),\n",
              " (('着', 'か', 'な', '勉', '強'), 1),\n",
              " (('か', 'な', '勉', '強', '中'), 1),\n",
              " (('な', '勉', '強', '中', '毒'), 1),\n",
              " (('勉', '強', '中', '毒', 'に'), 1),\n",
              " (('強', '中', '毒', 'に', 'な'), 1),\n",
              " (('中', '毒', 'に', 'な', 'つ'), 1),\n",
              " (('毒', 'に', 'な', 'つ', 'つ'), 1),\n",
              " (('に', 'な', 'つ', 'つ', 'あ'), 1),\n",
              " (('自', '分', 'は', '何', 'の'), 1),\n",
              " (('分', 'は', '何', 'の', 'め'), 1),\n",
              " (('は', '何', 'の', 'め', 'に'), 1),\n",
              " (('何', 'の', 'め', 'に', '休'), 1),\n",
              " (('の', 'め', 'に', '休', '日'), 1),\n",
              " (('め', 'に', '休', '日', 'も'), 1),\n",
              " (('に', '休', '日', 'も', '個'), 1),\n",
              " (('休', '日', 'も', '個', '人'), 1),\n",
              " (('日', 'も', '個', '人', '開'), 1),\n",
              " (('も', '個', '人', '開', '発'), 1),\n",
              " (('個', '人', '開', '発', 'や'), 1),\n",
              " (('人', '開', '発', 'や', '書'), 1),\n",
              " (('開', '発', 'や', '書', '籍'), 1),\n",
              " (('発', 'や', '書', '籍', '書'), 1),\n",
              " (('や', '書', '籍', '書', 'て'), 1),\n",
              " (('書', '籍', '書', 'て', 'る'), 1),\n",
              " (('籍', '書', 'て', 'る', 'ん'), 1),\n",
              " (('書', 'て', 'る', 'ん', 'だ'), 1),\n",
              " (('て', 'る', 'ん', 'だ', 'ろ'), 1),\n",
              " (('る', 'ん', 'だ', 'ろ', 'う'), 1),\n",
              " (('ん', 'だ', 'ろ', 'う', 'っ'), 1),\n",
              " (('だ', 'ろ', 'う', 'っ', 'て'), 1),\n",
              " (('ろ', 'う', 'っ', 'て', '思'), 1),\n",
              " (('う', 'っ', 'て', '思', 'っ'), 1),\n",
              " (('っ', 'て', '思', 'っ', 'て'), 1),\n",
              " (('て', '思', 'っ', 'て', 'ら'), 1),\n",
              " (('思', 'っ', 'て', 'ら', '竹'), 1),\n",
              " (('っ', 'て', 'ら', '竹', '花'), 1),\n",
              " (('て', 'ら', '竹', '花', 'さ'), 1),\n",
              " (('ら', '竹', '花', 'さ', 'ん'), 1),\n",
              " (('竹', '花', 'さ', 'ん', 'の'), 1),\n",
              " (('花', 'さ', 'ん', 'の', 'ス'), 1),\n",
              " (('さ', 'ん', 'の', 'ス', 'ピ'), 1),\n",
              " (('ん', 'の', 'ス', 'ピ', 'ー'), 1),\n",
              " (('の', 'ス', 'ピ', 'ー', 'チ'), 1),\n",
              " (('ス', 'ピ', 'ー', 'チ', '見'), 1),\n",
              " (('ピ', 'ー', 'チ', '見', 'つ'), 1),\n",
              " (('好', 'き', 'な', 'こ', 'て'), 1),\n",
              " (('き', 'な', 'こ', 'て', '得'), 1),\n",
              " (('な', 'こ', 'て', '得', '円'), 1),\n",
              " (('こ', 'て', '得', '円', 'の'), 1),\n",
              " (('て', '得', '円', 'の', '価'), 1),\n",
              " (('得', '円', 'の', '価', '値'), 1),\n",
              " (('円', 'の', '価', '値', 'は'), 1),\n",
              " (('の', '価', '値', 'は', '好'), 1),\n",
              " (('価', '値', 'は', '好', 'き'), 1),\n",
              " (('値', 'は', '好', 'き', 'じ'), 1),\n",
              " (('は', '好', 'き', 'じ', 'ゃ'), 1),\n",
              " (('好', 'き', 'じ', 'ゃ', 'な'), 1),\n",
              " (('き', 'じ', 'ゃ', 'な', 'こ'), 1),\n",
              " (('じ', 'ゃ', 'な', 'こ', 'て'), 1),\n",
              " (('ゃ', 'な', 'こ', 'て', '得'), 1),\n",
              " (('な', 'こ', 'て', '得', '万'), 1),\n",
              " (('こ', 'て', '得', '万', '円'), 1),\n",
              " (('て', '得', '万', '円', 'よ'), 1),\n",
              " (('得', '万', '円', 'よ', 'も'), 1),\n",
              " (('万', '円', 'よ', 'も', '大'), 1),\n",
              " (('円', 'よ', 'も', '大', 'き'), 1),\n",
              " (('D', '検', '定', '週', '間'), 1),\n",
              " (('検', '定', '週', '間', '後'), 1),\n",
              " (('定', '週', '間', '後', 'に'), 1),\n",
              " (('週', '間', '後', 'に', '受'), 1),\n",
              " (('間', '後', 'に', '受', 'よ'), 1),\n",
              " (('後', 'に', '受', 'よ', 'う'), 1),\n",
              " (('に', '受', 'よ', 'う', '思'), 1),\n",
              " (('受', 'よ', 'う', '思', 'っ'), 1),\n",
              " (('よ', 'う', '思', 'っ', 'て'), 1),\n",
              " (('う', '思', 'っ', 'て', 'て'), 1),\n",
              " (('思', 'っ', 'て', 'て', '黒'), 1),\n",
              " (('っ', 'て', 'て', '黒', '本'), 1),\n",
              " (('て', 'て', '黒', '本', 'も'), 1),\n",
              " (('て', '黒', '本', 'も', '白'), 1),\n",
              " (('黒', '本', 'も', '白', '本'), 1),\n",
              " (('本', 'も', '白', '本', 'も'), 1),\n",
              " (('も', '白', '本', 'も', '終'), 1),\n",
              " (('白', '本', 'も', '終', 'わ'), 1),\n",
              " (('本', 'も', '終', 'わ', 'っ'), 1),\n",
              " (('も', '終', 'わ', 'っ', '方'), 1),\n",
              " (('終', 'わ', 'っ', '方', 'は'), 1),\n",
              " (('わ', 'っ', '方', 'は', 'こ'), 1),\n",
              " (('っ', '方', 'は', 'こ', 'ち'), 1),\n",
              " (('方', 'は', 'こ', 'ち', 'ら'), 1),\n",
              " (('は', 'こ', 'ち', 'ら', 'で'), 1),\n",
              " (('こ', 'ち', 'ら', 'で', '腕'), 1),\n",
              " (('ち', 'ら', 'で', '腕', '試'), 1),\n",
              " (('ら', 'で', '腕', '試', 'て'), 1),\n",
              " (('で', '腕', '試', 'て', 'み'), 1),\n",
              " (('腕', '試', 'て', 'み', 'て'), 1),\n",
              " (('試', 'て', 'み', 'て', 'く'), 1),\n",
              " (('て', 'み', 'て', 'く', 'だ'), 1),\n",
              " (('あ', '一', '点', 'で', '合'), 1),\n",
              " (('一', '点', 'で', '合', '格'), 1),\n",
              " (('点', 'で', '合', '格', 'う'), 1),\n",
              " (('で', '合', '格', 'う', 'こ'), 1),\n",
              " (('合', '格', 'う', 'こ', 'な'), 1),\n",
              " (('格', 'う', 'こ', 'な', 'よ'), 1),\n",
              " (('う', 'こ', 'な', 'よ', 'う'), 1),\n",
              " (('問', '本', '番', 'の', '形'), 1),\n",
              " (('本', '番', 'の', '形', '式'), 1),\n",
              " (('番', 'の', '形', '式', 'で'), 1),\n",
              " (('の', '形', '式', 'で', '受'), 1),\n",
              " (('形', '式', 'で', '受', 'れ'), 1),\n",
              " (('式', 'で', '受', 'れ', 'る'), 1),\n",
              " (('で', '受', 'れ', 'る', 'サ'), 1),\n",
              " (('受', 'れ', 'る', 'サ', 'イ'), 1),\n",
              " (('れ', 'る', 'サ', 'イ', 'ト'), 1),\n",
              " (('る', 'サ', 'イ', 'ト', 'で'), 1),\n",
              " (('サ', 'イ', 'ト', 'で', 'す'), 1),\n",
              " (('（', '模', '試', '解', '説'), 1)]"
            ]
          },
          "metadata": {
            "tags": []
          },
          "execution_count": 60
        }
      ]
    },
    {
      "cell_type": "markdown",
      "metadata": {
        "id": "FPeqhMSET5VV"
      },
      "source": [
        "8"
      ]
    },
    {
      "cell_type": "code",
      "metadata": {
        "id": "hupV-QtaT6WV",
        "outputId": "0965525f-e819-4c83-f621-ffddb482489b",
        "colab": {
          "base_uri": "https://localhost:8080/",
          "height": 88
        }
      },
      "source": [
        "def penta_gram(s):\n",
        "  return {(s[i], s[i+1], s[i+2], s[i+3], s[i+4]) for i in range(len(s)) if i+4<len(s)}\n",
        "\n",
        "s1 = penta_gram(\"駆け出しエンジニアと繋がりたい\")\n",
        "s2 = penta_gram(\"フルスタックエンジニアと繋がりたい\")\n",
        "print(s1|s2)\n",
        "print(s1&s2)\n",
        "print(s1-s2)"
      ],
      "execution_count": null,
      "outputs": [
        {
          "output_type": "stream",
          "text": [
            "{('ル', 'ス', 'タ', 'ッ', 'ク'), ('繋', 'が', 'り', 'た', 'い'), ('エ', 'ン', 'ジ', 'ニ', 'ア'), ('と', '繋', 'が', 'り', 'た'), ('ジ', 'ニ', 'ア', 'と', '繋'), ('ニ', 'ア', 'と', '繋', 'が'), ('出', 'し', 'エ', 'ン', 'ジ'), ('け', '出', 'し', 'エ', 'ン'), ('ア', 'と', '繋', 'が', 'り'), ('駆', 'け', '出', 'し', 'エ'), ('ン', 'ジ', 'ニ', 'ア', 'と'), ('ス', 'タ', 'ッ', 'ク', 'エ'), ('タ', 'ッ', 'ク', 'エ', 'ン'), ('ク', 'エ', 'ン', 'ジ', 'ニ'), ('し', 'エ', 'ン', 'ジ', 'ニ'), ('フ', 'ル', 'ス', 'タ', 'ッ'), ('ッ', 'ク', 'エ', 'ン', 'ジ')}\n",
            "{('ニ', 'ア', 'と', '繋', 'が'), ('ア', 'と', '繋', 'が', 'り'), ('ン', 'ジ', 'ニ', 'ア', 'と'), ('繋', 'が', 'り', 'た', 'い'), ('エ', 'ン', 'ジ', 'ニ', 'ア'), ('と', '繋', 'が', 'り', 'た'), ('ジ', 'ニ', 'ア', 'と', '繋')}\n",
            "{('出', 'し', 'エ', 'ン', 'ジ'), ('け', '出', 'し', 'エ', 'ン'), ('駆', 'け', '出', 'し', 'エ'), ('し', 'エ', 'ン', 'ジ', 'ニ')}\n"
          ],
          "name": "stdout"
        }
      ]
    }
  ]
}